{
 "cells": [
  {
   "cell_type": "markdown",
   "id": "f9e7e17c",
   "metadata": {
    "execution": {
     "iopub.execute_input": "2022-10-28T19:19:39.379319Z",
     "iopub.status.busy": "2022-10-28T19:19:39.378940Z",
     "iopub.status.idle": "2022-10-28T19:19:45.937773Z",
     "shell.execute_reply": "2022-10-28T19:19:45.936774Z",
     "shell.execute_reply.started": "2022-10-28T19:19:39.379285Z"
    },
    "papermill": {
     "duration": 0.01256,
     "end_time": "2022-11-01T17:22:06.034601",
     "exception": false,
     "start_time": "2022-11-01T17:22:06.022041",
     "status": "completed"
    },
    "tags": []
   },
   "source": [
    "## Importation librarires "
   ]
  },
  {
   "cell_type": "code",
   "execution_count": 1,
   "id": "e81086e2",
   "metadata": {
    "execution": {
     "iopub.execute_input": "2022-11-01T17:22:06.059216Z",
     "iopub.status.busy": "2022-11-01T17:22:06.058675Z",
     "iopub.status.idle": "2022-11-01T17:22:18.602068Z",
     "shell.execute_reply": "2022-11-01T17:22:18.601112Z"
    },
    "papermill": {
     "duration": 12.559539,
     "end_time": "2022-11-01T17:22:18.604684",
     "exception": false,
     "start_time": "2022-11-01T17:22:06.045145",
     "status": "completed"
    },
    "tags": []
   },
   "outputs": [],
   "source": [
    "import zipfile\n",
    "import cv2\n",
    "import numpy as np\n",
    "import os \n",
    "from random import shuffle\n",
    "from tqdm import tqdm\n",
    "import glob\n",
    "import pandas as pd\n",
    "import tensorflow as tf \n",
    "from tensorflow.keras.layers import Dense, Conv2D, MaxPool2D, Flatten, BatchNormalization, Input, Activation, Dropout\n",
    "from tensorflow.keras import Model\n",
    "from tensorflow.keras.preprocessing.image import ImageDataGenerator\n",
    "import scipy\n",
    "import seaborn as sns\n",
    "from scipy import ndimage\n",
    "\n"
   ]
  },
  {
   "cell_type": "code",
   "execution_count": 2,
   "id": "3a8cd510",
   "metadata": {
    "execution": {
     "iopub.execute_input": "2022-11-01T17:22:18.627450Z",
     "iopub.status.busy": "2022-11-01T17:22:18.626227Z",
     "iopub.status.idle": "2022-11-01T17:22:18.633592Z",
     "shell.execute_reply": "2022-11-01T17:22:18.632621Z"
    },
    "papermill": {
     "duration": 0.022215,
     "end_time": "2022-11-01T17:22:18.637508",
     "exception": false,
     "start_time": "2022-11-01T17:22:18.615293",
     "status": "completed"
    },
    "tags": []
   },
   "outputs": [
    {
     "name": "stdout",
     "output_type": "stream",
     "text": [
      "1.7.3\n",
      "\n",
      "    Apply an affine transformation.\n",
      "\n",
      "    Given an output image pixel index vector ``o``, the pixel value\n",
      "    is determined from the input image at position\n",
      "    ``np.dot(matrix, o) + offset``.\n",
      "\n",
      "    This does 'pull' (or 'backward') resampling, transforming the output space\n",
      "    to the input to locate data. Affine transformations are often described in\n",
      "    the 'push' (or 'forward') direction, transforming input to output. If you\n",
      "    have a matrix for the 'push' transformation, use its inverse\n",
      "    (:func:`numpy.linalg.inv`) in this function.\n",
      "\n",
      "    Parameters\n",
      "    ----------\n",
      "    input : array_like\n",
      "        The input array.\n",
      "    matrix : ndarray\n",
      "        The inverse coordinate transformation matrix, mapping output\n",
      "        coordinates to input coordinates. If ``ndim`` is the number of\n",
      "        dimensions of ``input``, the given matrix must have one of the\n",
      "        following shapes:\n",
      "\n",
      "            - ``(ndim, ndim)``: the linear transformation matrix for each\n",
      "              output coordinate.\n",
      "            - ``(ndim,)``: assume that the 2-D transformation matrix is\n",
      "              diagonal, with the diagonal specified by the given value. A more\n",
      "              efficient algorithm is then used that exploits the separability\n",
      "              of the problem.\n",
      "            - ``(ndim + 1, ndim + 1)``: assume that the transformation is\n",
      "              specified using homogeneous coordinates [1]_. In this case, any\n",
      "              value passed to ``offset`` is ignored.\n",
      "            - ``(ndim, ndim + 1)``: as above, but the bottom row of a\n",
      "              homogeneous transformation matrix is always ``[0, 0, ..., 1]``,\n",
      "              and may be omitted.\n",
      "\n",
      "    offset : float or sequence, optional\n",
      "        The offset into the array where the transform is applied. If a float,\n",
      "        `offset` is the same for each axis. If a sequence, `offset` should\n",
      "        contain one value for each axis.\n",
      "    output_shape : tuple of ints, optional\n",
      "        Shape tuple.\n",
      "    output : array or dtype, optional\n",
      "        The array in which to place the output, or the dtype of the\n",
      "        returned array. By default an array of the same dtype as input\n",
      "        will be created.\n",
      "    order : int, optional\n",
      "        The order of the spline interpolation, default is 3.\n",
      "        The order has to be in the range 0-5.\n",
      "    mode : {'reflect', 'grid-mirror', 'constant', 'grid-constant', 'nearest',            'mirror', 'grid-wrap', 'wrap'}, optional\n",
      "        The `mode` parameter determines how the input array is extended\n",
      "        beyond its boundaries. Default is 'constant'. Behavior for each valid\n",
      "        value is as follows (see additional plots and details on\n",
      "        :ref:`boundary modes <ndimage-interpolation-modes>`):\n",
      "    \n",
      "        'reflect' (`d c b a | a b c d | d c b a`)\n",
      "            The input is extended by reflecting about the edge of the last\n",
      "            pixel. This mode is also sometimes referred to as half-sample\n",
      "            symmetric.\n",
      "    \n",
      "        'grid-mirror'\n",
      "            This is a synonym for 'reflect'.\n",
      "    \n",
      "        'constant' (`k k k k | a b c d | k k k k`)\n",
      "            The input is extended by filling all values beyond the edge with\n",
      "            the same constant value, defined by the `cval` parameter. No\n",
      "            interpolation is performed beyond the edges of the input.\n",
      "    \n",
      "        'grid-constant' (`k k k k | a b c d | k k k k`)\n",
      "            The input is extended by filling all values beyond the edge with\n",
      "            the same constant value, defined by the `cval` parameter. Interpolation\n",
      "            occurs for samples outside the input's extent  as well.\n",
      "    \n",
      "        'nearest' (`a a a a | a b c d | d d d d`)\n",
      "            The input is extended by replicating the last pixel.\n",
      "    \n",
      "        'mirror' (`d c b | a b c d | c b a`)\n",
      "            The input is extended by reflecting about the center of the last\n",
      "            pixel. This mode is also sometimes referred to as whole-sample\n",
      "            symmetric.\n",
      "    \n",
      "        'grid-wrap' (`a b c d | a b c d | a b c d`)\n",
      "            The input is extended by wrapping around to the opposite edge.\n",
      "    \n",
      "        'wrap' (`d b c d | a b c d | b c a b`)\n",
      "            The input is extended by wrapping around to the opposite edge, but in a\n",
      "            way such that the last point and initial point exactly overlap. In this\n",
      "            case it is not well defined which sample will be chosen at the point of\n",
      "            overlap.\n",
      "    cval : scalar, optional\n",
      "        Value to fill past edges of input if `mode` is 'constant'. Default\n",
      "        is 0.0.\n",
      "    prefilter : bool, optional\n",
      "        Determines if the input array is prefiltered with `spline_filter`\n",
      "        before interpolation. The default is True, which will create a\n",
      "        temporary `float64` array of filtered values if `order > 1`. If\n",
      "        setting this to False, the output will be slightly blurred if\n",
      "        `order > 1`, unless the input is prefiltered, i.e. it is the result\n",
      "        of calling `spline_filter` on the original input.\n",
      "\n",
      "    Returns\n",
      "    -------\n",
      "    affine_transform : ndarray\n",
      "        The transformed input.\n",
      "\n",
      "    Notes\n",
      "    -----\n",
      "    The given matrix and offset are used to find for each point in the\n",
      "    output the corresponding coordinates in the input by an affine\n",
      "    transformation. The value of the input at those coordinates is\n",
      "    determined by spline interpolation of the requested order. Points\n",
      "    outside the boundaries of the input are filled according to the given\n",
      "    mode.\n",
      "\n",
      "    .. versionchanged:: 0.18.0\n",
      "        Previously, the exact interpretation of the affine transformation\n",
      "        depended on whether the matrix was supplied as a 1-D or a\n",
      "        2-D array. If a 1-D array was supplied\n",
      "        to the matrix parameter, the output pixel value at index ``o``\n",
      "        was determined from the input image at position\n",
      "        ``matrix * (o + offset)``.\n",
      "\n",
      "    For complex-valued `input`, this function transforms the real and imaginary\n",
      "    components independently.\n",
      "\n",
      "    .. versionadded:: 1.6.0\n",
      "        Complex-valued support added.\n",
      "\n",
      "    References\n",
      "    ----------\n",
      "    .. [1] https://en.wikipedia.org/wiki/Homogeneous_coordinates\n",
      "    \n"
     ]
    }
   ],
   "source": [
    "try:\n",
    "    import scipy\n",
    "    print(scipy.__version__)\n",
    "    print(ndimage.affine_transform.__doc__)\n",
    "    from scipy import ndimage \n",
    "except ImportError as e:\n",
    "    print ('test .....', e)\n",
    "    scipy = None\n",
    "\n",
    "\n"
   ]
  },
  {
   "cell_type": "code",
   "execution_count": 3,
   "id": "1b5138fe",
   "metadata": {
    "execution": {
     "iopub.execute_input": "2022-11-01T17:22:18.659090Z",
     "iopub.status.busy": "2022-11-01T17:22:18.658267Z",
     "iopub.status.idle": "2022-11-01T17:22:18.666331Z",
     "shell.execute_reply": "2022-11-01T17:22:18.664823Z"
    },
    "papermill": {
     "duration": 0.021575,
     "end_time": "2022-11-01T17:22:18.668957",
     "exception": false,
     "start_time": "2022-11-01T17:22:18.647382",
     "status": "completed"
    },
    "tags": []
   },
   "outputs": [
    {
     "name": "stdout",
     "output_type": "stream",
     "text": [
      "/kaggle/input/dogs-vs-cats-redux-kernels-edition/sample_submission.csv\n",
      "/kaggle/input/dogs-vs-cats-redux-kernels-edition/train.zip\n",
      "/kaggle/input/dogs-vs-cats-redux-kernels-edition/test.zip\n"
     ]
    }
   ],
   "source": [
    "import os\n",
    "for dirname, _, filenames in os.walk('/kaggle/input'):\n",
    "    for filename in filenames:\n",
    "        print(os.path.join(dirname, filename))"
   ]
  },
  {
   "cell_type": "markdown",
   "id": "f4e41b9e",
   "metadata": {
    "papermill": {
     "duration": 0.009941,
     "end_time": "2022-11-01T17:22:18.689589",
     "exception": false,
     "start_time": "2022-11-01T17:22:18.679648",
     "status": "completed"
    },
    "tags": []
   },
   "source": [
    "## Data importattion "
   ]
  },
  {
   "cell_type": "code",
   "execution_count": 4,
   "id": "b40f0c94",
   "metadata": {
    "execution": {
     "iopub.execute_input": "2022-11-01T17:22:18.711638Z",
     "iopub.status.busy": "2022-11-01T17:22:18.710777Z",
     "iopub.status.idle": "2022-11-01T17:22:37.149057Z",
     "shell.execute_reply": "2022-11-01T17:22:37.147968Z"
    },
    "papermill": {
     "duration": 18.451971,
     "end_time": "2022-11-01T17:22:37.151669",
     "exception": false,
     "start_time": "2022-11-01T17:22:18.699698",
     "status": "completed"
    },
    "tags": []
   },
   "outputs": [],
   "source": [
    "\n",
    "## Data extraction from zip file train and test data \n",
    "train_zip='../input/dogs-vs-cats-redux-kernels-edition/train.zip'\n",
    "zip_ref=zipfile.ZipFile(train_zip,'r').extractall('./')\n",
    "\n",
    "test_zip = '../input/dogs-vs-cats-redux-kernels-edition/test.zip'\n",
    "zip_ref=zipfile.ZipFile(test_zip,'r').extractall('./')"
   ]
  },
  {
   "cell_type": "code",
   "execution_count": 5,
   "id": "c7c81724",
   "metadata": {
    "execution": {
     "iopub.execute_input": "2022-11-01T17:22:37.173859Z",
     "iopub.status.busy": "2022-11-01T17:22:37.173546Z",
     "iopub.status.idle": "2022-11-01T17:22:37.181914Z",
     "shell.execute_reply": "2022-11-01T17:22:37.181011Z"
    },
    "papermill": {
     "duration": 0.021705,
     "end_time": "2022-11-01T17:22:37.184019",
     "exception": false,
     "start_time": "2022-11-01T17:22:37.162314",
     "status": "completed"
    },
    "tags": []
   },
   "outputs": [
    {
     "name": "stdout",
     "output_type": "stream",
     "text": [
      "./train/\n",
      "./train/\n"
     ]
    }
   ],
   "source": [
    "## Definit the data path for train and test \n",
    "\n",
    "TRAIN_DIR = r'./train/'\n",
    "\n",
    "print(TRAIN_DIR)\n",
    "TEST_DIR = r'./test/'\n",
    "\n",
    "print(TRAIN_DIR)\n",
    "IMG_SIZE = 100\n",
    "LR = 1e-3 \n",
    "\n",
    "## save the model name \n",
    "MODEL_NAME = 'dogvscats--{}--{}.model'.format(LR,'conv-basic')\n",
    "\n",
    "val_loss = {}\n",
    "accuracy = {}\n"
   ]
  },
  {
   "cell_type": "code",
   "execution_count": 6,
   "id": "5a800dd4",
   "metadata": {
    "execution": {
     "iopub.execute_input": "2022-11-01T17:22:37.207262Z",
     "iopub.status.busy": "2022-11-01T17:22:37.206397Z",
     "iopub.status.idle": "2022-11-01T17:22:37.239221Z",
     "shell.execute_reply": "2022-11-01T17:22:37.238106Z"
    },
    "papermill": {
     "duration": 0.047806,
     "end_time": "2022-11-01T17:22:37.242452",
     "exception": false,
     "start_time": "2022-11-01T17:22:37.194646",
     "status": "completed"
    },
    "tags": []
   },
   "outputs": [
    {
     "data": {
      "text/plain": [
       "['dog.106.jpg',\n",
       " 'cat.6013.jpg',\n",
       " 'dog.2782.jpg',\n",
       " 'dog.1294.jpg',\n",
       " 'dog.11781.jpg',\n",
       " 'cat.283.jpg',\n",
       " 'dog.4402.jpg',\n",
       " 'cat.2768.jpg',\n",
       " 'cat.9552.jpg',\n",
       " 'dog.8796.jpg',\n",
       " 'dog.7622.jpg',\n",
       " 'dog.12082.jpg',\n",
       " 'cat.9524.jpg',\n",
       " 'cat.2160.jpg',\n",
       " 'cat.2545.jpg',\n",
       " 'dog.1925.jpg',\n",
       " 'dog.2484.jpg',\n",
       " 'dog.2109.jpg',\n",
       " 'dog.9500.jpg',\n",
       " 'cat.7382.jpg',\n",
       " 'cat.2909.jpg',\n",
       " 'dog.10378.jpg',\n",
       " 'cat.9038.jpg',\n",
       " 'cat.7934.jpg',\n",
       " 'dog.2429.jpg',\n",
       " 'dog.1503.jpg',\n",
       " 'dog.2962.jpg',\n",
       " 'dog.3390.jpg',\n",
       " 'dog.9733.jpg',\n",
       " 'dog.7417.jpg',\n",
       " 'cat.575.jpg',\n",
       " 'cat.10625.jpg',\n",
       " 'cat.3862.jpg',\n",
       " 'dog.1309.jpg',\n",
       " 'cat.12064.jpg',\n",
       " 'dog.9291.jpg',\n",
       " 'cat.1257.jpg',\n",
       " 'cat.8084.jpg',\n",
       " 'dog.3406.jpg',\n",
       " 'cat.6335.jpg',\n",
       " 'cat.8537.jpg',\n",
       " 'dog.6123.jpg',\n",
       " 'dog.5839.jpg',\n",
       " 'dog.9499.jpg',\n",
       " 'cat.8617.jpg',\n",
       " 'dog.5691.jpg',\n",
       " 'dog.3963.jpg',\n",
       " 'cat.1712.jpg',\n",
       " 'dog.2615.jpg',\n",
       " 'dog.11988.jpg',\n",
       " 'dog.4905.jpg',\n",
       " 'cat.9192.jpg',\n",
       " 'dog.12306.jpg',\n",
       " 'cat.1588.jpg',\n",
       " 'cat.5232.jpg',\n",
       " 'dog.1975.jpg',\n",
       " 'cat.9592.jpg',\n",
       " 'dog.11426.jpg',\n",
       " 'dog.419.jpg',\n",
       " 'cat.2722.jpg',\n",
       " 'dog.4947.jpg',\n",
       " 'cat.11573.jpg',\n",
       " 'cat.4837.jpg',\n",
       " 'cat.3200.jpg',\n",
       " 'dog.7735.jpg',\n",
       " 'cat.5207.jpg',\n",
       " 'dog.10761.jpg',\n",
       " 'dog.3991.jpg',\n",
       " 'cat.5767.jpg',\n",
       " 'dog.10531.jpg',\n",
       " 'cat.6745.jpg',\n",
       " 'cat.1736.jpg',\n",
       " 'cat.6882.jpg',\n",
       " 'cat.2750.jpg',\n",
       " 'dog.1192.jpg',\n",
       " 'cat.10876.jpg',\n",
       " 'dog.12319.jpg',\n",
       " 'cat.280.jpg',\n",
       " 'dog.11624.jpg',\n",
       " 'cat.10458.jpg',\n",
       " 'cat.7134.jpg',\n",
       " 'dog.9740.jpg',\n",
       " 'cat.8271.jpg',\n",
       " 'cat.5718.jpg',\n",
       " 'dog.7542.jpg',\n",
       " 'cat.9160.jpg',\n",
       " 'dog.3182.jpg',\n",
       " 'dog.62.jpg',\n",
       " 'cat.4084.jpg',\n",
       " 'dog.5628.jpg',\n",
       " 'cat.9080.jpg',\n",
       " 'cat.2161.jpg',\n",
       " 'cat.10372.jpg',\n",
       " 'cat.2606.jpg',\n",
       " 'dog.7725.jpg',\n",
       " 'dog.4030.jpg',\n",
       " 'dog.3113.jpg',\n",
       " 'cat.2114.jpg',\n",
       " 'cat.4051.jpg',\n",
       " 'dog.7522.jpg',\n",
       " 'dog.4336.jpg',\n",
       " 'dog.10733.jpg',\n",
       " 'cat.2356.jpg',\n",
       " 'dog.9483.jpg',\n",
       " 'cat.7141.jpg',\n",
       " 'dog.10361.jpg',\n",
       " 'dog.6575.jpg',\n",
       " 'cat.11924.jpg',\n",
       " 'dog.9476.jpg',\n",
       " 'dog.1189.jpg',\n",
       " 'cat.1195.jpg',\n",
       " 'dog.4679.jpg',\n",
       " 'dog.8805.jpg',\n",
       " 'cat.5388.jpg',\n",
       " 'dog.4724.jpg',\n",
       " 'cat.5459.jpg',\n",
       " 'dog.5797.jpg',\n",
       " 'cat.10884.jpg',\n",
       " 'cat.1958.jpg',\n",
       " 'dog.464.jpg',\n",
       " 'dog.9037.jpg',\n",
       " 'cat.9862.jpg',\n",
       " 'dog.10041.jpg',\n",
       " 'cat.7273.jpg',\n",
       " 'dog.9473.jpg',\n",
       " 'dog.10096.jpg',\n",
       " 'cat.1915.jpg',\n",
       " 'dog.3205.jpg',\n",
       " 'cat.12351.jpg',\n",
       " 'dog.1458.jpg',\n",
       " 'dog.10205.jpg',\n",
       " 'cat.1327.jpg',\n",
       " 'dog.6057.jpg',\n",
       " 'cat.4420.jpg',\n",
       " 'cat.11767.jpg',\n",
       " 'dog.7412.jpg',\n",
       " 'cat.875.jpg',\n",
       " 'dog.831.jpg',\n",
       " 'dog.8674.jpg',\n",
       " 'cat.2208.jpg',\n",
       " 'dog.3642.jpg',\n",
       " 'cat.2770.jpg',\n",
       " 'cat.7564.jpg',\n",
       " 'cat.9912.jpg',\n",
       " 'cat.5605.jpg',\n",
       " 'cat.2496.jpg',\n",
       " 'dog.5085.jpg',\n",
       " 'cat.611.jpg',\n",
       " 'dog.12054.jpg',\n",
       " 'dog.8949.jpg',\n",
       " 'dog.8401.jpg',\n",
       " 'dog.9485.jpg',\n",
       " 'cat.2372.jpg',\n",
       " 'cat.11091.jpg',\n",
       " 'cat.6736.jpg',\n",
       " 'dog.10286.jpg',\n",
       " 'dog.8031.jpg',\n",
       " 'dog.1616.jpg',\n",
       " 'dog.10923.jpg',\n",
       " 'dog.7598.jpg',\n",
       " 'dog.11721.jpg',\n",
       " 'cat.2825.jpg',\n",
       " 'dog.4127.jpg',\n",
       " 'dog.5615.jpg',\n",
       " 'dog.8990.jpg',\n",
       " 'cat.10474.jpg',\n",
       " 'cat.526.jpg',\n",
       " 'dog.8316.jpg',\n",
       " 'cat.8666.jpg',\n",
       " 'cat.11626.jpg',\n",
       " 'cat.10660.jpg',\n",
       " 'dog.3826.jpg',\n",
       " 'dog.2254.jpg',\n",
       " 'dog.7247.jpg',\n",
       " 'dog.1874.jpg',\n",
       " 'dog.1354.jpg',\n",
       " 'dog.8335.jpg',\n",
       " 'cat.11202.jpg',\n",
       " 'cat.9867.jpg',\n",
       " 'cat.9103.jpg',\n",
       " 'cat.7404.jpg',\n",
       " 'cat.7071.jpg',\n",
       " 'dog.11499.jpg',\n",
       " 'dog.7653.jpg',\n",
       " 'cat.8862.jpg',\n",
       " 'cat.11069.jpg',\n",
       " 'dog.1635.jpg',\n",
       " 'cat.478.jpg',\n",
       " 'dog.426.jpg',\n",
       " 'dog.8782.jpg',\n",
       " 'cat.5804.jpg',\n",
       " 'dog.3280.jpg',\n",
       " 'cat.981.jpg',\n",
       " 'cat.6322.jpg',\n",
       " 'cat.10944.jpg',\n",
       " 'dog.7424.jpg',\n",
       " 'dog.5761.jpg',\n",
       " 'cat.5839.jpg',\n",
       " 'cat.10199.jpg',\n",
       " 'dog.961.jpg',\n",
       " 'cat.11983.jpg',\n",
       " 'dog.3573.jpg',\n",
       " 'dog.10362.jpg',\n",
       " 'cat.3240.jpg',\n",
       " 'cat.5846.jpg',\n",
       " 'dog.7998.jpg',\n",
       " 'dog.446.jpg',\n",
       " 'dog.76.jpg',\n",
       " 'dog.12010.jpg',\n",
       " 'cat.5797.jpg',\n",
       " 'cat.10036.jpg',\n",
       " 'cat.7693.jpg',\n",
       " 'cat.2604.jpg',\n",
       " 'cat.7938.jpg',\n",
       " 'cat.425.jpg',\n",
       " 'dog.9125.jpg',\n",
       " 'cat.1214.jpg',\n",
       " 'cat.1865.jpg',\n",
       " 'dog.3261.jpg',\n",
       " 'cat.5958.jpg',\n",
       " 'cat.4186.jpg',\n",
       " 'cat.1941.jpg',\n",
       " 'dog.9388.jpg',\n",
       " 'dog.11863.jpg',\n",
       " 'cat.4455.jpg',\n",
       " 'cat.10217.jpg',\n",
       " 'dog.11080.jpg',\n",
       " 'cat.5828.jpg',\n",
       " 'cat.7592.jpg',\n",
       " 'cat.5741.jpg',\n",
       " 'cat.3116.jpg',\n",
       " 'cat.9255.jpg',\n",
       " 'dog.5893.jpg',\n",
       " 'dog.11296.jpg',\n",
       " 'cat.491.jpg',\n",
       " 'cat.10610.jpg',\n",
       " 'dog.8954.jpg',\n",
       " 'cat.7482.jpg',\n",
       " 'cat.3935.jpg',\n",
       " 'cat.780.jpg',\n",
       " 'cat.8830.jpg',\n",
       " 'dog.6926.jpg',\n",
       " 'cat.10238.jpg',\n",
       " 'dog.8196.jpg',\n",
       " 'dog.1374.jpg',\n",
       " 'dog.814.jpg',\n",
       " 'cat.3711.jpg',\n",
       " 'dog.7260.jpg',\n",
       " 'dog.4884.jpg',\n",
       " 'cat.12211.jpg',\n",
       " 'dog.11160.jpg',\n",
       " 'cat.8761.jpg',\n",
       " 'cat.9319.jpg',\n",
       " 'dog.193.jpg',\n",
       " 'dog.12001.jpg',\n",
       " 'cat.2990.jpg',\n",
       " 'dog.1208.jpg',\n",
       " 'dog.4831.jpg',\n",
       " 'cat.8880.jpg',\n",
       " 'cat.1673.jpg',\n",
       " 'cat.11266.jpg',\n",
       " 'cat.9560.jpg',\n",
       " 'dog.11838.jpg',\n",
       " 'dog.6828.jpg',\n",
       " 'dog.966.jpg',\n",
       " 'cat.5070.jpg',\n",
       " 'cat.10457.jpg',\n",
       " 'dog.9628.jpg',\n",
       " 'dog.6543.jpg',\n",
       " 'dog.2594.jpg',\n",
       " 'dog.12047.jpg',\n",
       " 'cat.6464.jpg',\n",
       " 'dog.2417.jpg',\n",
       " 'cat.390.jpg',\n",
       " 'cat.6933.jpg',\n",
       " 'cat.2521.jpg',\n",
       " 'cat.6901.jpg',\n",
       " 'cat.2391.jpg',\n",
       " 'cat.1793.jpg',\n",
       " 'cat.8240.jpg',\n",
       " 'cat.5134.jpg',\n",
       " 'cat.5470.jpg',\n",
       " 'cat.11812.jpg',\n",
       " 'cat.5701.jpg',\n",
       " 'cat.10462.jpg',\n",
       " 'dog.8472.jpg',\n",
       " 'cat.4669.jpg',\n",
       " 'dog.9798.jpg',\n",
       " 'cat.4951.jpg',\n",
       " 'cat.5413.jpg',\n",
       " 'dog.5244.jpg',\n",
       " 'dog.10674.jpg',\n",
       " 'cat.6551.jpg',\n",
       " 'dog.5167.jpg',\n",
       " 'cat.10401.jpg',\n",
       " 'cat.4798.jpg',\n",
       " 'dog.5243.jpg',\n",
       " 'cat.9439.jpg',\n",
       " 'dog.2409.jpg',\n",
       " 'cat.4507.jpg',\n",
       " 'cat.3118.jpg',\n",
       " 'dog.9412.jpg',\n",
       " 'dog.3622.jpg',\n",
       " 'cat.11412.jpg',\n",
       " 'dog.6058.jpg',\n",
       " 'dog.523.jpg',\n",
       " 'cat.10750.jpg',\n",
       " 'cat.8873.jpg',\n",
       " 'cat.7695.jpg',\n",
       " 'cat.3461.jpg',\n",
       " 'dog.3935.jpg',\n",
       " 'dog.5624.jpg',\n",
       " 'dog.11051.jpg',\n",
       " 'cat.8439.jpg',\n",
       " 'dog.10858.jpg',\n",
       " 'dog.4942.jpg',\n",
       " 'dog.5126.jpg',\n",
       " 'cat.11538.jpg',\n",
       " 'cat.11111.jpg',\n",
       " 'cat.3624.jpg',\n",
       " 'dog.5161.jpg',\n",
       " 'dog.7711.jpg',\n",
       " 'dog.803.jpg',\n",
       " 'dog.6710.jpg',\n",
       " 'cat.3062.jpg',\n",
       " 'cat.10607.jpg',\n",
       " 'cat.6925.jpg',\n",
       " 'dog.4285.jpg',\n",
       " 'cat.10497.jpg',\n",
       " 'cat.9218.jpg',\n",
       " 'cat.9831.jpg',\n",
       " 'cat.7750.jpg',\n",
       " 'dog.10300.jpg',\n",
       " 'cat.8958.jpg',\n",
       " 'dog.12131.jpg',\n",
       " 'cat.6658.jpg',\n",
       " 'cat.9520.jpg',\n",
       " 'dog.3404.jpg',\n",
       " 'dog.3551.jpg',\n",
       " 'dog.4880.jpg',\n",
       " 'dog.7690.jpg',\n",
       " 'dog.10804.jpg',\n",
       " 'dog.9871.jpg',\n",
       " 'cat.9887.jpg',\n",
       " 'cat.9680.jpg',\n",
       " 'cat.6070.jpg',\n",
       " 'cat.2809.jpg',\n",
       " 'dog.7696.jpg',\n",
       " 'cat.9816.jpg',\n",
       " 'cat.9148.jpg',\n",
       " 'cat.4357.jpg',\n",
       " 'dog.3410.jpg',\n",
       " 'cat.10094.jpg',\n",
       " 'dog.9724.jpg',\n",
       " 'cat.12290.jpg',\n",
       " 'dog.10473.jpg',\n",
       " 'cat.4300.jpg',\n",
       " 'dog.4200.jpg',\n",
       " 'cat.9203.jpg',\n",
       " 'cat.947.jpg',\n",
       " 'dog.11466.jpg',\n",
       " 'dog.7613.jpg',\n",
       " 'cat.9640.jpg',\n",
       " 'dog.11527.jpg',\n",
       " 'cat.5241.jpg',\n",
       " 'cat.5039.jpg',\n",
       " 'dog.7005.jpg',\n",
       " 'cat.888.jpg',\n",
       " 'cat.2255.jpg',\n",
       " 'cat.2174.jpg',\n",
       " 'cat.8700.jpg',\n",
       " 'cat.10766.jpg',\n",
       " 'cat.3187.jpg',\n",
       " 'dog.7995.jpg',\n",
       " 'dog.9747.jpg',\n",
       " 'cat.4991.jpg',\n",
       " 'dog.2206.jpg',\n",
       " 'dog.10182.jpg',\n",
       " 'dog.1211.jpg',\n",
       " 'dog.3946.jpg',\n",
       " 'cat.7200.jpg',\n",
       " 'dog.451.jpg',\n",
       " 'cat.2912.jpg',\n",
       " 'dog.2645.jpg',\n",
       " 'cat.779.jpg',\n",
       " 'cat.4172.jpg',\n",
       " 'dog.1984.jpg',\n",
       " 'cat.11554.jpg',\n",
       " 'cat.7819.jpg',\n",
       " 'cat.8618.jpg',\n",
       " 'dog.3184.jpg',\n",
       " 'dog.2364.jpg',\n",
       " 'cat.11333.jpg',\n",
       " 'dog.2257.jpg',\n",
       " 'dog.765.jpg',\n",
       " 'dog.2248.jpg',\n",
       " 'dog.8920.jpg',\n",
       " 'dog.6835.jpg',\n",
       " 'dog.9921.jpg',\n",
       " 'cat.1552.jpg',\n",
       " 'cat.8781.jpg',\n",
       " 'dog.9205.jpg',\n",
       " 'dog.4921.jpg',\n",
       " 'dog.7448.jpg',\n",
       " 'cat.7306.jpg',\n",
       " 'cat.6117.jpg',\n",
       " 'cat.11786.jpg',\n",
       " 'cat.2654.jpg',\n",
       " 'dog.1704.jpg',\n",
       " 'dog.5216.jpg',\n",
       " 'dog.12029.jpg',\n",
       " 'dog.7352.jpg',\n",
       " 'dog.7912.jpg',\n",
       " 'cat.847.jpg',\n",
       " 'dog.10523.jpg',\n",
       " 'cat.6641.jpg',\n",
       " 'dog.1329.jpg',\n",
       " 'dog.2341.jpg',\n",
       " 'dog.6050.jpg',\n",
       " 'dog.9850.jpg',\n",
       " 'dog.3937.jpg',\n",
       " 'dog.2015.jpg',\n",
       " 'dog.4172.jpg',\n",
       " 'cat.7472.jpg',\n",
       " 'cat.10740.jpg',\n",
       " 'dog.6845.jpg',\n",
       " 'dog.5473.jpg',\n",
       " 'cat.2303.jpg',\n",
       " 'cat.4589.jpg',\n",
       " 'cat.11849.jpg',\n",
       " 'cat.10365.jpg',\n",
       " 'cat.6927.jpg',\n",
       " 'cat.5528.jpg',\n",
       " 'cat.1118.jpg',\n",
       " 'cat.7144.jpg',\n",
       " 'dog.9531.jpg',\n",
       " 'dog.10009.jpg',\n",
       " 'cat.3908.jpg',\n",
       " 'dog.350.jpg',\n",
       " 'dog.12397.jpg',\n",
       " 'dog.10400.jpg',\n",
       " 'cat.10446.jpg',\n",
       " 'dog.8244.jpg',\n",
       " 'cat.9939.jpg',\n",
       " 'dog.1181.jpg',\n",
       " 'cat.7894.jpg',\n",
       " 'cat.8966.jpg',\n",
       " 'cat.10248.jpg',\n",
       " 'dog.5182.jpg',\n",
       " 'cat.5525.jpg',\n",
       " 'dog.2532.jpg',\n",
       " 'cat.1414.jpg',\n",
       " 'dog.5037.jpg',\n",
       " 'dog.7987.jpg',\n",
       " 'dog.6610.jpg',\n",
       " 'dog.8008.jpg',\n",
       " 'cat.3172.jpg',\n",
       " 'cat.2300.jpg',\n",
       " 'cat.1711.jpg',\n",
       " 'cat.11076.jpg',\n",
       " 'dog.6631.jpg',\n",
       " 'cat.8517.jpg',\n",
       " 'dog.6225.jpg',\n",
       " 'dog.11180.jpg',\n",
       " 'cat.1730.jpg',\n",
       " 'cat.8805.jpg',\n",
       " 'dog.11701.jpg',\n",
       " 'dog.768.jpg',\n",
       " 'cat.1488.jpg',\n",
       " 'dog.190.jpg',\n",
       " 'cat.11347.jpg',\n",
       " 'dog.9361.jpg',\n",
       " 'dog.9835.jpg',\n",
       " 'dog.6827.jpg',\n",
       " 'dog.1336.jpg',\n",
       " 'dog.1912.jpg',\n",
       " 'dog.4173.jpg',\n",
       " 'cat.7471.jpg',\n",
       " 'dog.3631.jpg',\n",
       " 'cat.1710.jpg',\n",
       " 'cat.5051.jpg',\n",
       " 'dog.5005.jpg',\n",
       " 'cat.9749.jpg',\n",
       " 'cat.11455.jpg',\n",
       " 'dog.11719.jpg',\n",
       " 'dog.1720.jpg',\n",
       " 'dog.3375.jpg',\n",
       " 'dog.12135.jpg',\n",
       " 'dog.3788.jpg',\n",
       " 'dog.5939.jpg',\n",
       " 'dog.6605.jpg',\n",
       " 'dog.1385.jpg',\n",
       " 'dog.9348.jpg',\n",
       " 'cat.10613.jpg',\n",
       " 'cat.3516.jpg',\n",
       " 'cat.1564.jpg',\n",
       " 'cat.3761.jpg',\n",
       " 'dog.10861.jpg',\n",
       " 'cat.2747.jpg',\n",
       " 'dog.11312.jpg',\n",
       " 'cat.4989.jpg',\n",
       " 'dog.9806.jpg',\n",
       " 'dog.12483.jpg',\n",
       " 'dog.1519.jpg',\n",
       " 'cat.558.jpg',\n",
       " 'cat.26.jpg',\n",
       " 'dog.10986.jpg',\n",
       " 'dog.8015.jpg',\n",
       " 'cat.1860.jpg',\n",
       " 'cat.10332.jpg',\n",
       " 'cat.11897.jpg',\n",
       " 'dog.4214.jpg',\n",
       " 'cat.10768.jpg',\n",
       " 'cat.9820.jpg',\n",
       " 'cat.8448.jpg',\n",
       " 'cat.8577.jpg',\n",
       " 'dog.11133.jpg',\n",
       " 'cat.7614.jpg',\n",
       " 'cat.433.jpg',\n",
       " 'dog.10013.jpg',\n",
       " 'cat.6808.jpg',\n",
       " 'cat.502.jpg',\n",
       " 'cat.6534.jpg',\n",
       " 'dog.10568.jpg',\n",
       " 'cat.2166.jpg',\n",
       " 'dog.7128.jpg',\n",
       " 'dog.7734.jpg',\n",
       " 'dog.2758.jpg',\n",
       " 'dog.11890.jpg',\n",
       " 'dog.10927.jpg',\n",
       " 'dog.4015.jpg',\n",
       " 'dog.448.jpg',\n",
       " 'cat.4653.jpg',\n",
       " 'cat.8175.jpg',\n",
       " 'cat.10435.jpg',\n",
       " 'dog.8082.jpg',\n",
       " 'cat.12244.jpg',\n",
       " 'dog.10201.jpg',\n",
       " 'cat.3882.jpg',\n",
       " 'cat.10183.jpg',\n",
       " 'cat.2321.jpg',\n",
       " 'dog.5107.jpg',\n",
       " 'cat.756.jpg',\n",
       " 'dog.10747.jpg',\n",
       " 'dog.5432.jpg',\n",
       " 'dog.7318.jpg',\n",
       " 'cat.2316.jpg',\n",
       " 'dog.6618.jpg',\n",
       " 'dog.956.jpg',\n",
       " 'dog.1191.jpg',\n",
       " 'dog.10594.jpg',\n",
       " 'cat.9253.jpg',\n",
       " 'cat.7489.jpg',\n",
       " 'dog.12346.jpg',\n",
       " 'cat.3276.jpg',\n",
       " 'cat.7312.jpg',\n",
       " 'dog.6319.jpg',\n",
       " 'cat.7945.jpg',\n",
       " 'dog.5030.jpg',\n",
       " 'cat.11492.jpg',\n",
       " 'dog.2025.jpg',\n",
       " 'dog.1989.jpg',\n",
       " 'cat.7875.jpg',\n",
       " 'cat.5960.jpg',\n",
       " 'dog.12152.jpg',\n",
       " 'dog.4495.jpg',\n",
       " 'dog.3299.jpg',\n",
       " 'cat.3105.jpg',\n",
       " 'dog.3804.jpg',\n",
       " 'dog.3574.jpg',\n",
       " 'dog.5364.jpg',\n",
       " 'cat.1446.jpg',\n",
       " 'cat.2150.jpg',\n",
       " 'cat.30.jpg',\n",
       " 'dog.1649.jpg',\n",
       " 'cat.8183.jpg',\n",
       " 'cat.7033.jpg',\n",
       " 'cat.3538.jpg',\n",
       " 'cat.8113.jpg',\n",
       " 'cat.900.jpg',\n",
       " 'cat.6513.jpg',\n",
       " 'dog.9590.jpg',\n",
       " 'dog.5020.jpg',\n",
       " 'cat.748.jpg',\n",
       " 'cat.673.jpg',\n",
       " 'cat.2736.jpg',\n",
       " 'cat.11205.jpg',\n",
       " 'dog.4993.jpg',\n",
       " 'cat.2656.jpg',\n",
       " 'cat.12199.jpg',\n",
       " 'cat.7820.jpg',\n",
       " 'dog.3942.jpg',\n",
       " 'cat.1534.jpg',\n",
       " 'cat.4605.jpg',\n",
       " 'dog.4096.jpg',\n",
       " 'cat.12494.jpg',\n",
       " 'cat.3203.jpg',\n",
       " 'dog.1590.jpg',\n",
       " 'cat.2335.jpg',\n",
       " 'dog.3596.jpg',\n",
       " 'cat.4297.jpg',\n",
       " 'dog.3196.jpg',\n",
       " 'dog.1972.jpg',\n",
       " 'dog.1751.jpg',\n",
       " 'dog.721.jpg',\n",
       " 'cat.10360.jpg',\n",
       " 'dog.6555.jpg',\n",
       " 'dog.4.jpg',\n",
       " 'dog.7175.jpg',\n",
       " 'dog.2695.jpg',\n",
       " 'dog.4109.jpg',\n",
       " 'cat.10697.jpg',\n",
       " 'cat.120.jpg',\n",
       " 'cat.9517.jpg',\n",
       " 'cat.9712.jpg',\n",
       " 'cat.3353.jpg',\n",
       " 'dog.5696.jpg',\n",
       " 'cat.3708.jpg',\n",
       " 'dog.7422.jpg',\n",
       " 'cat.12492.jpg',\n",
       " 'dog.4261.jpg',\n",
       " 'dog.7694.jpg',\n",
       " 'dog.2824.jpg',\n",
       " 'cat.11584.jpg',\n",
       " 'dog.8696.jpg',\n",
       " 'cat.12087.jpg',\n",
       " 'cat.11324.jpg',\n",
       " 'dog.7149.jpg',\n",
       " 'cat.4193.jpg',\n",
       " 'cat.1500.jpg',\n",
       " 'dog.10807.jpg',\n",
       " 'dog.4850.jpg',\n",
       " 'cat.2734.jpg',\n",
       " 'dog.3849.jpg',\n",
       " 'dog.6647.jpg',\n",
       " 'dog.10611.jpg',\n",
       " 'dog.904.jpg',\n",
       " 'dog.1142.jpg',\n",
       " 'cat.8840.jpg',\n",
       " 'cat.7498.jpg',\n",
       " 'dog.2709.jpg',\n",
       " 'dog.10651.jpg',\n",
       " 'dog.6413.jpg',\n",
       " 'cat.6741.jpg',\n",
       " 'cat.6807.jpg',\n",
       " 'cat.6587.jpg',\n",
       " 'dog.6191.jpg',\n",
       " 'cat.8395.jpg',\n",
       " 'dog.11580.jpg',\n",
       " 'dog.761.jpg',\n",
       " 'cat.9088.jpg',\n",
       " 'dog.5398.jpg',\n",
       " 'dog.9760.jpg',\n",
       " 'cat.9728.jpg',\n",
       " 'cat.3889.jpg',\n",
       " 'dog.12375.jpg',\n",
       " 'cat.499.jpg',\n",
       " 'dog.340.jpg',\n",
       " 'dog.1263.jpg',\n",
       " 'dog.5697.jpg',\n",
       " 'cat.4443.jpg',\n",
       " 'cat.4569.jpg',\n",
       " 'dog.1080.jpg',\n",
       " 'cat.1085.jpg',\n",
       " 'dog.11223.jpg',\n",
       " 'cat.4867.jpg',\n",
       " 'cat.685.jpg',\n",
       " 'dog.3080.jpg',\n",
       " 'dog.9966.jpg',\n",
       " 'cat.2661.jpg',\n",
       " 'dog.1305.jpg',\n",
       " 'cat.10568.jpg',\n",
       " 'dog.870.jpg',\n",
       " 'cat.11814.jpg',\n",
       " 'dog.334.jpg',\n",
       " 'cat.11653.jpg',\n",
       " 'dog.85.jpg',\n",
       " 'cat.8899.jpg',\n",
       " 'cat.5401.jpg',\n",
       " 'dog.4608.jpg',\n",
       " 'dog.11516.jpg',\n",
       " 'dog.1862.jpg',\n",
       " 'dog.2959.jpg',\n",
       " 'cat.2742.jpg',\n",
       " 'dog.490.jpg',\n",
       " 'cat.479.jpg',\n",
       " 'cat.4933.jpg',\n",
       " 'cat.11656.jpg',\n",
       " 'cat.1052.jpg',\n",
       " 'dog.2466.jpg',\n",
       " 'dog.10254.jpg',\n",
       " 'dog.7768.jpg',\n",
       " 'cat.3166.jpg',\n",
       " 'cat.6549.jpg',\n",
       " 'dog.9918.jpg',\n",
       " 'dog.11595.jpg',\n",
       " 'cat.989.jpg',\n",
       " 'cat.3281.jpg',\n",
       " 'dog.418.jpg',\n",
       " 'cat.3301.jpg',\n",
       " 'dog.7050.jpg',\n",
       " 'dog.9768.jpg',\n",
       " 'dog.1224.jpg',\n",
       " 'cat.6900.jpg',\n",
       " 'dog.9621.jpg',\n",
       " 'cat.11662.jpg',\n",
       " 'dog.2694.jpg',\n",
       " 'cat.9960.jpg',\n",
       " 'dog.8220.jpg',\n",
       " 'dog.1743.jpg',\n",
       " 'dog.7890.jpg',\n",
       " 'dog.10121.jpg',\n",
       " 'dog.6079.jpg',\n",
       " 'cat.7214.jpg',\n",
       " 'cat.11606.jpg',\n",
       " 'cat.9437.jpg',\n",
       " 'dog.7864.jpg',\n",
       " 'dog.2929.jpg',\n",
       " 'dog.9238.jpg',\n",
       " 'cat.1130.jpg',\n",
       " 'dog.607.jpg',\n",
       " 'dog.8776.jpg',\n",
       " 'cat.8264.jpg',\n",
       " 'cat.8112.jpg',\n",
       " 'cat.6449.jpg',\n",
       " 'dog.10830.jpg',\n",
       " 'dog.4022.jpg',\n",
       " 'dog.1445.jpg',\n",
       " 'cat.6183.jpg',\n",
       " 'dog.1492.jpg',\n",
       " 'dog.2554.jpg',\n",
       " 'cat.10522.jpg',\n",
       " 'dog.3542.jpg',\n",
       " 'dog.3354.jpg',\n",
       " 'cat.11750.jpg',\n",
       " 'dog.6698.jpg',\n",
       " 'dog.137.jpg',\n",
       " 'cat.4634.jpg',\n",
       " 'dog.5302.jpg',\n",
       " 'dog.1637.jpg',\n",
       " 'dog.9710.jpg',\n",
       " 'dog.2235.jpg',\n",
       " 'dog.3103.jpg',\n",
       " 'dog.6895.jpg',\n",
       " 'dog.3699.jpg',\n",
       " 'cat.7886.jpg',\n",
       " 'cat.1953.jpg',\n",
       " 'dog.8725.jpg',\n",
       " 'cat.5186.jpg',\n",
       " 'cat.11657.jpg',\n",
       " 'cat.8993.jpg',\n",
       " 'dog.5613.jpg',\n",
       " 'dog.10252.jpg',\n",
       " 'cat.6666.jpg',\n",
       " 'dog.7301.jpg',\n",
       " 'dog.2548.jpg',\n",
       " 'dog.5331.jpg',\n",
       " 'dog.6775.jpg',\n",
       " 'cat.10783.jpg',\n",
       " 'dog.108.jpg',\n",
       " 'cat.11229.jpg',\n",
       " 'cat.1491.jpg',\n",
       " 'cat.11507.jpg',\n",
       " 'cat.3129.jpg',\n",
       " 'dog.10734.jpg',\n",
       " 'cat.11391.jpg',\n",
       " 'cat.4785.jpg',\n",
       " 'cat.8146.jpg',\n",
       " 'cat.6203.jpg',\n",
       " 'cat.7939.jpg',\n",
       " 'dog.7259.jpg',\n",
       " 'dog.4587.jpg',\n",
       " 'dog.2088.jpg',\n",
       " 'cat.12180.jpg',\n",
       " 'cat.8380.jpg',\n",
       " 'dog.3654.jpg',\n",
       " 'cat.3720.jpg',\n",
       " 'dog.4673.jpg',\n",
       " 'dog.4926.jpg',\n",
       " 'dog.8259.jpg',\n",
       " 'cat.1279.jpg',\n",
       " 'dog.77.jpg',\n",
       " 'cat.5176.jpg',\n",
       " 'dog.9004.jpg',\n",
       " 'cat.7029.jpg',\n",
       " 'cat.11988.jpg',\n",
       " 'dog.1360.jpg',\n",
       " 'dog.5270.jpg',\n",
       " 'cat.11672.jpg',\n",
       " 'cat.4818.jpg',\n",
       " 'dog.1456.jpg',\n",
       " 'dog.3887.jpg',\n",
       " 'dog.9039.jpg',\n",
       " 'dog.5448.jpg',\n",
       " 'cat.7098.jpg',\n",
       " 'dog.566.jpg',\n",
       " 'cat.63.jpg',\n",
       " 'dog.4666.jpg',\n",
       " 'dog.1538.jpg',\n",
       " 'dog.2075.jpg',\n",
       " 'cat.12119.jpg',\n",
       " 'cat.490.jpg',\n",
       " 'dog.512.jpg',\n",
       " 'dog.1342.jpg',\n",
       " 'cat.7067.jpg',\n",
       " 'cat.5952.jpg',\n",
       " 'cat.6575.jpg',\n",
       " 'dog.11409.jpg',\n",
       " 'cat.348.jpg',\n",
       " 'cat.5365.jpg',\n",
       " 'dog.1772.jpg',\n",
       " 'dog.8306.jpg',\n",
       " 'dog.1932.jpg',\n",
       " 'dog.9818.jpg',\n",
       " 'cat.960.jpg',\n",
       " 'dog.12008.jpg',\n",
       " 'dog.7650.jpg',\n",
       " 'cat.10902.jpg',\n",
       " 'cat.1642.jpg',\n",
       " 'dog.4316.jpg',\n",
       " 'cat.6051.jpg',\n",
       " 'cat.417.jpg',\n",
       " 'dog.1541.jpg',\n",
       " 'dog.667.jpg',\n",
       " 'dog.9315.jpg',\n",
       " 'dog.8180.jpg',\n",
       " 'dog.9448.jpg',\n",
       " 'cat.3721.jpg',\n",
       " 'cat.2062.jpg',\n",
       " 'dog.7390.jpg',\n",
       " 'cat.5526.jpg',\n",
       " 'dog.10387.jpg',\n",
       " 'dog.11342.jpg',\n",
       " 'dog.10129.jpg',\n",
       " 'cat.4427.jpg',\n",
       " 'dog.7529.jpg',\n",
       " 'cat.5235.jpg',\n",
       " 'dog.9418.jpg',\n",
       " 'cat.6726.jpg',\n",
       " 'cat.4853.jpg',\n",
       " 'dog.3695.jpg',\n",
       " 'dog.8684.jpg',\n",
       " 'cat.4787.jpg',\n",
       " 'cat.2998.jpg',\n",
       " 'dog.10288.jpg',\n",
       " 'cat.3374.jpg',\n",
       " 'dog.10203.jpg',\n",
       " 'cat.5870.jpg',\n",
       " 'dog.1623.jpg',\n",
       " 'cat.8136.jpg',\n",
       " 'dog.12201.jpg',\n",
       " 'cat.6631.jpg',\n",
       " 'cat.4639.jpg',\n",
       " 'dog.7127.jpg',\n",
       " 'cat.1082.jpg',\n",
       " 'dog.6916.jpg',\n",
       " 'dog.1453.jpg',\n",
       " 'cat.8682.jpg',\n",
       " 'dog.3124.jpg',\n",
       " 'cat.9948.jpg',\n",
       " 'dog.2368.jpg',\n",
       " 'cat.4777.jpg',\n",
       " 'cat.9430.jpg',\n",
       " 'dog.8498.jpg',\n",
       " 'cat.3094.jpg',\n",
       " 'cat.7804.jpg',\n",
       " 'dog.4392.jpg',\n",
       " 'cat.9316.jpg',\n",
       " 'dog.782.jpg',\n",
       " 'dog.10645.jpg',\n",
       " 'dog.3734.jpg',\n",
       " 'dog.4196.jpg',\n",
       " 'dog.5652.jpg',\n",
       " 'cat.2867.jpg',\n",
       " 'cat.10898.jpg',\n",
       " 'dog.3766.jpg',\n",
       " 'dog.7287.jpg',\n",
       " 'cat.8553.jpg',\n",
       " 'cat.2518.jpg',\n",
       " 'cat.11100.jpg',\n",
       " 'dog.1724.jpg',\n",
       " 'cat.800.jpg',\n",
       " 'dog.5554.jpg',\n",
       " 'dog.8470.jpg',\n",
       " 'dog.11902.jpg',\n",
       " 'cat.188.jpg',\n",
       " 'cat.5513.jpg',\n",
       " 'dog.8837.jpg',\n",
       " 'cat.837.jpg',\n",
       " 'cat.677.jpg',\n",
       " 'cat.12247.jpg',\n",
       " 'cat.11519.jpg',\n",
       " 'dog.10905.jpg',\n",
       " 'cat.5157.jpg',\n",
       " 'cat.9899.jpg',\n",
       " 'dog.9320.jpg',\n",
       " 'dog.10268.jpg',\n",
       " 'cat.11206.jpg',\n",
       " 'cat.11721.jpg',\n",
       " 'cat.8285.jpg',\n",
       " 'cat.2954.jpg',\n",
       " 'cat.7949.jpg',\n",
       " 'dog.1685.jpg',\n",
       " 'cat.11510.jpg',\n",
       " 'cat.7133.jpg',\n",
       " 'dog.7581.jpg',\n",
       " 'cat.12330.jpg',\n",
       " 'dog.5561.jpg',\n",
       " 'dog.5693.jpg',\n",
       " 'dog.2331.jpg',\n",
       " 'dog.10394.jpg',\n",
       " 'cat.6147.jpg',\n",
       " 'cat.11883.jpg',\n",
       " 'cat.2851.jpg',\n",
       " 'cat.7223.jpg',\n",
       " 'cat.10304.jpg',\n",
       " 'cat.7027.jpg',\n",
       " 'cat.7494.jpg',\n",
       " 'cat.9382.jpg',\n",
       " 'cat.6780.jpg',\n",
       " 'dog.1184.jpg',\n",
       " 'dog.673.jpg',\n",
       " 'dog.8901.jpg',\n",
       " 'cat.7182.jpg',\n",
       " 'cat.6500.jpg',\n",
       " 'cat.8507.jpg',\n",
       " 'dog.4251.jpg',\n",
       " 'cat.2605.jpg',\n",
       " 'cat.11180.jpg',\n",
       " 'cat.1771.jpg',\n",
       " 'dog.6621.jpg',\n",
       " 'dog.11999.jpg',\n",
       " 'dog.9310.jpg',\n",
       " 'cat.6204.jpg',\n",
       " 'cat.9638.jpg',\n",
       " 'cat.3265.jpg',\n",
       " 'dog.8993.jpg',\n",
       " 'dog.12455.jpg',\n",
       " 'dog.9085.jpg',\n",
       " 'dog.3930.jpg',\n",
       " 'cat.1553.jpg',\n",
       " 'dog.8956.jpg',\n",
       " 'dog.11253.jpg',\n",
       " 'dog.8480.jpg',\n",
       " 'dog.3674.jpg',\n",
       " 'cat.12419.jpg',\n",
       " 'dog.3020.jpg',\n",
       " 'cat.6155.jpg',\n",
       " 'dog.11360.jpg',\n",
       " 'cat.10414.jpg',\n",
       " 'dog.11110.jpg',\n",
       " 'dog.7965.jpg',\n",
       " 'dog.11801.jpg',\n",
       " 'dog.5508.jpg',\n",
       " 'cat.7502.jpg',\n",
       " 'cat.6937.jpg',\n",
       " 'dog.6279.jpg',\n",
       " 'cat.10856.jpg',\n",
       " 'dog.8739.jpg',\n",
       " 'dog.10947.jpg',\n",
       " 'dog.5869.jpg',\n",
       " 'cat.2932.jpg',\n",
       " 'dog.5162.jpg',\n",
       " 'cat.1211.jpg',\n",
       " 'cat.4563.jpg',\n",
       " 'cat.3548.jpg',\n",
       " 'dog.11707.jpg',\n",
       " 'cat.769.jpg',\n",
       " 'dog.1838.jpg',\n",
       " 'cat.1124.jpg',\n",
       " 'cat.11915.jpg',\n",
       " 'cat.5219.jpg',\n",
       " 'dog.3274.jpg',\n",
       " 'dog.6283.jpg',\n",
       " 'dog.1266.jpg',\n",
       " 'dog.1414.jpg',\n",
       " 'cat.8681.jpg',\n",
       " 'cat.9242.jpg',\n",
       " 'dog.11294.jpg',\n",
       " 'dog.1537.jpg',\n",
       " 'dog.924.jpg',\n",
       " 'cat.9298.jpg',\n",
       " 'dog.2592.jpg',\n",
       " 'dog.3046.jpg',\n",
       " 'dog.6591.jpg',\n",
       " 'dog.3312.jpg',\n",
       " 'dog.10354.jpg',\n",
       " 'dog.889.jpg',\n",
       " 'cat.4108.jpg',\n",
       " 'dog.9602.jpg',\n",
       " 'dog.10489.jpg',\n",
       " 'cat.2861.jpg',\n",
       " 'dog.4290.jpg',\n",
       " 'dog.1060.jpg',\n",
       " 'dog.9959.jpg',\n",
       " 'dog.3446.jpg',\n",
       " 'dog.7164.jpg',\n",
       " 'cat.1609.jpg',\n",
       " 'dog.7648.jpg',\n",
       " 'dog.682.jpg',\n",
       " ...]"
      ]
     },
     "execution_count": 6,
     "metadata": {},
     "output_type": "execute_result"
    }
   ],
   "source": [
    "## Display the images contain in the TRAIN_DIR \n",
    "os.listdir(TRAIN_DIR)"
   ]
  },
  {
   "cell_type": "code",
   "execution_count": 7,
   "id": "598b06ea",
   "metadata": {
    "execution": {
     "iopub.execute_input": "2022-11-01T17:22:37.266674Z",
     "iopub.status.busy": "2022-11-01T17:22:37.266350Z",
     "iopub.status.idle": "2022-11-01T17:22:37.305251Z",
     "shell.execute_reply": "2022-11-01T17:22:37.304220Z"
    },
    "papermill": {
     "duration": 0.053409,
     "end_time": "2022-11-01T17:22:37.307498",
     "exception": false,
     "start_time": "2022-11-01T17:22:37.254089",
     "status": "completed"
    },
    "tags": []
   },
   "outputs": [],
   "source": [
    "## Split class and image in TRAIN data and create a list contain image and class (target)\n",
    "class_name = [i.split('.')[0] for i in os.listdir(TRAIN_DIR)]\n",
    "image_name =  [i for i in os.listdir(TRAIN_DIR)]"
   ]
  },
  {
   "cell_type": "code",
   "execution_count": 8,
   "id": "ad7f0587",
   "metadata": {
    "execution": {
     "iopub.execute_input": "2022-11-01T17:22:37.332199Z",
     "iopub.status.busy": "2022-11-01T17:22:37.331314Z",
     "iopub.status.idle": "2022-11-01T17:22:37.346373Z",
     "shell.execute_reply": "2022-11-01T17:22:37.345428Z"
    },
    "papermill": {
     "duration": 0.029164,
     "end_time": "2022-11-01T17:22:37.348508",
     "exception": false,
     "start_time": "2022-11-01T17:22:37.319344",
     "status": "completed"
    },
    "tags": []
   },
   "outputs": [],
   "source": [
    "## Create a dataframe for two column class_name and image_name\n",
    "df = pd.DataFrame({'class_name':class_name,'image_name':image_name} )"
   ]
  },
  {
   "cell_type": "code",
   "execution_count": 9,
   "id": "c5ceceb5",
   "metadata": {
    "execution": {
     "iopub.execute_input": "2022-11-01T17:22:37.372371Z",
     "iopub.status.busy": "2022-11-01T17:22:37.372065Z",
     "iopub.status.idle": "2022-11-01T17:22:37.392064Z",
     "shell.execute_reply": "2022-11-01T17:22:37.390841Z"
    },
    "papermill": {
     "duration": 0.034571,
     "end_time": "2022-11-01T17:22:37.394346",
     "exception": false,
     "start_time": "2022-11-01T17:22:37.359775",
     "status": "completed"
    },
    "tags": []
   },
   "outputs": [
    {
     "data": {
      "text/html": [
       "<div>\n",
       "<style scoped>\n",
       "    .dataframe tbody tr th:only-of-type {\n",
       "        vertical-align: middle;\n",
       "    }\n",
       "\n",
       "    .dataframe tbody tr th {\n",
       "        vertical-align: top;\n",
       "    }\n",
       "\n",
       "    .dataframe thead th {\n",
       "        text-align: right;\n",
       "    }\n",
       "</style>\n",
       "<table border=\"1\" class=\"dataframe\">\n",
       "  <thead>\n",
       "    <tr style=\"text-align: right;\">\n",
       "      <th></th>\n",
       "      <th>class_name</th>\n",
       "      <th>image_name</th>\n",
       "    </tr>\n",
       "  </thead>\n",
       "  <tbody>\n",
       "    <tr>\n",
       "      <th>0</th>\n",
       "      <td>dog</td>\n",
       "      <td>dog.106.jpg</td>\n",
       "    </tr>\n",
       "    <tr>\n",
       "      <th>1</th>\n",
       "      <td>cat</td>\n",
       "      <td>cat.6013.jpg</td>\n",
       "    </tr>\n",
       "    <tr>\n",
       "      <th>2</th>\n",
       "      <td>dog</td>\n",
       "      <td>dog.2782.jpg</td>\n",
       "    </tr>\n",
       "    <tr>\n",
       "      <th>3</th>\n",
       "      <td>dog</td>\n",
       "      <td>dog.1294.jpg</td>\n",
       "    </tr>\n",
       "    <tr>\n",
       "      <th>4</th>\n",
       "      <td>dog</td>\n",
       "      <td>dog.11781.jpg</td>\n",
       "    </tr>\n",
       "  </tbody>\n",
       "</table>\n",
       "</div>"
      ],
      "text/plain": [
       "  class_name     image_name\n",
       "0        dog    dog.106.jpg\n",
       "1        cat   cat.6013.jpg\n",
       "2        dog   dog.2782.jpg\n",
       "3        dog   dog.1294.jpg\n",
       "4        dog  dog.11781.jpg"
      ]
     },
     "execution_count": 9,
     "metadata": {},
     "output_type": "execute_result"
    }
   ],
   "source": [
    "df.head()"
   ]
  },
  {
   "cell_type": "markdown",
   "id": "72234921",
   "metadata": {
    "papermill": {
     "duration": 0.011343,
     "end_time": "2022-11-01T17:22:37.416695",
     "exception": false,
     "start_time": "2022-11-01T17:22:37.405352",
     "status": "completed"
    },
    "tags": []
   },
   "source": [
    "In this dataframe, class_name is the target take only two distinck value( cat and dog) then it classification problem "
   ]
  },
  {
   "cell_type": "code",
   "execution_count": 10,
   "id": "efadebd8",
   "metadata": {
    "execution": {
     "iopub.execute_input": "2022-11-01T17:22:37.440351Z",
     "iopub.status.busy": "2022-11-01T17:22:37.440020Z",
     "iopub.status.idle": "2022-11-01T17:22:37.451011Z",
     "shell.execute_reply": "2022-11-01T17:22:37.449856Z"
    },
    "papermill": {
     "duration": 0.025529,
     "end_time": "2022-11-01T17:22:37.453261",
     "exception": false,
     "start_time": "2022-11-01T17:22:37.427732",
     "status": "completed"
    },
    "tags": []
   },
   "outputs": [],
   "source": [
    "df.drop(df.index[-1], inplace=True)"
   ]
  },
  {
   "cell_type": "code",
   "execution_count": 11,
   "id": "d25c893f",
   "metadata": {
    "execution": {
     "iopub.execute_input": "2022-11-01T17:22:37.476344Z",
     "iopub.status.busy": "2022-11-01T17:22:37.476058Z",
     "iopub.status.idle": "2022-11-01T17:22:37.488569Z",
     "shell.execute_reply": "2022-11-01T17:22:37.487620Z"
    },
    "papermill": {
     "duration": 0.026508,
     "end_time": "2022-11-01T17:22:37.490765",
     "exception": false,
     "start_time": "2022-11-01T17:22:37.464257",
     "status": "completed"
    },
    "tags": []
   },
   "outputs": [
    {
     "data": {
      "text/html": [
       "<div>\n",
       "<style scoped>\n",
       "    .dataframe tbody tr th:only-of-type {\n",
       "        vertical-align: middle;\n",
       "    }\n",
       "\n",
       "    .dataframe tbody tr th {\n",
       "        vertical-align: top;\n",
       "    }\n",
       "\n",
       "    .dataframe thead th {\n",
       "        text-align: right;\n",
       "    }\n",
       "</style>\n",
       "<table border=\"1\" class=\"dataframe\">\n",
       "  <thead>\n",
       "    <tr style=\"text-align: right;\">\n",
       "      <th></th>\n",
       "      <th>class_name</th>\n",
       "      <th>image_name</th>\n",
       "    </tr>\n",
       "  </thead>\n",
       "  <tbody>\n",
       "    <tr>\n",
       "      <th>0</th>\n",
       "      <td>dog</td>\n",
       "      <td>dog.106.jpg</td>\n",
       "    </tr>\n",
       "    <tr>\n",
       "      <th>1</th>\n",
       "      <td>cat</td>\n",
       "      <td>cat.6013.jpg</td>\n",
       "    </tr>\n",
       "    <tr>\n",
       "      <th>2</th>\n",
       "      <td>dog</td>\n",
       "      <td>dog.2782.jpg</td>\n",
       "    </tr>\n",
       "    <tr>\n",
       "      <th>3</th>\n",
       "      <td>dog</td>\n",
       "      <td>dog.1294.jpg</td>\n",
       "    </tr>\n",
       "    <tr>\n",
       "      <th>4</th>\n",
       "      <td>dog</td>\n",
       "      <td>dog.11781.jpg</td>\n",
       "    </tr>\n",
       "    <tr>\n",
       "      <th>...</th>\n",
       "      <td>...</td>\n",
       "      <td>...</td>\n",
       "    </tr>\n",
       "    <tr>\n",
       "      <th>24994</th>\n",
       "      <td>dog</td>\n",
       "      <td>dog.11559.jpg</td>\n",
       "    </tr>\n",
       "    <tr>\n",
       "      <th>24995</th>\n",
       "      <td>dog</td>\n",
       "      <td>dog.659.jpg</td>\n",
       "    </tr>\n",
       "    <tr>\n",
       "      <th>24996</th>\n",
       "      <td>cat</td>\n",
       "      <td>cat.12440.jpg</td>\n",
       "    </tr>\n",
       "    <tr>\n",
       "      <th>24997</th>\n",
       "      <td>dog</td>\n",
       "      <td>dog.7117.jpg</td>\n",
       "    </tr>\n",
       "    <tr>\n",
       "      <th>24998</th>\n",
       "      <td>cat</td>\n",
       "      <td>cat.11959.jpg</td>\n",
       "    </tr>\n",
       "  </tbody>\n",
       "</table>\n",
       "<p>24999 rows × 2 columns</p>\n",
       "</div>"
      ],
      "text/plain": [
       "      class_name     image_name\n",
       "0            dog    dog.106.jpg\n",
       "1            cat   cat.6013.jpg\n",
       "2            dog   dog.2782.jpg\n",
       "3            dog   dog.1294.jpg\n",
       "4            dog  dog.11781.jpg\n",
       "...          ...            ...\n",
       "24994        dog  dog.11559.jpg\n",
       "24995        dog    dog.659.jpg\n",
       "24996        cat  cat.12440.jpg\n",
       "24997        dog   dog.7117.jpg\n",
       "24998        cat  cat.11959.jpg\n",
       "\n",
       "[24999 rows x 2 columns]"
      ]
     },
     "execution_count": 11,
     "metadata": {},
     "output_type": "execute_result"
    }
   ],
   "source": [
    "df"
   ]
  },
  {
   "cell_type": "code",
   "execution_count": 12,
   "id": "b13472c0",
   "metadata": {
    "execution": {
     "iopub.execute_input": "2022-11-01T17:22:37.515367Z",
     "iopub.status.busy": "2022-11-01T17:22:37.515082Z",
     "iopub.status.idle": "2022-11-01T17:22:37.520183Z",
     "shell.execute_reply": "2022-11-01T17:22:37.519221Z"
    },
    "papermill": {
     "duration": 0.020107,
     "end_time": "2022-11-01T17:22:37.522383",
     "exception": false,
     "start_time": "2022-11-01T17:22:37.502276",
     "status": "completed"
    },
    "tags": []
   },
   "outputs": [],
   "source": [
    "## Data augmentation \n",
    "## ImageDataGenerator function from Keras_preprocessing \n",
    "train_datagen = ImageDataGenerator(\n",
    "                rotation_range=15, \n",
    "                rescale=1./255,\n",
    "                shear_range=0.1, \n",
    "                zoom_range=0.2,\n",
    "                horizontal_flip=True, \n",
    "                width_shift_range=0.1,\n",
    "                height_shift_range=0.1,\n",
    "                validation_split=0.2)"
   ]
  },
  {
   "cell_type": "code",
   "execution_count": 13,
   "id": "ac037ace",
   "metadata": {
    "execution": {
     "iopub.execute_input": "2022-11-01T17:22:37.546069Z",
     "iopub.status.busy": "2022-11-01T17:22:37.545768Z",
     "iopub.status.idle": "2022-11-01T17:22:37.962694Z",
     "shell.execute_reply": "2022-11-01T17:22:37.961492Z"
    },
    "papermill": {
     "duration": 0.43152,
     "end_time": "2022-11-01T17:22:37.965167",
     "exception": false,
     "start_time": "2022-11-01T17:22:37.533647",
     "status": "completed"
    },
    "tags": []
   },
   "outputs": [
    {
     "name": "stdout",
     "output_type": "stream",
     "text": [
      "Found 20000 validated image filenames belonging to 2 classes.\n",
      "Found 4999 validated image filenames belonging to 2 classes.\n"
     ]
    }
   ],
   "source": [
    "## Split train_fatagen into 2 train_generator and val_generator \n",
    "\n",
    "# since the datagen is splitted in training and validation,\n",
    "# make sure to set subsets correctly\n",
    "\n",
    "train_datagen = ImageDataGenerator(\n",
    "                rescale=1./255,\n",
    "                validation_split=0.2)\n",
    "\n",
    "\n",
    "train_generator = train_datagen.flow_from_dataframe(\n",
    "                    df,\n",
    "                    TRAIN_DIR, \n",
    "                    x_col = 'image_name',\n",
    "                    y_col = 'class_name',\n",
    "                    target_size =(224,224),\n",
    "                    class_mode = 'binary',\n",
    "                    batch_size=32,\n",
    "                    shuffle=False,\n",
    "                    subset= 'training')\n",
    "# make sure shuffle is set to false, so the predictions are done on the same order\n",
    "# as they appear on the directory. batch_size should be 1 to make the\n",
    "# predictions image by image \n",
    "val_generator = train_datagen.flow_from_dataframe(\n",
    "                    df,\n",
    "                    TRAIN_DIR, \n",
    "                    x_col = 'image_name',\n",
    "                    y_col = 'class_name',\n",
    "                    target_size =(224,224),\n",
    "                    class_mode = 'binary',\n",
    "                    batch_size=32,\n",
    "                    shuffle=False,\n",
    "                    subset= 'validation')"
   ]
  },
  {
   "cell_type": "code",
   "execution_count": 14,
   "id": "554c28b1",
   "metadata": {
    "execution": {
     "iopub.execute_input": "2022-11-01T17:22:37.992314Z",
     "iopub.status.busy": "2022-11-01T17:22:37.991242Z",
     "iopub.status.idle": "2022-11-01T17:22:44.320780Z",
     "shell.execute_reply": "2022-11-01T17:22:44.318577Z"
    },
    "papermill": {
     "duration": 6.346401,
     "end_time": "2022-11-01T17:22:44.323666",
     "exception": false,
     "start_time": "2022-11-01T17:22:37.977265",
     "status": "completed"
    },
    "tags": []
   },
   "outputs": [
    {
     "name": "stderr",
     "output_type": "stream",
     "text": [
      "2022-11-01 17:22:38.172770: I tensorflow/stream_executor/cuda/cuda_gpu_executor.cc:937] successful NUMA node read from SysFS had negative value (-1), but there must be at least one NUMA node, so returning NUMA node zero\n",
      "2022-11-01 17:22:38.173735: I tensorflow/stream_executor/cuda/cuda_gpu_executor.cc:937] successful NUMA node read from SysFS had negative value (-1), but there must be at least one NUMA node, so returning NUMA node zero\n",
      "2022-11-01 17:22:38.561169: I tensorflow/stream_executor/cuda/cuda_gpu_executor.cc:937] successful NUMA node read from SysFS had negative value (-1), but there must be at least one NUMA node, so returning NUMA node zero\n",
      "2022-11-01 17:22:38.562044: I tensorflow/stream_executor/cuda/cuda_gpu_executor.cc:937] successful NUMA node read from SysFS had negative value (-1), but there must be at least one NUMA node, so returning NUMA node zero\n",
      "2022-11-01 17:22:38.562852: I tensorflow/stream_executor/cuda/cuda_gpu_executor.cc:937] successful NUMA node read from SysFS had negative value (-1), but there must be at least one NUMA node, so returning NUMA node zero\n",
      "2022-11-01 17:22:38.563643: I tensorflow/stream_executor/cuda/cuda_gpu_executor.cc:937] successful NUMA node read from SysFS had negative value (-1), but there must be at least one NUMA node, so returning NUMA node zero\n",
      "2022-11-01 17:22:38.565423: I tensorflow/core/platform/cpu_feature_guard.cc:142] This TensorFlow binary is optimized with oneAPI Deep Neural Network Library (oneDNN) to use the following CPU instructions in performance-critical operations:  AVX2 AVX512F FMA\n",
      "To enable them in other operations, rebuild TensorFlow with the appropriate compiler flags.\n",
      "2022-11-01 17:22:38.827370: I tensorflow/stream_executor/cuda/cuda_gpu_executor.cc:937] successful NUMA node read from SysFS had negative value (-1), but there must be at least one NUMA node, so returning NUMA node zero\n",
      "2022-11-01 17:22:38.828314: I tensorflow/stream_executor/cuda/cuda_gpu_executor.cc:937] successful NUMA node read from SysFS had negative value (-1), but there must be at least one NUMA node, so returning NUMA node zero\n",
      "2022-11-01 17:22:38.829184: I tensorflow/stream_executor/cuda/cuda_gpu_executor.cc:937] successful NUMA node read from SysFS had negative value (-1), but there must be at least one NUMA node, so returning NUMA node zero\n",
      "2022-11-01 17:22:38.829975: I tensorflow/stream_executor/cuda/cuda_gpu_executor.cc:937] successful NUMA node read from SysFS had negative value (-1), but there must be at least one NUMA node, so returning NUMA node zero\n",
      "2022-11-01 17:22:38.830742: I tensorflow/stream_executor/cuda/cuda_gpu_executor.cc:937] successful NUMA node read from SysFS had negative value (-1), but there must be at least one NUMA node, so returning NUMA node zero\n",
      "2022-11-01 17:22:38.831521: I tensorflow/stream_executor/cuda/cuda_gpu_executor.cc:937] successful NUMA node read from SysFS had negative value (-1), but there must be at least one NUMA node, so returning NUMA node zero\n",
      "2022-11-01 17:22:43.724877: I tensorflow/stream_executor/cuda/cuda_gpu_executor.cc:937] successful NUMA node read from SysFS had negative value (-1), but there must be at least one NUMA node, so returning NUMA node zero\n",
      "2022-11-01 17:22:43.726492: I tensorflow/stream_executor/cuda/cuda_gpu_executor.cc:937] successful NUMA node read from SysFS had negative value (-1), but there must be at least one NUMA node, so returning NUMA node zero\n",
      "2022-11-01 17:22:43.727868: I tensorflow/stream_executor/cuda/cuda_gpu_executor.cc:937] successful NUMA node read from SysFS had negative value (-1), but there must be at least one NUMA node, so returning NUMA node zero\n",
      "2022-11-01 17:22:43.729140: I tensorflow/stream_executor/cuda/cuda_gpu_executor.cc:937] successful NUMA node read from SysFS had negative value (-1), but there must be at least one NUMA node, so returning NUMA node zero\n",
      "2022-11-01 17:22:43.730311: I tensorflow/stream_executor/cuda/cuda_gpu_executor.cc:937] successful NUMA node read from SysFS had negative value (-1), but there must be at least one NUMA node, so returning NUMA node zero\n",
      "2022-11-01 17:22:43.731479: I tensorflow/core/common_runtime/gpu/gpu_device.cc:1510] Created device /job:localhost/replica:0/task:0/device:GPU:0 with 13789 MB memory:  -> device: 0, name: Tesla T4, pci bus id: 0000:00:04.0, compute capability: 7.5\n",
      "2022-11-01 17:22:43.738123: I tensorflow/stream_executor/cuda/cuda_gpu_executor.cc:937] successful NUMA node read from SysFS had negative value (-1), but there must be at least one NUMA node, so returning NUMA node zero\n",
      "2022-11-01 17:22:43.739297: I tensorflow/core/common_runtime/gpu/gpu_device.cc:1510] Created device /job:localhost/replica:0/task:0/device:GPU:1 with 13789 MB memory:  -> device: 1, name: Tesla T4, pci bus id: 0000:00:05.0, compute capability: 7.5\n"
     ]
    }
   ],
   "source": [
    "# simple Convolutional layer, Dropout and GlobalMaxPooling for the sake of simplicity. You can plug your model right here and test it! Just make sure input_shape from Conv2D is the same that target_size in the generators.\n",
    "## Convolution layer  \n",
    "input = Input(shape=(224,224, 3))\n",
    "\n",
    "x = Conv2D(filters=256,kernel_size=3,padding='same' )(input)\n",
    "x = BatchNormalization()(x)\n",
    "x = Activation('tanh')(x)\n",
    "x = MaxPool2D(pool_size=2)(x)\n",
    "\n",
    "\n",
    "x = Conv2D(filters=128,kernel_size=3,padding='same' )(x)\n",
    "x = BatchNormalization()(x)\n",
    "x = Activation('tanh')(x)\n",
    "x = MaxPool2D(pool_size=2)(x)\n",
    "\n",
    "\n",
    "x = Conv2D(filters=64,kernel_size=3,padding='same' )(x)\n",
    "x = BatchNormalization()(x)\n",
    "x = Activation('tanh')(x)\n",
    "x = MaxPool2D(pool_size=2)(x)\n",
    "\n",
    "\n",
    "x = Flatten()(x)\n",
    "output= Dense(1, activation='sigmoid')(x)\n"
   ]
  },
  {
   "cell_type": "code",
   "execution_count": 15,
   "id": "0a1b7cc3",
   "metadata": {
    "execution": {
     "iopub.execute_input": "2022-11-01T17:22:44.350894Z",
     "iopub.status.busy": "2022-11-01T17:22:44.349976Z",
     "iopub.status.idle": "2022-11-01T17:22:44.359577Z",
     "shell.execute_reply": "2022-11-01T17:22:44.358665Z"
    },
    "papermill": {
     "duration": 0.025079,
     "end_time": "2022-11-01T17:22:44.361880",
     "exception": false,
     "start_time": "2022-11-01T17:22:44.336801",
     "status": "completed"
    },
    "tags": []
   },
   "outputs": [],
   "source": [
    "## Build the model\n",
    "model = Model(input, output)"
   ]
  },
  {
   "cell_type": "code",
   "execution_count": 16,
   "id": "a17223e1",
   "metadata": {
    "execution": {
     "iopub.execute_input": "2022-11-01T17:22:44.387342Z",
     "iopub.status.busy": "2022-11-01T17:22:44.387028Z",
     "iopub.status.idle": "2022-11-01T17:22:44.394055Z",
     "shell.execute_reply": "2022-11-01T17:22:44.392990Z"
    },
    "papermill": {
     "duration": 0.023609,
     "end_time": "2022-11-01T17:22:44.397782",
     "exception": false,
     "start_time": "2022-11-01T17:22:44.374173",
     "status": "completed"
    },
    "tags": []
   },
   "outputs": [
    {
     "name": "stdout",
     "output_type": "stream",
     "text": [
      "Model: \"model\"\n",
      "_________________________________________________________________\n",
      "Layer (type)                 Output Shape              Param #   \n",
      "=================================================================\n",
      "input_1 (InputLayer)         [(None, 224, 224, 3)]     0         \n",
      "_________________________________________________________________\n",
      "conv2d (Conv2D)              (None, 224, 224, 256)     7168      \n",
      "_________________________________________________________________\n",
      "batch_normalization (BatchNo (None, 224, 224, 256)     1024      \n",
      "_________________________________________________________________\n",
      "activation (Activation)      (None, 224, 224, 256)     0         \n",
      "_________________________________________________________________\n",
      "max_pooling2d (MaxPooling2D) (None, 112, 112, 256)     0         \n",
      "_________________________________________________________________\n",
      "conv2d_1 (Conv2D)            (None, 112, 112, 128)     295040    \n",
      "_________________________________________________________________\n",
      "batch_normalization_1 (Batch (None, 112, 112, 128)     512       \n",
      "_________________________________________________________________\n",
      "activation_1 (Activation)    (None, 112, 112, 128)     0         \n",
      "_________________________________________________________________\n",
      "max_pooling2d_1 (MaxPooling2 (None, 56, 56, 128)       0         \n",
      "_________________________________________________________________\n",
      "conv2d_2 (Conv2D)            (None, 56, 56, 64)        73792     \n",
      "_________________________________________________________________\n",
      "batch_normalization_2 (Batch (None, 56, 56, 64)        256       \n",
      "_________________________________________________________________\n",
      "activation_2 (Activation)    (None, 56, 56, 64)        0         \n",
      "_________________________________________________________________\n",
      "max_pooling2d_2 (MaxPooling2 (None, 28, 28, 64)        0         \n",
      "_________________________________________________________________\n",
      "flatten (Flatten)            (None, 50176)             0         \n",
      "_________________________________________________________________\n",
      "dense (Dense)                (None, 1)                 50177     \n",
      "=================================================================\n",
      "Total params: 427,969\n",
      "Trainable params: 427,073\n",
      "Non-trainable params: 896\n",
      "_________________________________________________________________\n"
     ]
    }
   ],
   "source": [
    "model.summary()"
   ]
  },
  {
   "cell_type": "code",
   "execution_count": 17,
   "id": "cff4b562",
   "metadata": {
    "execution": {
     "iopub.execute_input": "2022-11-01T17:22:44.422567Z",
     "iopub.status.busy": "2022-11-01T17:22:44.422268Z",
     "iopub.status.idle": "2022-11-01T17:22:44.435836Z",
     "shell.execute_reply": "2022-11-01T17:22:44.434744Z"
    },
    "papermill": {
     "duration": 0.028859,
     "end_time": "2022-11-01T17:22:44.438016",
     "exception": false,
     "start_time": "2022-11-01T17:22:44.409157",
     "status": "completed"
    },
    "tags": []
   },
   "outputs": [],
   "source": [
    "## Binary classification( cat and dog )\n",
    "model.compile(loss='binary_crossentropy', metrics='accuracy', optimizer='adam')"
   ]
  },
  {
   "cell_type": "code",
   "execution_count": 18,
   "id": "2433963d",
   "metadata": {
    "execution": {
     "iopub.execute_input": "2022-11-01T17:22:44.463766Z",
     "iopub.status.busy": "2022-11-01T17:22:44.462770Z",
     "iopub.status.idle": "2022-11-01T18:23:23.662049Z",
     "shell.execute_reply": "2022-11-01T18:23:23.660970Z"
    },
    "papermill": {
     "duration": 3639.64209,
     "end_time": "2022-11-01T18:23:24.091548",
     "exception": false,
     "start_time": "2022-11-01T17:22:44.449458",
     "status": "completed"
    },
    "tags": []
   },
   "outputs": [
    {
     "name": "stderr",
     "output_type": "stream",
     "text": [
      "2022-11-01 17:22:44.713322: I tensorflow/compiler/mlir/mlir_graph_optimization_pass.cc:185] None of the MLIR Optimization Passes are enabled (registered 2)\n"
     ]
    },
    {
     "name": "stdout",
     "output_type": "stream",
     "text": [
      "Epoch 1/50\n"
     ]
    },
    {
     "name": "stderr",
     "output_type": "stream",
     "text": [
      "2022-11-01 17:22:47.751120: I tensorflow/stream_executor/cuda/cuda_dnn.cc:369] Loaded cuDNN version 8005\n"
     ]
    },
    {
     "name": "stdout",
     "output_type": "stream",
     "text": [
      "128/128 [==============================] - 76s 462ms/step - loss: 1.4190 - accuracy: 0.5635 - val_loss: 0.8464 - val_accuracy: 0.5767\n",
      "Epoch 2/50\n",
      "128/128 [==============================] - 59s 461ms/step - loss: 1.2793 - accuracy: 0.5923 - val_loss: 0.8920 - val_accuracy: 0.5847\n",
      "Epoch 3/50\n",
      "128/128 [==============================] - 59s 460ms/step - loss: 1.2447 - accuracy: 0.6257 - val_loss: 0.9320 - val_accuracy: 0.6087\n",
      "Epoch 4/50\n",
      "128/128 [==============================] - 59s 458ms/step - loss: 1.2154 - accuracy: 0.6277 - val_loss: 1.3063 - val_accuracy: 0.6021\n",
      "Epoch 5/50\n",
      "128/128 [==============================] - 58s 456ms/step - loss: 1.0839 - accuracy: 0.6372 - val_loss: 1.3046 - val_accuracy: 0.5991\n",
      "Epoch 6/50\n",
      "128/128 [==============================] - 59s 462ms/step - loss: 1.1405 - accuracy: 0.6250 - val_loss: 2.2470 - val_accuracy: 0.5379\n",
      "Epoch 7/50\n",
      "128/128 [==============================] - 59s 465ms/step - loss: 1.0735 - accuracy: 0.6355 - val_loss: 1.4828 - val_accuracy: 0.5809\n",
      "Epoch 8/50\n",
      "128/128 [==============================] - 59s 464ms/step - loss: 0.9469 - accuracy: 0.6658 - val_loss: 1.1457 - val_accuracy: 0.6289\n",
      "Epoch 9/50\n",
      "128/128 [==============================] - 60s 471ms/step - loss: 0.8783 - accuracy: 0.6670 - val_loss: 1.0543 - val_accuracy: 0.5997\n",
      "Epoch 10/50\n",
      "128/128 [==============================] - 60s 466ms/step - loss: 0.8847 - accuracy: 0.6577 - val_loss: 0.8709 - val_accuracy: 0.6635\n",
      "Epoch 11/50\n",
      "128/128 [==============================] - 59s 463ms/step - loss: 0.7821 - accuracy: 0.6890 - val_loss: 1.1611 - val_accuracy: 0.6015\n",
      "Epoch 12/50\n",
      "128/128 [==============================] - 59s 463ms/step - loss: 0.8792 - accuracy: 0.6780 - val_loss: 0.9325 - val_accuracy: 0.6489\n",
      "Epoch 13/50\n",
      "128/128 [==============================] - 59s 461ms/step - loss: 0.7292 - accuracy: 0.6958 - val_loss: 0.8719 - val_accuracy: 0.6507\n",
      "Epoch 14/50\n",
      "128/128 [==============================] - 59s 461ms/step - loss: 0.6977 - accuracy: 0.7129 - val_loss: 0.6817 - val_accuracy: 0.6939\n",
      "Epoch 15/50\n",
      "128/128 [==============================] - 59s 460ms/step - loss: 0.6872 - accuracy: 0.7002 - val_loss: 0.7805 - val_accuracy: 0.6595\n",
      "Epoch 16/50\n",
      "128/128 [==============================] - 59s 462ms/step - loss: 0.6355 - accuracy: 0.7217 - val_loss: 1.0105 - val_accuracy: 0.6453\n",
      "Epoch 17/50\n",
      "128/128 [==============================] - 59s 462ms/step - loss: 0.6652 - accuracy: 0.7146 - val_loss: 0.6438 - val_accuracy: 0.6911\n",
      "Epoch 18/50\n",
      "128/128 [==============================] - 59s 458ms/step - loss: 0.6089 - accuracy: 0.7207 - val_loss: 0.6722 - val_accuracy: 0.6933\n",
      "Epoch 19/50\n",
      "128/128 [==============================] - 59s 465ms/step - loss: 0.6052 - accuracy: 0.7312 - val_loss: 0.7829 - val_accuracy: 0.6469\n",
      "Epoch 20/50\n",
      "128/128 [==============================] - 60s 469ms/step - loss: 0.5841 - accuracy: 0.7383 - val_loss: 0.7143 - val_accuracy: 0.6811\n",
      "Epoch 21/50\n",
      "128/128 [==============================] - 59s 459ms/step - loss: 0.5816 - accuracy: 0.7339 - val_loss: 0.6340 - val_accuracy: 0.7093\n",
      "Epoch 22/50\n",
      "128/128 [==============================] - 59s 462ms/step - loss: 0.5862 - accuracy: 0.7317 - val_loss: 0.6464 - val_accuracy: 0.6903\n",
      "Epoch 23/50\n",
      "128/128 [==============================] - 59s 465ms/step - loss: 0.5277 - accuracy: 0.7571 - val_loss: 0.7726 - val_accuracy: 0.6703\n",
      "Epoch 24/50\n",
      "128/128 [==============================] - 59s 460ms/step - loss: 0.5165 - accuracy: 0.7588 - val_loss: 0.7448 - val_accuracy: 0.6807\n",
      "Epoch 25/50\n",
      "128/128 [==============================] - 60s 469ms/step - loss: 0.5572 - accuracy: 0.7461 - val_loss: 0.6111 - val_accuracy: 0.7199\n",
      "Epoch 26/50\n",
      "128/128 [==============================] - 58s 454ms/step - loss: 0.5076 - accuracy: 0.7615 - val_loss: 0.6762 - val_accuracy: 0.6875\n",
      "Epoch 27/50\n",
      "128/128 [==============================] - 60s 467ms/step - loss: 0.5143 - accuracy: 0.7578 - val_loss: 0.9327 - val_accuracy: 0.6253\n",
      "Epoch 28/50\n",
      "128/128 [==============================] - 59s 459ms/step - loss: 0.4972 - accuracy: 0.7634 - val_loss: 0.6104 - val_accuracy: 0.7073\n",
      "Epoch 29/50\n",
      "128/128 [==============================] - 59s 459ms/step - loss: 0.4890 - accuracy: 0.7700 - val_loss: 0.5600 - val_accuracy: 0.7363\n",
      "Epoch 30/50\n",
      "128/128 [==============================] - 59s 462ms/step - loss: 0.4652 - accuracy: 0.7859 - val_loss: 0.5514 - val_accuracy: 0.7365\n",
      "Epoch 31/50\n",
      "128/128 [==============================] - 58s 456ms/step - loss: 0.4582 - accuracy: 0.7849 - val_loss: 0.5570 - val_accuracy: 0.7441\n",
      "Epoch 32/50\n",
      "128/128 [==============================] - 59s 461ms/step - loss: 0.4667 - accuracy: 0.7734 - val_loss: 0.6624 - val_accuracy: 0.7123\n",
      "Epoch 33/50\n",
      "128/128 [==============================] - 58s 455ms/step - loss: 0.4423 - accuracy: 0.7964 - val_loss: 0.5171 - val_accuracy: 0.7524\n",
      "Epoch 34/50\n",
      "128/128 [==============================] - 60s 468ms/step - loss: 0.4288 - accuracy: 0.8013 - val_loss: 0.5530 - val_accuracy: 0.7469\n",
      "Epoch 35/50\n",
      "128/128 [==============================] - 59s 462ms/step - loss: 0.4245 - accuracy: 0.7974 - val_loss: 0.5560 - val_accuracy: 0.7427\n",
      "Epoch 36/50\n",
      "128/128 [==============================] - 59s 459ms/step - loss: 0.4402 - accuracy: 0.8047 - val_loss: 0.6470 - val_accuracy: 0.7171\n",
      "Epoch 37/50\n",
      "128/128 [==============================] - 59s 462ms/step - loss: 0.4273 - accuracy: 0.7993 - val_loss: 0.5634 - val_accuracy: 0.7473\n",
      "Epoch 38/50\n",
      "128/128 [==============================] - 59s 462ms/step - loss: 0.4051 - accuracy: 0.8201 - val_loss: 0.6379 - val_accuracy: 0.7119\n",
      "Epoch 39/50\n",
      "128/128 [==============================] - 59s 458ms/step - loss: 0.3936 - accuracy: 0.8232 - val_loss: 0.5459 - val_accuracy: 0.7552\n",
      "Epoch 40/50\n",
      "128/128 [==============================] - 58s 456ms/step - loss: 0.3992 - accuracy: 0.8257 - val_loss: 0.5912 - val_accuracy: 0.7363\n",
      "Epoch 41/50\n",
      "128/128 [==============================] - 59s 465ms/step - loss: 0.3711 - accuracy: 0.8372 - val_loss: 0.5091 - val_accuracy: 0.7606\n",
      "Epoch 42/50\n",
      "128/128 [==============================] - 58s 453ms/step - loss: 0.3889 - accuracy: 0.8274 - val_loss: 0.7756 - val_accuracy: 0.6809\n",
      "Epoch 43/50\n",
      "128/128 [==============================] - 59s 462ms/step - loss: 0.4161 - accuracy: 0.8130 - val_loss: 0.5556 - val_accuracy: 0.7504\n",
      "Epoch 44/50\n",
      "128/128 [==============================] - 59s 459ms/step - loss: 0.3797 - accuracy: 0.8320 - val_loss: 0.5073 - val_accuracy: 0.7744\n",
      "Epoch 45/50\n",
      "128/128 [==============================] - 58s 454ms/step - loss: 0.3617 - accuracy: 0.8403 - val_loss: 0.5433 - val_accuracy: 0.7622\n",
      "Epoch 46/50\n",
      "128/128 [==============================] - 59s 461ms/step - loss: 0.3624 - accuracy: 0.8440 - val_loss: 0.5708 - val_accuracy: 0.7524\n",
      "Epoch 47/50\n",
      "128/128 [==============================] - 59s 462ms/step - loss: 0.3469 - accuracy: 0.8491 - val_loss: 0.6438 - val_accuracy: 0.7171\n",
      "Epoch 48/50\n",
      "128/128 [==============================] - 60s 466ms/step - loss: 0.3712 - accuracy: 0.8347 - val_loss: 0.5384 - val_accuracy: 0.7530\n",
      "Epoch 49/50\n",
      "128/128 [==============================] - 59s 458ms/step - loss: 0.3647 - accuracy: 0.8345 - val_loss: 0.5008 - val_accuracy: 0.7738\n",
      "Epoch 50/50\n",
      "128/128 [==============================] - 59s 458ms/step - loss: 0.3240 - accuracy: 0.8633 - val_loss: 0.5233 - val_accuracy: 0.7700\n"
     ]
    },
    {
     "data": {
      "text/plain": [
       "<keras.callbacks.History at 0x7fb5ddd80710>"
      ]
     },
     "execution_count": 18,
     "metadata": {},
     "output_type": "execute_result"
    }
   ],
   "source": [
    "model.fit(train_generator  , validation_data=val_generator, steps_per_epoch = 128,  epochs=50)"
   ]
  },
  {
   "cell_type": "code",
   "execution_count": 19,
   "id": "06f4b0d9",
   "metadata": {
    "execution": {
     "iopub.execute_input": "2022-11-01T18:23:24.959785Z",
     "iopub.status.busy": "2022-11-01T18:23:24.959352Z",
     "iopub.status.idle": "2022-11-01T18:23:24.972184Z",
     "shell.execute_reply": "2022-11-01T18:23:24.971151Z"
    },
    "papermill": {
     "duration": 0.532376,
     "end_time": "2022-11-01T18:23:24.974714",
     "exception": false,
     "start_time": "2022-11-01T18:23:24.442338",
     "status": "completed"
    },
    "tags": []
   },
   "outputs": [
    {
     "data": {
      "text/plain": [
       "{'loss': [1.418962836265564,\n",
       "  1.2792588472366333,\n",
       "  1.2447012662887573,\n",
       "  1.2153514623641968,\n",
       "  1.0839074850082397,\n",
       "  1.1405158042907715,\n",
       "  1.0734988451004028,\n",
       "  0.9469156861305237,\n",
       "  0.8783397674560547,\n",
       "  0.8847160339355469,\n",
       "  0.7820910215377808,\n",
       "  0.8792282938957214,\n",
       "  0.7291527986526489,\n",
       "  0.6977424621582031,\n",
       "  0.6872163414955139,\n",
       "  0.6355064511299133,\n",
       "  0.6652443408966064,\n",
       "  0.6089405417442322,\n",
       "  0.6051957607269287,\n",
       "  0.5841478109359741,\n",
       "  0.5815958976745605,\n",
       "  0.586150050163269,\n",
       "  0.5276837944984436,\n",
       "  0.5164841413497925,\n",
       "  0.5572398900985718,\n",
       "  0.5076062679290771,\n",
       "  0.5143029093742371,\n",
       "  0.49716848134994507,\n",
       "  0.4890374541282654,\n",
       "  0.4652310013771057,\n",
       "  0.45816728472709656,\n",
       "  0.46667781472206116,\n",
       "  0.44226932525634766,\n",
       "  0.4288325011730194,\n",
       "  0.424530029296875,\n",
       "  0.4401898980140686,\n",
       "  0.4272859990596771,\n",
       "  0.4050896465778351,\n",
       "  0.39355966448783875,\n",
       "  0.39923569560050964,\n",
       "  0.3710779845714569,\n",
       "  0.38887810707092285,\n",
       "  0.4161032736301422,\n",
       "  0.3797047734260559,\n",
       "  0.3616562783718109,\n",
       "  0.3624415695667267,\n",
       "  0.3468688130378723,\n",
       "  0.371228963136673,\n",
       "  0.364667147397995,\n",
       "  0.324001282453537],\n",
       " 'accuracy': [0.5634765625,\n",
       "  0.59228515625,\n",
       "  0.625732421875,\n",
       "  0.627685546875,\n",
       "  0.63720703125,\n",
       "  0.625,\n",
       "  0.635498046875,\n",
       "  0.665771484375,\n",
       "  0.6669921875,\n",
       "  0.65771484375,\n",
       "  0.68896484375,\n",
       "  0.677978515625,\n",
       "  0.69580078125,\n",
       "  0.712890625,\n",
       "  0.7001953125,\n",
       "  0.7216796875,\n",
       "  0.714599609375,\n",
       "  0.720703125,\n",
       "  0.731201171875,\n",
       "  0.73828125,\n",
       "  0.73388671875,\n",
       "  0.731689453125,\n",
       "  0.757080078125,\n",
       "  0.7587890625,\n",
       "  0.74609375,\n",
       "  0.761474609375,\n",
       "  0.7578125,\n",
       "  0.763427734375,\n",
       "  0.77001953125,\n",
       "  0.785888671875,\n",
       "  0.784912109375,\n",
       "  0.7734375,\n",
       "  0.79638671875,\n",
       "  0.80126953125,\n",
       "  0.79736328125,\n",
       "  0.8046875,\n",
       "  0.79931640625,\n",
       "  0.820068359375,\n",
       "  0.8232421875,\n",
       "  0.82568359375,\n",
       "  0.837158203125,\n",
       "  0.827392578125,\n",
       "  0.81298828125,\n",
       "  0.83203125,\n",
       "  0.84033203125,\n",
       "  0.843994140625,\n",
       "  0.84912109375,\n",
       "  0.834716796875,\n",
       "  0.83447265625,\n",
       "  0.86328125],\n",
       " 'val_loss': [0.8464089035987854,\n",
       "  0.8919873833656311,\n",
       "  0.9319918751716614,\n",
       "  1.3062790632247925,\n",
       "  1.3045742511749268,\n",
       "  2.2469894886016846,\n",
       "  1.4827932119369507,\n",
       "  1.1456942558288574,\n",
       "  1.0543088912963867,\n",
       "  0.8709303140640259,\n",
       "  1.1610839366912842,\n",
       "  0.9324710369110107,\n",
       "  0.8718531727790833,\n",
       "  0.6817442774772644,\n",
       "  0.7804911732673645,\n",
       "  1.0105340480804443,\n",
       "  0.643834114074707,\n",
       "  0.6722197532653809,\n",
       "  0.7828758358955383,\n",
       "  0.7142845988273621,\n",
       "  0.6340222358703613,\n",
       "  0.6464112401008606,\n",
       "  0.7725984454154968,\n",
       "  0.7448018193244934,\n",
       "  0.611064076423645,\n",
       "  0.6761775612831116,\n",
       "  0.9327033162117004,\n",
       "  0.6103780269622803,\n",
       "  0.5600414872169495,\n",
       "  0.551437258720398,\n",
       "  0.5569848418235779,\n",
       "  0.6623817682266235,\n",
       "  0.5170959234237671,\n",
       "  0.553027868270874,\n",
       "  0.5560169219970703,\n",
       "  0.6470444202423096,\n",
       "  0.5634413957595825,\n",
       "  0.6378871202468872,\n",
       "  0.5459237694740295,\n",
       "  0.5911588072776794,\n",
       "  0.5090739130973816,\n",
       "  0.7755786776542664,\n",
       "  0.5555630922317505,\n",
       "  0.5073105096817017,\n",
       "  0.5432844161987305,\n",
       "  0.5707524418830872,\n",
       "  0.6438160538673401,\n",
       "  0.5384203791618347,\n",
       "  0.5008320212364197,\n",
       "  0.5233013033866882],\n",
       " 'val_accuracy': [0.576715350151062,\n",
       "  0.5847169160842896,\n",
       "  0.6087217330932617,\n",
       "  0.6021203994750977,\n",
       "  0.5991198420524597,\n",
       "  0.537907600402832,\n",
       "  0.580916166305542,\n",
       "  0.6289258003234863,\n",
       "  0.5997199416160583,\n",
       "  0.6635327339172363,\n",
       "  0.601520299911499,\n",
       "  0.6489297747612,\n",
       "  0.6507301330566406,\n",
       "  0.6939387917518616,\n",
       "  0.6595318913459778,\n",
       "  0.6453290581703186,\n",
       "  0.6911382079124451,\n",
       "  0.6933386921882629,\n",
       "  0.6469293832778931,\n",
       "  0.6811362504959106,\n",
       "  0.7093418836593628,\n",
       "  0.6903380751609802,\n",
       "  0.6703340411186218,\n",
       "  0.6807361245155334,\n",
       "  0.7199440002441406,\n",
       "  0.6875374913215637,\n",
       "  0.625325083732605,\n",
       "  0.7073414921760559,\n",
       "  0.7363472580909729,\n",
       "  0.7365472912788391,\n",
       "  0.744148850440979,\n",
       "  0.7123424410820007,\n",
       "  0.7523504495620728,\n",
       "  0.7469493746757507,\n",
       "  0.7427485585212708,\n",
       "  0.7171434164047241,\n",
       "  0.7473494410514832,\n",
       "  0.7119423747062683,\n",
       "  0.7551510334014893,\n",
       "  0.7363472580909729,\n",
       "  0.7605521082878113,\n",
       "  0.6809361577033997,\n",
       "  0.7503500580787659,\n",
       "  0.774354875087738,\n",
       "  0.7621524333953857,\n",
       "  0.7523504495620728,\n",
       "  0.7171434164047241,\n",
       "  0.7529506087303162,\n",
       "  0.7737547755241394,\n",
       "  0.7699539661407471]}"
      ]
     },
     "execution_count": 19,
     "metadata": {},
     "output_type": "execute_result"
    }
   ],
   "source": [
    "model.history.history"
   ]
  },
  {
   "cell_type": "code",
   "execution_count": 20,
   "id": "225aa49a",
   "metadata": {
    "execution": {
     "iopub.execute_input": "2022-11-01T18:23:25.836851Z",
     "iopub.status.busy": "2022-11-01T18:23:25.836484Z",
     "iopub.status.idle": "2022-11-01T18:23:25.841461Z",
     "shell.execute_reply": "2022-11-01T18:23:25.840369Z"
    },
    "papermill": {
     "duration": 0.421136,
     "end_time": "2022-11-01T18:23:25.843574",
     "exception": false,
     "start_time": "2022-11-01T18:23:25.422438",
     "status": "completed"
    },
    "tags": []
   },
   "outputs": [],
   "source": [
    "val_loss['conv_256_128_64'] = model.history.history['val_loss']\n",
    "accuracy['conv_256_128_64'] = model.history.history['accuracy']"
   ]
  },
  {
   "cell_type": "code",
   "execution_count": 21,
   "id": "59385eb9",
   "metadata": {
    "execution": {
     "iopub.execute_input": "2022-11-01T18:23:26.553679Z",
     "iopub.status.busy": "2022-11-01T18:23:26.553310Z",
     "iopub.status.idle": "2022-11-01T18:23:26.917847Z",
     "shell.execute_reply": "2022-11-01T18:23:26.916831Z"
    },
    "papermill": {
     "duration": 0.725001,
     "end_time": "2022-11-01T18:23:26.920184",
     "exception": false,
     "start_time": "2022-11-01T18:23:26.195183",
     "status": "completed"
    },
    "tags": []
   },
   "outputs": [
    {
     "data": {
      "text/plain": [
       "<AxesSubplot:>"
      ]
     },
     "execution_count": 21,
     "metadata": {},
     "output_type": "execute_result"
    },
    {
     "data": {
      "image/png": "[encoded data removed]",
      "text/plain": [
       "<Figure size 432x288 with 1 Axes>"
      ]
     },
     "metadata": {
      "needs_background": "light"
     },
     "output_type": "display_data"
    }
   ],
   "source": [
    "pd.DataFrame(model.history.history).plot()"
   ]
  },
  {
   "cell_type": "code",
   "execution_count": 22,
   "id": "97e0a46e",
   "metadata": {
    "execution": {
     "iopub.execute_input": "2022-11-01T18:23:27.701375Z",
     "iopub.status.busy": "2022-11-01T18:23:27.701018Z",
     "iopub.status.idle": "2022-11-01T19:23:12.830118Z",
     "shell.execute_reply": "2022-11-01T19:23:12.828944Z"
    },
    "papermill": {
     "duration": 3585.552499,
     "end_time": "2022-11-01T19:23:12.833231",
     "exception": false,
     "start_time": "2022-11-01T18:23:27.280732",
     "status": "completed"
    },
    "tags": []
   },
   "outputs": [
    {
     "name": "stdout",
     "output_type": "stream",
     "text": [
      "Epoch 1/50\n",
      "128/128 [==============================] - 59s 459ms/step - loss: 0.2813 - accuracy: 0.8806 - val_loss: 0.4771 - val_accuracy: 0.7864\n",
      "Epoch 2/50\n",
      "128/128 [==============================] - 58s 457ms/step - loss: 0.2629 - accuracy: 0.8955 - val_loss: 0.4508 - val_accuracy: 0.8024\n",
      "Epoch 3/50\n",
      "128/128 [==============================] - 59s 459ms/step - loss: 0.2740 - accuracy: 0.8848 - val_loss: 0.4571 - val_accuracy: 0.7966\n",
      "Epoch 4/50\n",
      "128/128 [==============================] - 58s 455ms/step - loss: 0.2585 - accuracy: 0.8960 - val_loss: 0.4489 - val_accuracy: 0.8004\n",
      "Epoch 5/50\n",
      "128/128 [==============================] - 58s 457ms/step - loss: 0.2672 - accuracy: 0.8889 - val_loss: 0.4587 - val_accuracy: 0.8016\n",
      "Epoch 6/50\n",
      "128/128 [==============================] - 58s 457ms/step - loss: 0.2570 - accuracy: 0.8911 - val_loss: 0.4576 - val_accuracy: 0.8016\n",
      "Epoch 7/50\n",
      "128/128 [==============================] - 59s 461ms/step - loss: 0.2514 - accuracy: 0.8984 - val_loss: 0.4805 - val_accuracy: 0.7954\n",
      "Epoch 8/50\n",
      "128/128 [==============================] - 59s 464ms/step - loss: 0.2590 - accuracy: 0.8967 - val_loss: 0.4587 - val_accuracy: 0.8046\n",
      "Epoch 9/50\n",
      "128/128 [==============================] - 58s 455ms/step - loss: 0.2359 - accuracy: 0.9011 - val_loss: 0.4656 - val_accuracy: 0.8028\n",
      "Epoch 10/50\n",
      "128/128 [==============================] - 60s 468ms/step - loss: 0.2349 - accuracy: 0.9080 - val_loss: 0.4945 - val_accuracy: 0.7910\n",
      "Epoch 11/50\n",
      "128/128 [==============================] - 59s 458ms/step - loss: 0.2344 - accuracy: 0.9087 - val_loss: 0.4724 - val_accuracy: 0.8004\n",
      "Epoch 12/50\n",
      "128/128 [==============================] - 59s 459ms/step - loss: 0.2290 - accuracy: 0.9070 - val_loss: 0.4682 - val_accuracy: 0.8032\n",
      "Epoch 13/50\n",
      "128/128 [==============================] - 58s 456ms/step - loss: 0.2261 - accuracy: 0.9033 - val_loss: 0.4738 - val_accuracy: 0.8026\n",
      "Epoch 14/50\n",
      "128/128 [==============================] - 58s 455ms/step - loss: 0.2323 - accuracy: 0.9055 - val_loss: 0.4640 - val_accuracy: 0.8074\n",
      "Epoch 15/50\n",
      "128/128 [==============================] - 59s 457ms/step - loss: 0.2333 - accuracy: 0.9099 - val_loss: 0.4831 - val_accuracy: 0.8018\n",
      "Epoch 16/50\n",
      "128/128 [==============================] - 58s 456ms/step - loss: 0.2428 - accuracy: 0.9038 - val_loss: 0.4790 - val_accuracy: 0.8018\n",
      "Epoch 17/50\n",
      "128/128 [==============================] - 59s 460ms/step - loss: 0.2255 - accuracy: 0.9114 - val_loss: 0.4714 - val_accuracy: 0.8060\n",
      "Epoch 18/50\n",
      "128/128 [==============================] - 59s 460ms/step - loss: 0.2258 - accuracy: 0.9058 - val_loss: 0.4715 - val_accuracy: 0.8058\n",
      "Epoch 19/50\n",
      "128/128 [==============================] - 59s 458ms/step - loss: 0.2133 - accuracy: 0.9128 - val_loss: 0.4878 - val_accuracy: 0.8008\n",
      "Epoch 20/50\n",
      "128/128 [==============================] - 58s 455ms/step - loss: 0.2262 - accuracy: 0.9109 - val_loss: 0.5624 - val_accuracy: 0.7824\n",
      "Epoch 21/50\n",
      "128/128 [==============================] - 59s 464ms/step - loss: 0.2277 - accuracy: 0.9075 - val_loss: 0.4934 - val_accuracy: 0.7974\n",
      "Epoch 22/50\n",
      "128/128 [==============================] - 58s 455ms/step - loss: 0.2207 - accuracy: 0.9111 - val_loss: 0.4833 - val_accuracy: 0.8040\n",
      "Epoch 23/50\n",
      "128/128 [==============================] - 58s 457ms/step - loss: 0.2085 - accuracy: 0.9153 - val_loss: 0.4866 - val_accuracy: 0.7998\n",
      "Epoch 24/50\n",
      "128/128 [==============================] - 58s 456ms/step - loss: 0.2100 - accuracy: 0.9165 - val_loss: 0.4883 - val_accuracy: 0.8052\n",
      "Epoch 25/50\n",
      "128/128 [==============================] - 58s 453ms/step - loss: 0.2103 - accuracy: 0.9182 - val_loss: 0.5003 - val_accuracy: 0.7998\n",
      "Epoch 26/50\n",
      "128/128 [==============================] - 59s 462ms/step - loss: 0.2009 - accuracy: 0.9250 - val_loss: 0.4919 - val_accuracy: 0.7998\n",
      "Epoch 27/50\n",
      "128/128 [==============================] - 59s 463ms/step - loss: 0.2069 - accuracy: 0.9185 - val_loss: 0.4950 - val_accuracy: 0.8068\n",
      "Epoch 28/50\n",
      "128/128 [==============================] - 58s 456ms/step - loss: 0.2102 - accuracy: 0.9187 - val_loss: 0.5361 - val_accuracy: 0.7896\n",
      "Epoch 29/50\n",
      "128/128 [==============================] - 58s 453ms/step - loss: 0.1993 - accuracy: 0.9231 - val_loss: 0.5144 - val_accuracy: 0.7958\n",
      "Epoch 30/50\n",
      "128/128 [==============================] - 58s 455ms/step - loss: 0.2037 - accuracy: 0.9187 - val_loss: 0.4965 - val_accuracy: 0.8016\n",
      "Epoch 31/50\n",
      "128/128 [==============================] - 59s 458ms/step - loss: 0.1974 - accuracy: 0.9216 - val_loss: 0.4993 - val_accuracy: 0.8010\n",
      "Epoch 32/50\n",
      "128/128 [==============================] - 58s 452ms/step - loss: 0.1810 - accuracy: 0.9341 - val_loss: 0.5025 - val_accuracy: 0.7970\n",
      "Epoch 33/50\n",
      "128/128 [==============================] - 59s 458ms/step - loss: 0.1824 - accuracy: 0.9314 - val_loss: 0.5006 - val_accuracy: 0.8014\n",
      "Epoch 34/50\n",
      "128/128 [==============================] - 59s 463ms/step - loss: 0.1956 - accuracy: 0.9263 - val_loss: 0.5092 - val_accuracy: 0.7986\n",
      "Epoch 35/50\n",
      "128/128 [==============================] - 58s 456ms/step - loss: 0.1837 - accuracy: 0.9216 - val_loss: 0.5138 - val_accuracy: 0.7960\n",
      "Epoch 36/50\n",
      "128/128 [==============================] - 59s 460ms/step - loss: 0.1817 - accuracy: 0.9272 - val_loss: 0.5176 - val_accuracy: 0.7982\n",
      "Epoch 37/50\n",
      "128/128 [==============================] - 58s 454ms/step - loss: 0.1861 - accuracy: 0.9329 - val_loss: 0.5053 - val_accuracy: 0.7994\n",
      "Epoch 38/50\n",
      "128/128 [==============================] - 58s 455ms/step - loss: 0.1849 - accuracy: 0.9294 - val_loss: 0.5108 - val_accuracy: 0.7974\n",
      "Epoch 39/50\n",
      "128/128 [==============================] - 58s 454ms/step - loss: 0.1942 - accuracy: 0.9255 - val_loss: 0.5067 - val_accuracy: 0.7978\n",
      "Epoch 40/50\n",
      "128/128 [==============================] - 58s 457ms/step - loss: 0.1904 - accuracy: 0.9294 - val_loss: 0.5317 - val_accuracy: 0.7956\n",
      "Epoch 41/50\n",
      "128/128 [==============================] - 58s 455ms/step - loss: 0.1830 - accuracy: 0.9331 - val_loss: 0.5102 - val_accuracy: 0.7978\n",
      "Epoch 42/50\n",
      "128/128 [==============================] - 58s 457ms/step - loss: 0.1790 - accuracy: 0.9312 - val_loss: 0.5449 - val_accuracy: 0.7930\n",
      "Epoch 43/50\n",
      "128/128 [==============================] - 59s 460ms/step - loss: 0.1692 - accuracy: 0.9385 - val_loss: 0.5222 - val_accuracy: 0.7978\n",
      "Epoch 44/50\n",
      "128/128 [==============================] - 58s 456ms/step - loss: 0.1720 - accuracy: 0.9309 - val_loss: 0.5217 - val_accuracy: 0.7990\n",
      "Epoch 45/50\n",
      "128/128 [==============================] - 59s 458ms/step - loss: 0.1638 - accuracy: 0.9441 - val_loss: 0.5293 - val_accuracy: 0.7982\n",
      "Epoch 46/50\n",
      "128/128 [==============================] - 58s 457ms/step - loss: 0.1586 - accuracy: 0.9426 - val_loss: 0.5358 - val_accuracy: 0.7990\n",
      "Epoch 47/50\n",
      "128/128 [==============================] - 58s 453ms/step - loss: 0.1723 - accuracy: 0.9373 - val_loss: 0.5387 - val_accuracy: 0.7952\n",
      "Epoch 48/50\n",
      "128/128 [==============================] - 58s 455ms/step - loss: 0.1559 - accuracy: 0.9436 - val_loss: 0.5283 - val_accuracy: 0.8034\n",
      "Epoch 49/50\n",
      "128/128 [==============================] - 58s 456ms/step - loss: 0.1709 - accuracy: 0.9333 - val_loss: 0.5240 - val_accuracy: 0.8018\n",
      "Epoch 50/50\n",
      "128/128 [==============================] - 59s 458ms/step - loss: 0.1611 - accuracy: 0.9431 - val_loss: 0.5445 - val_accuracy: 0.8002\n"
     ]
    },
    {
     "data": {
      "text/plain": [
       "<keras.callbacks.History at 0x7fb5dc4b7b10>"
      ]
     },
     "execution_count": 22,
     "metadata": {},
     "output_type": "execute_result"
    }
   ],
   "source": [
    "input = Input(shape=(224,224, 3))\n",
    "\n",
    "x = Conv2D(filters=256,kernel_size=3,padding='same' )(input)\n",
    "x = Conv2D(filters=256,kernel_size=3,padding='same' )(x)\n",
    "x = BatchNormalization()(x)\n",
    "x = Activation('relu')(x)\n",
    "x = MaxPool2D(pool_size=2)(x)\n",
    "\n",
    "\n",
    "x = Conv2D(filters=128,kernel_size=3,padding='same' )(x)\n",
    "x = Conv2D(filters=128,kernel_size=3,padding='same' )(x)\n",
    "x = BatchNormalization()(x)\n",
    "x = Activation('relu')(x)\n",
    "x = MaxPool2D(pool_size=2)(x)\n",
    "\n",
    "\n",
    "x = Conv2D(filters=64,kernel_size=3,padding='same' )(x)\n",
    "x = BatchNormalization()(x)\n",
    "x = Activation('relu')(x)\n",
    "x = MaxPool2D(pool_size=2)(x)\n",
    "\n",
    "\n",
    "x = Flatten()(x)\n",
    "output= Dense(1, activation='sigmoid')(x)\n",
    "model\n",
    "\n",
    "\n",
    "model.compile(loss='binary_crossentropy', metrics='accuracy', optimizer='sgd')\n",
    "\n",
    "model.fit(train_generator, validation_data=val_generator, steps_per_epoch = 128,  epochs=50)"
   ]
  },
  {
   "cell_type": "code",
   "execution_count": 23,
   "id": "919830df",
   "metadata": {
    "execution": {
     "iopub.execute_input": "2022-11-01T19:23:14.484053Z",
     "iopub.status.busy": "2022-11-01T19:23:14.483666Z",
     "iopub.status.idle": "2022-11-01T19:23:14.494577Z",
     "shell.execute_reply": "2022-11-01T19:23:14.493657Z"
    },
    "papermill": {
     "duration": 0.704451,
     "end_time": "2022-11-01T19:23:14.496620",
     "exception": false,
     "start_time": "2022-11-01T19:23:13.792169",
     "status": "completed"
    },
    "tags": []
   },
   "outputs": [],
   "source": [
    "model.compile(loss='binary_crossentropy', metrics='accuracy', optimizer='sgd')"
   ]
  },
  {
   "cell_type": "code",
   "execution_count": 24,
   "id": "f4b35b45",
   "metadata": {
    "execution": {
     "iopub.execute_input": "2022-11-01T19:23:15.952659Z",
     "iopub.status.busy": "2022-11-01T19:23:15.952294Z",
     "iopub.status.idle": "2022-11-01T20:22:33.659954Z",
     "shell.execute_reply": "2022-11-01T20:22:33.658905Z"
    },
    "papermill": {
     "duration": 3558.404617,
     "end_time": "2022-11-01T20:22:33.662091",
     "exception": false,
     "start_time": "2022-11-01T19:23:15.257474",
     "status": "completed"
    },
    "tags": []
   },
   "outputs": [
    {
     "name": "stdout",
     "output_type": "stream",
     "text": [
      "Epoch 1/50\n",
      "128/128 [==============================] - 59s 458ms/step - loss: 0.1616 - accuracy: 0.9399 - val_loss: 0.5319 - val_accuracy: 0.8036\n",
      "Epoch 2/50\n",
      "128/128 [==============================] - 59s 458ms/step - loss: 0.1595 - accuracy: 0.9390 - val_loss: 0.5382 - val_accuracy: 0.7990\n",
      "Epoch 3/50\n",
      "128/128 [==============================] - 58s 457ms/step - loss: 0.1586 - accuracy: 0.9438 - val_loss: 0.5500 - val_accuracy: 0.7912\n",
      "Epoch 4/50\n",
      "128/128 [==============================] - 58s 456ms/step - loss: 0.1587 - accuracy: 0.9436 - val_loss: 0.5473 - val_accuracy: 0.7928\n",
      "Epoch 5/50\n",
      "128/128 [==============================] - 58s 457ms/step - loss: 0.1639 - accuracy: 0.9399 - val_loss: 0.5606 - val_accuracy: 0.7934\n",
      "Epoch 6/50\n",
      "128/128 [==============================] - 58s 452ms/step - loss: 0.1524 - accuracy: 0.9456 - val_loss: 0.5765 - val_accuracy: 0.7916\n",
      "Epoch 7/50\n",
      "128/128 [==============================] - 59s 463ms/step - loss: 0.1536 - accuracy: 0.9431 - val_loss: 0.5493 - val_accuracy: 0.7956\n",
      "Epoch 8/50\n",
      "128/128 [==============================] - 58s 455ms/step - loss: 0.1529 - accuracy: 0.9426 - val_loss: 0.5509 - val_accuracy: 0.7974\n",
      "Epoch 9/50\n",
      "128/128 [==============================] - 58s 455ms/step - loss: 0.1507 - accuracy: 0.9470 - val_loss: 0.5455 - val_accuracy: 0.7950\n",
      "Epoch 10/50\n",
      "128/128 [==============================] - 58s 454ms/step - loss: 0.1347 - accuracy: 0.9536 - val_loss: 0.5431 - val_accuracy: 0.7972\n",
      "Epoch 11/50\n",
      "128/128 [==============================] - 58s 456ms/step - loss: 0.1457 - accuracy: 0.9456 - val_loss: 0.5633 - val_accuracy: 0.7948\n",
      "Epoch 12/50\n",
      "128/128 [==============================] - 59s 460ms/step - loss: 0.1454 - accuracy: 0.9495 - val_loss: 0.5645 - val_accuracy: 0.7966\n",
      "Epoch 13/50\n",
      "128/128 [==============================] - 59s 458ms/step - loss: 0.1324 - accuracy: 0.9570 - val_loss: 0.5628 - val_accuracy: 0.8016\n",
      "Epoch 14/50\n",
      "128/128 [==============================] - 59s 458ms/step - loss: 0.1521 - accuracy: 0.9456 - val_loss: 0.5538 - val_accuracy: 0.8002\n",
      "Epoch 15/50\n",
      "128/128 [==============================] - 59s 457ms/step - loss: 0.1384 - accuracy: 0.9507 - val_loss: 0.5592 - val_accuracy: 0.7992\n",
      "Epoch 16/50\n",
      "128/128 [==============================] - 58s 455ms/step - loss: 0.1384 - accuracy: 0.9495 - val_loss: 0.5556 - val_accuracy: 0.7984\n",
      "Epoch 17/50\n",
      "128/128 [==============================] - 58s 454ms/step - loss: 0.1321 - accuracy: 0.9568 - val_loss: 0.5581 - val_accuracy: 0.7962\n",
      "Epoch 18/50\n",
      "128/128 [==============================] - 58s 456ms/step - loss: 0.1471 - accuracy: 0.9468 - val_loss: 0.5624 - val_accuracy: 0.7968\n",
      "Epoch 19/50\n",
      "128/128 [==============================] - 58s 452ms/step - loss: 0.1405 - accuracy: 0.9502 - val_loss: 0.5693 - val_accuracy: 0.7972\n",
      "Epoch 20/50\n",
      "128/128 [==============================] - 58s 455ms/step - loss: 0.1384 - accuracy: 0.9519 - val_loss: 0.5736 - val_accuracy: 0.7958\n",
      "Epoch 21/50\n",
      "128/128 [==============================] - 58s 454ms/step - loss: 0.1381 - accuracy: 0.9507 - val_loss: 0.5707 - val_accuracy: 0.7958\n",
      "Epoch 22/50\n",
      "128/128 [==============================] - 59s 463ms/step - loss: 0.1248 - accuracy: 0.9587 - val_loss: 0.5793 - val_accuracy: 0.7938\n",
      "Epoch 23/50\n",
      "128/128 [==============================] - 59s 462ms/step - loss: 0.1254 - accuracy: 0.9570 - val_loss: 0.5611 - val_accuracy: 0.7966\n",
      "Epoch 24/50\n",
      "128/128 [==============================] - 58s 454ms/step - loss: 0.1489 - accuracy: 0.9536 - val_loss: 0.5692 - val_accuracy: 0.7968\n",
      "Epoch 25/50\n",
      "128/128 [==============================] - 58s 457ms/step - loss: 0.1264 - accuracy: 0.9570 - val_loss: 0.5720 - val_accuracy: 0.7958\n",
      "Epoch 26/50\n",
      "128/128 [==============================] - 58s 450ms/step - loss: 0.1209 - accuracy: 0.9602 - val_loss: 0.5953 - val_accuracy: 0.7892\n",
      "Epoch 27/50\n",
      "128/128 [==============================] - 59s 458ms/step - loss: 0.1337 - accuracy: 0.9556 - val_loss: 0.5842 - val_accuracy: 0.7912\n",
      "Epoch 28/50\n",
      "128/128 [==============================] - 58s 455ms/step - loss: 0.1300 - accuracy: 0.9573 - val_loss: 0.5753 - val_accuracy: 0.7972\n",
      "Epoch 29/50\n",
      "128/128 [==============================] - 58s 454ms/step - loss: 0.1291 - accuracy: 0.9553 - val_loss: 0.5789 - val_accuracy: 0.7950\n",
      "Epoch 30/50\n",
      "128/128 [==============================] - 59s 460ms/step - loss: 0.1157 - accuracy: 0.9648 - val_loss: 0.5791 - val_accuracy: 0.7952\n",
      "Epoch 31/50\n",
      "128/128 [==============================] - 59s 459ms/step - loss: 0.1238 - accuracy: 0.9617 - val_loss: 0.5795 - val_accuracy: 0.7984\n",
      "Epoch 32/50\n",
      "128/128 [==============================] - 58s 456ms/step - loss: 0.1193 - accuracy: 0.9644 - val_loss: 0.5838 - val_accuracy: 0.7940\n",
      "Epoch 33/50\n",
      "128/128 [==============================] - 59s 463ms/step - loss: 0.1144 - accuracy: 0.9653 - val_loss: 0.5899 - val_accuracy: 0.7922\n",
      "Epoch 34/50\n",
      "128/128 [==============================] - 58s 454ms/step - loss: 0.1184 - accuracy: 0.9629 - val_loss: 0.5918 - val_accuracy: 0.7926\n",
      "Epoch 35/50\n",
      "128/128 [==============================] - 59s 459ms/step - loss: 0.1112 - accuracy: 0.9680 - val_loss: 0.5929 - val_accuracy: 0.7956\n",
      "Epoch 36/50\n",
      "128/128 [==============================] - 58s 454ms/step - loss: 0.1193 - accuracy: 0.9614 - val_loss: 0.5918 - val_accuracy: 0.7922\n",
      "Epoch 37/50\n",
      "128/128 [==============================] - 58s 455ms/step - loss: 0.1057 - accuracy: 0.9697 - val_loss: 0.5994 - val_accuracy: 0.7948\n",
      "Epoch 38/50\n",
      "128/128 [==============================] - 59s 461ms/step - loss: 0.1127 - accuracy: 0.9675 - val_loss: 0.5889 - val_accuracy: 0.7980\n",
      "Epoch 39/50\n",
      "128/128 [==============================] - 59s 461ms/step - loss: 0.1045 - accuracy: 0.9690 - val_loss: 0.6013 - val_accuracy: 0.7964\n",
      "Epoch 40/50\n",
      "128/128 [==============================] - 58s 452ms/step - loss: 0.1078 - accuracy: 0.9675 - val_loss: 0.6071 - val_accuracy: 0.7916\n",
      "Epoch 41/50\n",
      "128/128 [==============================] - 59s 457ms/step - loss: 0.1120 - accuracy: 0.9668 - val_loss: 0.6019 - val_accuracy: 0.7930\n",
      "Epoch 42/50\n",
      "128/128 [==============================] - 59s 462ms/step - loss: 0.0996 - accuracy: 0.9707 - val_loss: 0.6004 - val_accuracy: 0.7970\n",
      "Epoch 43/50\n",
      "128/128 [==============================] - 60s 465ms/step - loss: 0.1114 - accuracy: 0.9658 - val_loss: 0.5965 - val_accuracy: 0.7962\n",
      "Epoch 44/50\n",
      "128/128 [==============================] - 58s 453ms/step - loss: 0.0982 - accuracy: 0.9734 - val_loss: 0.6085 - val_accuracy: 0.7982\n",
      "Epoch 45/50\n",
      "128/128 [==============================] - 59s 461ms/step - loss: 0.1033 - accuracy: 0.9700 - val_loss: 0.6233 - val_accuracy: 0.7936\n",
      "Epoch 46/50\n",
      "128/128 [==============================] - 59s 459ms/step - loss: 0.1033 - accuracy: 0.9690 - val_loss: 0.6102 - val_accuracy: 0.7938\n",
      "Epoch 47/50\n",
      "128/128 [==============================] - 59s 460ms/step - loss: 0.1024 - accuracy: 0.9731 - val_loss: 0.6351 - val_accuracy: 0.7864\n",
      "Epoch 48/50\n",
      "128/128 [==============================] - 58s 453ms/step - loss: 0.0964 - accuracy: 0.9722 - val_loss: 0.6291 - val_accuracy: 0.7918\n",
      "Epoch 49/50\n",
      "128/128 [==============================] - 58s 455ms/step - loss: 0.1042 - accuracy: 0.9709 - val_loss: 0.6229 - val_accuracy: 0.7942\n",
      "Epoch 50/50\n",
      "128/128 [==============================] - 59s 462ms/step - loss: 0.1007 - accuracy: 0.9719 - val_loss: 0.6333 - val_accuracy: 0.7908\n"
     ]
    },
    {
     "data": {
      "text/plain": [
       "<keras.callbacks.History at 0x7fb5dc11d890>"
      ]
     },
     "execution_count": 24,
     "metadata": {},
     "output_type": "execute_result"
    }
   ],
   "source": [
    "model.fit(train_generator, validation_data=val_generator, steps_per_epoch = 128,  epochs=50)"
   ]
  },
  {
   "cell_type": "code",
   "execution_count": 25,
   "id": "4ecd59f6",
   "metadata": {
    "execution": {
     "iopub.execute_input": "2022-11-01T20:22:36.079825Z",
     "iopub.status.busy": "2022-11-01T20:22:36.079341Z",
     "iopub.status.idle": "2022-11-01T20:22:36.085230Z",
     "shell.execute_reply": "2022-11-01T20:22:36.084095Z"
    },
    "papermill": {
     "duration": 1.291249,
     "end_time": "2022-11-01T20:22:36.087524",
     "exception": false,
     "start_time": "2022-11-01T20:22:34.796275",
     "status": "completed"
    },
    "tags": []
   },
   "outputs": [],
   "source": [
    "val_loss['conv_256x2_128x2_64'] = model.history.history['val_loss']\n",
    "accuracy['conv_256x2_128x2_64'] = model.history.history['accuracy']"
   ]
  },
  {
   "cell_type": "code",
   "execution_count": 26,
   "id": "9d7b3221",
   "metadata": {
    "execution": {
     "iopub.execute_input": "2022-11-01T20:22:38.254864Z",
     "iopub.status.busy": "2022-11-01T20:22:38.254504Z",
     "iopub.status.idle": "2022-11-01T20:22:38.507757Z",
     "shell.execute_reply": "2022-11-01T20:22:38.506848Z"
    },
    "papermill": {
     "duration": 1.381824,
     "end_time": "2022-11-01T20:22:38.509955",
     "exception": false,
     "start_time": "2022-11-01T20:22:37.128131",
     "status": "completed"
    },
    "tags": []
   },
   "outputs": [
    {
     "data": {
      "text/plain": [
       "<AxesSubplot:>"
      ]
     },
     "execution_count": 26,
     "metadata": {},
     "output_type": "execute_result"
    },
    {
     "data": {
      "image/png": "[encoded data removed]",
      "text/plain": [
       "<Figure size 432x288 with 1 Axes>"
      ]
     },
     "metadata": {
      "needs_background": "light"
     },
     "output_type": "display_data"
    }
   ],
   "source": [
    "pd.DataFrame(model.history.history).plot()"
   ]
  },
  {
   "cell_type": "code",
   "execution_count": 27,
   "id": "4fcf5d1e",
   "metadata": {
    "execution": {
     "iopub.execute_input": "2022-11-01T20:22:41.114367Z",
     "iopub.status.busy": "2022-11-01T20:22:41.113908Z",
     "iopub.status.idle": "2022-11-01T20:22:41.205320Z",
     "shell.execute_reply": "2022-11-01T20:22:41.204295Z"
    },
    "papermill": {
     "duration": 1.655612,
     "end_time": "2022-11-01T20:22:41.208157",
     "exception": false,
     "start_time": "2022-11-01T20:22:39.552545",
     "status": "completed"
    },
    "tags": []
   },
   "outputs": [],
   "source": [
    "input = Input(shape=(224,224, 3))\n",
    "\n",
    "x = Conv2D(filters=128,kernel_size=3, strides=2 )(input)\n",
    "x = Conv2D(filters=128,kernel_size=3, strides=2 )(x)\n",
    "x = BatchNormalization()(x)\n",
    "x = Activation('selu')(x)\n",
    "x = MaxPool2D(pool_size=2)(x)\n",
    "\n",
    "\n",
    "x = Conv2D(filters=64,kernel_size=3, strides=2 )(x)\n",
    "x = Conv2D(filters=64,kernel_size=3, strides=2 )(x)\n",
    "x = BatchNormalization()(x)\n",
    "x = Activation('selu')(x)\n",
    "x = MaxPool2D(pool_size=2)(x)\n",
    "x = Dropout(0.8)(x)\n",
    "\n",
    "\n",
    "\n",
    "x = Flatten()(x)\n",
    "output= Dense(1, activation='sigmoid')(x)\n",
    "model = Model(input, output)"
   ]
  },
  {
   "cell_type": "code",
   "execution_count": 28,
   "id": "829e99d6",
   "metadata": {
    "execution": {
     "iopub.execute_input": "2022-11-01T20:22:43.394814Z",
     "iopub.status.busy": "2022-11-01T20:22:43.394449Z",
     "iopub.status.idle": "2022-11-01T20:53:05.352477Z",
     "shell.execute_reply": "2022-11-01T20:53:05.351467Z"
    },
    "papermill": {
     "duration": 1823.108054,
     "end_time": "2022-11-01T20:53:05.354497",
     "exception": false,
     "start_time": "2022-11-01T20:22:42.246443",
     "status": "completed"
    },
    "tags": []
   },
   "outputs": [
    {
     "name": "stdout",
     "output_type": "stream",
     "text": [
      "Epoch 1/50\n",
      "128/128 [==============================] - 33s 250ms/step - loss: 1.3043 - accuracy: 0.5215 - val_loss: 0.6699 - val_accuracy: 0.5913\n",
      "Epoch 2/50\n",
      "128/128 [==============================] - 32s 251ms/step - loss: 1.0140 - accuracy: 0.5413 - val_loss: 0.6507 - val_accuracy: 0.6147\n",
      "Epoch 3/50\n",
      "128/128 [==============================] - 32s 252ms/step - loss: 0.8695 - accuracy: 0.5649 - val_loss: 0.6576 - val_accuracy: 0.6085\n",
      "Epoch 4/50\n",
      "128/128 [==============================] - 32s 253ms/step - loss: 0.7453 - accuracy: 0.6003 - val_loss: 0.6278 - val_accuracy: 0.6483\n",
      "Epoch 5/50\n",
      "128/128 [==============================] - 33s 259ms/step - loss: 0.6809 - accuracy: 0.6243 - val_loss: 0.6240 - val_accuracy: 0.6421\n",
      "Epoch 6/50\n",
      "128/128 [==============================] - 33s 261ms/step - loss: 0.6533 - accuracy: 0.6362 - val_loss: 0.6289 - val_accuracy: 0.6433\n",
      "Epoch 7/50\n",
      "128/128 [==============================] - 32s 253ms/step - loss: 0.6391 - accuracy: 0.6428 - val_loss: 0.5987 - val_accuracy: 0.6743\n",
      "Epoch 8/50\n",
      "128/128 [==============================] - 32s 249ms/step - loss: 0.6290 - accuracy: 0.6602 - val_loss: 0.6618 - val_accuracy: 0.6099\n",
      "Epoch 9/50\n",
      "128/128 [==============================] - 33s 254ms/step - loss: 0.6301 - accuracy: 0.6553 - val_loss: 0.6460 - val_accuracy: 0.6207\n",
      "Epoch 10/50\n",
      "128/128 [==============================] - 32s 250ms/step - loss: 0.6111 - accuracy: 0.6750 - val_loss: 0.6068 - val_accuracy: 0.6629\n",
      "Epoch 11/50\n",
      "128/128 [==============================] - 32s 249ms/step - loss: 0.6048 - accuracy: 0.6711 - val_loss: 0.5815 - val_accuracy: 0.6857\n",
      "Epoch 12/50\n",
      "128/128 [==============================] - 32s 247ms/step - loss: 0.6043 - accuracy: 0.6760 - val_loss: 0.5853 - val_accuracy: 0.6811\n",
      "Epoch 13/50\n",
      "128/128 [==============================] - 32s 252ms/step - loss: 0.5943 - accuracy: 0.6863 - val_loss: 0.5663 - val_accuracy: 0.7131\n",
      "Epoch 14/50\n",
      "128/128 [==============================] - 33s 257ms/step - loss: 0.5812 - accuracy: 0.6975 - val_loss: 0.5734 - val_accuracy: 0.7035\n",
      "Epoch 15/50\n",
      "128/128 [==============================] - 31s 245ms/step - loss: 0.5836 - accuracy: 0.6938 - val_loss: 0.6028 - val_accuracy: 0.6819\n",
      "Epoch 16/50\n",
      "128/128 [==============================] - 31s 244ms/step - loss: 0.5801 - accuracy: 0.6973 - val_loss: 0.5689 - val_accuracy: 0.7087\n",
      "Epoch 17/50\n",
      "128/128 [==============================] - 33s 258ms/step - loss: 0.5770 - accuracy: 0.6917 - val_loss: 0.5439 - val_accuracy: 0.7265\n",
      "Epoch 18/50\n",
      "128/128 [==============================] - 33s 255ms/step - loss: 0.5754 - accuracy: 0.7048 - val_loss: 0.5181 - val_accuracy: 0.7433\n",
      "Epoch 19/50\n",
      "128/128 [==============================] - 33s 254ms/step - loss: 0.5681 - accuracy: 0.7144 - val_loss: 0.5279 - val_accuracy: 0.7257\n",
      "Epoch 20/50\n",
      "128/128 [==============================] - 32s 253ms/step - loss: 0.5653 - accuracy: 0.7175 - val_loss: 0.6337 - val_accuracy: 0.6509\n",
      "Epoch 21/50\n",
      "128/128 [==============================] - 33s 258ms/step - loss: 0.5608 - accuracy: 0.7126 - val_loss: 0.7074 - val_accuracy: 0.6319\n",
      "Epoch 22/50\n",
      "128/128 [==============================] - 32s 253ms/step - loss: 0.5427 - accuracy: 0.7236 - val_loss: 0.5068 - val_accuracy: 0.7594\n",
      "Epoch 23/50\n",
      "128/128 [==============================] - 32s 252ms/step - loss: 0.5326 - accuracy: 0.7354 - val_loss: 0.5150 - val_accuracy: 0.7544\n",
      "Epoch 24/50\n",
      "128/128 [==============================] - 33s 259ms/step - loss: 0.5473 - accuracy: 0.7256 - val_loss: 0.4909 - val_accuracy: 0.7698\n",
      "Epoch 25/50\n",
      "128/128 [==============================] - 33s 254ms/step - loss: 0.5197 - accuracy: 0.7493 - val_loss: 0.5610 - val_accuracy: 0.7173\n",
      "Epoch 26/50\n",
      "128/128 [==============================] - 32s 251ms/step - loss: 0.5388 - accuracy: 0.7327 - val_loss: 0.4876 - val_accuracy: 0.7734\n",
      "Epoch 27/50\n",
      "128/128 [==============================] - 32s 250ms/step - loss: 0.5233 - accuracy: 0.7466 - val_loss: 0.5370 - val_accuracy: 0.7373\n",
      "Epoch 28/50\n",
      "128/128 [==============================] - 33s 258ms/step - loss: 0.5192 - accuracy: 0.7578 - val_loss: 0.4786 - val_accuracy: 0.7728\n",
      "Epoch 29/50\n",
      "128/128 [==============================] - 33s 255ms/step - loss: 0.5232 - accuracy: 0.7456 - val_loss: 0.4850 - val_accuracy: 0.7802\n",
      "Epoch 30/50\n",
      "128/128 [==============================] - 33s 259ms/step - loss: 0.5076 - accuracy: 0.7556 - val_loss: 0.4878 - val_accuracy: 0.7706\n",
      "Epoch 31/50\n",
      "128/128 [==============================] - 33s 257ms/step - loss: 0.5176 - accuracy: 0.7458 - val_loss: 0.4639 - val_accuracy: 0.7870\n",
      "Epoch 32/50\n",
      "128/128 [==============================] - 33s 259ms/step - loss: 0.5138 - accuracy: 0.7539 - val_loss: 0.4836 - val_accuracy: 0.7590\n",
      "Epoch 33/50\n",
      "128/128 [==============================] - 33s 255ms/step - loss: 0.5074 - accuracy: 0.7549 - val_loss: 0.4654 - val_accuracy: 0.7970\n",
      "Epoch 34/50\n",
      "128/128 [==============================] - 32s 251ms/step - loss: 0.5051 - accuracy: 0.7578 - val_loss: 0.4591 - val_accuracy: 0.7918\n",
      "Epoch 35/50\n",
      "128/128 [==============================] - 34s 262ms/step - loss: 0.5012 - accuracy: 0.7666 - val_loss: 0.4754 - val_accuracy: 0.7760\n",
      "Epoch 36/50\n",
      "128/128 [==============================] - 34s 266ms/step - loss: 0.4960 - accuracy: 0.7615 - val_loss: 0.4707 - val_accuracy: 0.7746\n",
      "Epoch 37/50\n",
      "128/128 [==============================] - 33s 255ms/step - loss: 0.4885 - accuracy: 0.7690 - val_loss: 0.5003 - val_accuracy: 0.7471\n",
      "Epoch 38/50\n",
      "128/128 [==============================] - 34s 262ms/step - loss: 0.4983 - accuracy: 0.7656 - val_loss: 0.4796 - val_accuracy: 0.7802\n",
      "Epoch 39/50\n",
      "128/128 [==============================] - 32s 252ms/step - loss: 0.4791 - accuracy: 0.7732 - val_loss: 0.4600 - val_accuracy: 0.7926\n",
      "Epoch 40/50\n",
      "128/128 [==============================] - 32s 253ms/step - loss: 0.4697 - accuracy: 0.7754 - val_loss: 0.4543 - val_accuracy: 0.7878\n",
      "Epoch 41/50\n",
      "128/128 [==============================] - 33s 258ms/step - loss: 0.4888 - accuracy: 0.7693 - val_loss: 0.4481 - val_accuracy: 0.8012\n",
      "Epoch 42/50\n",
      "128/128 [==============================] - 33s 256ms/step - loss: 0.4725 - accuracy: 0.7817 - val_loss: 0.4497 - val_accuracy: 0.7974\n",
      "Epoch 43/50\n",
      "128/128 [==============================] - 34s 262ms/step - loss: 0.4928 - accuracy: 0.7676 - val_loss: 0.5000 - val_accuracy: 0.7469\n",
      "Epoch 44/50\n",
      "128/128 [==============================] - 33s 255ms/step - loss: 0.4886 - accuracy: 0.7627 - val_loss: 0.4706 - val_accuracy: 0.7890\n",
      "Epoch 45/50\n",
      "128/128 [==============================] - 33s 259ms/step - loss: 0.4996 - accuracy: 0.7573 - val_loss: 0.4469 - val_accuracy: 0.7992\n",
      "Epoch 46/50\n",
      "128/128 [==============================] - 32s 252ms/step - loss: 0.4672 - accuracy: 0.7834 - val_loss: 0.4444 - val_accuracy: 0.8000\n",
      "Epoch 47/50\n",
      "128/128 [==============================] - 32s 253ms/step - loss: 0.4754 - accuracy: 0.7783 - val_loss: 0.4437 - val_accuracy: 0.8038\n",
      "Epoch 48/50\n",
      "128/128 [==============================] - 32s 254ms/step - loss: 0.4614 - accuracy: 0.7915 - val_loss: 0.4360 - val_accuracy: 0.8000\n",
      "Epoch 49/50\n",
      "128/128 [==============================] - 32s 249ms/step - loss: 0.4840 - accuracy: 0.7749 - val_loss: 0.5927 - val_accuracy: 0.7161\n",
      "Epoch 50/50\n",
      "128/128 [==============================] - 32s 251ms/step - loss: 0.4594 - accuracy: 0.7830 - val_loss: 0.4689 - val_accuracy: 0.7716\n"
     ]
    },
    {
     "data": {
      "text/plain": [
       "<keras.callbacks.History at 0x7fb5d0418990>"
      ]
     },
     "execution_count": 28,
     "metadata": {},
     "output_type": "execute_result"
    }
   ],
   "source": [
    "model.compile(loss='binary_crossentropy', metrics='accuracy', optimizer='adam')\n",
    "model.fit(train_generator, validation_data=val_generator, steps_per_epoch = 128,  epochs=50)"
   ]
  },
  {
   "cell_type": "code",
   "execution_count": 29,
   "id": "534ae1a5",
   "metadata": {
    "execution": {
     "iopub.execute_input": "2022-11-01T20:53:08.326690Z",
     "iopub.status.busy": "2022-11-01T20:53:08.325781Z",
     "iopub.status.idle": "2022-11-01T20:53:08.330738Z",
     "shell.execute_reply": "2022-11-01T20:53:08.329813Z"
    },
    "papermill": {
     "duration": 1.500185,
     "end_time": "2022-11-01T20:53:08.332876",
     "exception": false,
     "start_time": "2022-11-01T20:53:06.832691",
     "status": "completed"
    },
    "tags": []
   },
   "outputs": [],
   "source": [
    "val_loss['conv_128x2_64x2'] = model.history.history['val_loss']\n",
    "accuracy['conv_128x2_64x2'] = model.history.history['accuracy']"
   ]
  },
  {
   "cell_type": "code",
   "execution_count": 30,
   "id": "82beeecd",
   "metadata": {
    "execution": {
     "iopub.execute_input": "2022-11-01T20:53:11.207717Z",
     "iopub.status.busy": "2022-11-01T20:53:11.207358Z",
     "iopub.status.idle": "2022-11-01T20:53:11.446965Z",
     "shell.execute_reply": "2022-11-01T20:53:11.446066Z"
    },
    "papermill": {
     "duration": 1.645426,
     "end_time": "2022-11-01T20:53:11.449236",
     "exception": false,
     "start_time": "2022-11-01T20:53:09.803810",
     "status": "completed"
    },
    "tags": []
   },
   "outputs": [
    {
     "data": {
      "text/plain": [
       "<AxesSubplot:>"
      ]
     },
     "execution_count": 30,
     "metadata": {},
     "output_type": "execute_result"
    },
    {
     "data": {
      "image/png": "[encoded data removed]",
      "text/plain": [
       "<Figure size 432x288 with 1 Axes>"
      ]
     },
     "metadata": {
      "needs_background": "light"
     },
     "output_type": "display_data"
    }
   ],
   "source": [
    "pd.DataFrame(model.history.history).plot()"
   ]
  },
  {
   "cell_type": "code",
   "execution_count": 31,
   "id": "acb3b40d",
   "metadata": {
    "execution": {
     "iopub.execute_input": "2022-11-01T20:53:15.075140Z",
     "iopub.status.busy": "2022-11-01T20:53:15.074733Z",
     "iopub.status.idle": "2022-11-01T21:26:10.955836Z",
     "shell.execute_reply": "2022-11-01T21:26:10.954865Z"
    },
    "papermill": {
     "duration": 1979.54737,
     "end_time": "2022-11-01T21:26:13.044869",
     "exception": false,
     "start_time": "2022-11-01T20:53:13.497499",
     "status": "completed"
    },
    "tags": []
   },
   "outputs": [
    {
     "name": "stdout",
     "output_type": "stream",
     "text": [
      "Epoch 1/50\n",
      "128/128 [==============================] - 32s 243ms/step - loss: 1.3681 - accuracy: 0.5137 - val_loss: 0.6883 - val_accuracy: 0.5647\n",
      "Epoch 2/50\n",
      "128/128 [==============================] - 32s 248ms/step - loss: 1.0124 - accuracy: 0.5330 - val_loss: 0.6700 - val_accuracy: 0.5851\n",
      "Epoch 3/50\n",
      "128/128 [==============================] - 31s 245ms/step - loss: 0.8775 - accuracy: 0.5256 - val_loss: 0.6691 - val_accuracy: 0.5917\n",
      "Epoch 4/50\n",
      "128/128 [==============================] - 31s 245ms/step - loss: 0.7752 - accuracy: 0.5415 - val_loss: 0.6733 - val_accuracy: 0.5665\n",
      "Epoch 5/50\n",
      "128/128 [==============================] - 31s 245ms/step - loss: 0.7214 - accuracy: 0.5554 - val_loss: 0.6540 - val_accuracy: 0.6191\n",
      "Epoch 6/50\n",
      "128/128 [==============================] - 32s 249ms/step - loss: 0.6918 - accuracy: 0.5659 - val_loss: 0.6596 - val_accuracy: 0.6055\n",
      "Epoch 7/50\n",
      "128/128 [==============================] - 32s 247ms/step - loss: 0.6774 - accuracy: 0.5835 - val_loss: 0.6485 - val_accuracy: 0.6249\n",
      "Epoch 8/50\n",
      "128/128 [==============================] - 32s 251ms/step - loss: 0.6660 - accuracy: 0.5911 - val_loss: 0.6932 - val_accuracy: 0.5253\n",
      "Epoch 9/50\n",
      "128/128 [==============================] - 32s 249ms/step - loss: 0.6627 - accuracy: 0.6082 - val_loss: 0.6394 - val_accuracy: 0.6263\n",
      "Epoch 10/50\n",
      "128/128 [==============================] - 32s 253ms/step - loss: 0.6655 - accuracy: 0.5999 - val_loss: 0.6414 - val_accuracy: 0.6251\n",
      "Epoch 11/50\n",
      "128/128 [==============================] - 31s 245ms/step - loss: 0.6469 - accuracy: 0.6104 - val_loss: 0.6283 - val_accuracy: 0.6415\n",
      "Epoch 12/50\n",
      "128/128 [==============================] - 32s 253ms/step - loss: 0.6485 - accuracy: 0.6194 - val_loss: 0.6878 - val_accuracy: 0.5525\n",
      "Epoch 13/50\n",
      "128/128 [==============================] - 32s 247ms/step - loss: 0.6513 - accuracy: 0.6184 - val_loss: 0.7100 - val_accuracy: 0.5379\n",
      "Epoch 14/50\n",
      "128/128 [==============================] - 31s 246ms/step - loss: 0.6473 - accuracy: 0.6199 - val_loss: 0.6362 - val_accuracy: 0.6283\n",
      "Epoch 15/50\n",
      "128/128 [==============================] - 32s 252ms/step - loss: 0.6390 - accuracy: 0.6306 - val_loss: 0.7018 - val_accuracy: 0.5961\n",
      "Epoch 16/50\n",
      "128/128 [==============================] - 32s 254ms/step - loss: 0.6435 - accuracy: 0.6267 - val_loss: 0.6136 - val_accuracy: 0.6523\n",
      "Epoch 17/50\n",
      "128/128 [==============================] - 34s 265ms/step - loss: 0.6214 - accuracy: 0.6443 - val_loss: 0.6128 - val_accuracy: 0.6523\n",
      "Epoch 18/50\n",
      "128/128 [==============================] - 31s 243ms/step - loss: 0.6433 - accuracy: 0.6299 - val_loss: 0.6213 - val_accuracy: 0.6501\n",
      "Epoch 19/50\n",
      "128/128 [==============================] - 31s 243ms/step - loss: 0.6308 - accuracy: 0.6458 - val_loss: 0.5976 - val_accuracy: 0.6769\n",
      "Epoch 20/50\n",
      "128/128 [==============================] - 32s 250ms/step - loss: 0.6308 - accuracy: 0.6501 - val_loss: 0.6169 - val_accuracy: 0.6455\n",
      "Epoch 21/50\n",
      "128/128 [==============================] - 32s 253ms/step - loss: 0.6281 - accuracy: 0.6562 - val_loss: 0.6045 - val_accuracy: 0.6715\n",
      "Epoch 22/50\n",
      "128/128 [==============================] - 33s 256ms/step - loss: 0.6260 - accuracy: 0.6433 - val_loss: 0.6496 - val_accuracy: 0.6023\n",
      "Epoch 23/50\n",
      "128/128 [==============================] - 33s 255ms/step - loss: 0.6314 - accuracy: 0.6418 - val_loss: 0.6359 - val_accuracy: 0.6293\n",
      "Epoch 24/50\n",
      "128/128 [==============================] - 33s 260ms/step - loss: 0.6110 - accuracy: 0.6680 - val_loss: 0.5924 - val_accuracy: 0.6869\n",
      "Epoch 25/50\n",
      "128/128 [==============================] - 32s 251ms/step - loss: 0.6106 - accuracy: 0.6536 - val_loss: 0.6315 - val_accuracy: 0.6263\n",
      "Epoch 26/50\n",
      "128/128 [==============================] - 32s 252ms/step - loss: 0.6276 - accuracy: 0.6555 - val_loss: 0.6178 - val_accuracy: 0.6453\n",
      "Epoch 27/50\n",
      "128/128 [==============================] - 32s 251ms/step - loss: 0.6140 - accuracy: 0.6636 - val_loss: 0.5857 - val_accuracy: 0.6909\n",
      "Epoch 28/50\n",
      "128/128 [==============================] - 33s 257ms/step - loss: 0.6156 - accuracy: 0.6570 - val_loss: 0.5923 - val_accuracy: 0.6769\n",
      "Epoch 29/50\n",
      "128/128 [==============================] - 33s 259ms/step - loss: 0.6025 - accuracy: 0.6743 - val_loss: 0.6067 - val_accuracy: 0.6705\n",
      "Epoch 30/50\n",
      "128/128 [==============================] - 33s 258ms/step - loss: 0.6204 - accuracy: 0.6580 - val_loss: 0.5858 - val_accuracy: 0.6845\n",
      "Epoch 31/50\n",
      "128/128 [==============================] - 33s 255ms/step - loss: 0.6088 - accuracy: 0.6772 - val_loss: 0.5702 - val_accuracy: 0.7125\n",
      "Epoch 32/50\n",
      "128/128 [==============================] - 32s 252ms/step - loss: 0.6081 - accuracy: 0.6724 - val_loss: 0.5722 - val_accuracy: 0.7003\n",
      "Epoch 33/50\n",
      "128/128 [==============================] - 32s 253ms/step - loss: 0.5955 - accuracy: 0.6858 - val_loss: 0.5704 - val_accuracy: 0.6911\n",
      "Epoch 34/50\n",
      "128/128 [==============================] - 33s 255ms/step - loss: 0.5970 - accuracy: 0.6816 - val_loss: 0.5599 - val_accuracy: 0.7161\n",
      "Epoch 35/50\n",
      "128/128 [==============================] - 32s 250ms/step - loss: 0.6009 - accuracy: 0.6785 - val_loss: 0.5617 - val_accuracy: 0.7163\n",
      "Epoch 36/50\n",
      "128/128 [==============================] - 32s 248ms/step - loss: 0.5940 - accuracy: 0.6821 - val_loss: 0.5621 - val_accuracy: 0.7131\n",
      "Epoch 37/50\n",
      "128/128 [==============================] - 32s 253ms/step - loss: 0.6078 - accuracy: 0.6660 - val_loss: 0.5598 - val_accuracy: 0.7037\n",
      "Epoch 38/50\n",
      "128/128 [==============================] - 32s 247ms/step - loss: 0.5762 - accuracy: 0.7070 - val_loss: 0.5559 - val_accuracy: 0.7027\n",
      "Epoch 39/50\n",
      "128/128 [==============================] - 32s 250ms/step - loss: 0.5858 - accuracy: 0.6816 - val_loss: 0.5491 - val_accuracy: 0.7405\n",
      "Epoch 40/50\n",
      "128/128 [==============================] - 33s 261ms/step - loss: 0.5710 - accuracy: 0.6975 - val_loss: 0.5370 - val_accuracy: 0.7395\n",
      "Epoch 41/50\n",
      "128/128 [==============================] - 32s 253ms/step - loss: 0.5743 - accuracy: 0.7019 - val_loss: 0.5460 - val_accuracy: 0.7323\n",
      "Epoch 42/50\n",
      "128/128 [==============================] - 32s 251ms/step - loss: 0.5816 - accuracy: 0.6943 - val_loss: 0.5602 - val_accuracy: 0.7093\n",
      "Epoch 43/50\n",
      "128/128 [==============================] - 31s 245ms/step - loss: 0.5833 - accuracy: 0.6985 - val_loss: 0.5437 - val_accuracy: 0.7287\n",
      "Epoch 44/50\n",
      "128/128 [==============================] - 33s 255ms/step - loss: 0.5736 - accuracy: 0.6982 - val_loss: 0.5345 - val_accuracy: 0.7247\n",
      "Epoch 45/50\n",
      "128/128 [==============================] - 33s 257ms/step - loss: 0.5703 - accuracy: 0.7061 - val_loss: 0.5703 - val_accuracy: 0.6977\n",
      "Epoch 46/50\n",
      "128/128 [==============================] - 33s 255ms/step - loss: 0.5769 - accuracy: 0.6985 - val_loss: 0.5550 - val_accuracy: 0.7199\n",
      "Epoch 47/50\n",
      "128/128 [==============================] - 32s 251ms/step - loss: 0.5608 - accuracy: 0.7107 - val_loss: 0.5390 - val_accuracy: 0.7191\n",
      "Epoch 48/50\n",
      "128/128 [==============================] - 33s 257ms/step - loss: 0.5647 - accuracy: 0.7031 - val_loss: 0.5287 - val_accuracy: 0.7363\n",
      "Epoch 49/50\n",
      "128/128 [==============================] - 32s 252ms/step - loss: 0.5532 - accuracy: 0.7104 - val_loss: 0.5384 - val_accuracy: 0.7407\n",
      "Epoch 50/50\n",
      "128/128 [==============================] - 32s 253ms/step - loss: 0.5775 - accuracy: 0.7068 - val_loss: 0.5418 - val_accuracy: 0.7355\n"
     ]
    },
    {
     "data": {
      "text/plain": [
       "<keras.callbacks.History at 0x7fb5d00cc0d0>"
      ]
     },
     "execution_count": 31,
     "metadata": {},
     "output_type": "execute_result"
    }
   ],
   "source": [
    "input = Input(shape=(224,224, 3))\n",
    "\n",
    "\n",
    "x = Conv2D(filters=64,kernel_size=3, strides=2 )(input)\n",
    "x = Conv2D(filters=64,kernel_size=3, strides=2 )(x)\n",
    "x = BatchNormalization()(x)\n",
    "x = Activation('selu')(x)\n",
    "x = MaxPool2D(pool_size=2)(x)\n",
    "x = Dropout(0.8)(x)\n",
    "\n",
    "x = Conv2D(filters=32,kernel_size=3, strides=2 )(x)\n",
    "x = Conv2D(filters=32,kernel_size=3, strides=2 )(x)\n",
    "x = BatchNormalization()(x)\n",
    "x = Activation('selu')(x)\n",
    "x = MaxPool2D(pool_size=2)(x)\n",
    "x = Dropout(0.8)(x)\n",
    "\n",
    "\n",
    "\n",
    "x = Flatten()(x)\n",
    "output= Dense(1, activation='sigmoid')(x)\n",
    "model = Model(input, output)\n",
    "\n",
    "\n",
    "model.compile(loss='binary_crossentropy', metrics='accuracy', optimizer='adam')\n",
    "model.fit(train_generator, validation_data=val_generator, steps_per_epoch = 128,  epochs=50)"
   ]
  },
  {
   "cell_type": "code",
   "execution_count": 32,
   "id": "b9709401",
   "metadata": {
    "execution": {
     "iopub.execute_input": "2022-11-01T21:26:16.580735Z",
     "iopub.status.busy": "2022-11-01T21:26:16.580376Z",
     "iopub.status.idle": "2022-11-01T21:26:16.585302Z",
     "shell.execute_reply": "2022-11-01T21:26:16.584273Z"
    },
    "papermill": {
     "duration": 1.727688,
     "end_time": "2022-11-01T21:26:16.587286",
     "exception": false,
     "start_time": "2022-11-01T21:26:14.859598",
     "status": "completed"
    },
    "tags": []
   },
   "outputs": [],
   "source": [
    "val_loss['conv_128x2_64x2_32x2'] = model.history.history['val_loss']\n",
    "accuracy['conv_128x2_64x2_32x2'] = model.history.history['accuracy']"
   ]
  },
  {
   "cell_type": "code",
   "execution_count": 33,
   "id": "35112895",
   "metadata": {
    "execution": {
     "iopub.execute_input": "2022-11-01T21:26:20.259094Z",
     "iopub.status.busy": "2022-11-01T21:26:20.258701Z",
     "iopub.status.idle": "2022-11-01T21:26:20.575855Z",
     "shell.execute_reply": "2022-11-01T21:26:20.574977Z"
    },
    "papermill": {
     "duration": 2.149287,
     "end_time": "2022-11-01T21:26:20.578565",
     "exception": false,
     "start_time": "2022-11-01T21:26:18.429278",
     "status": "completed"
    },
    "tags": []
   },
   "outputs": [
    {
     "data": {
      "text/plain": [
       "<AxesSubplot:>"
      ]
     },
     "execution_count": 33,
     "metadata": {},
     "output_type": "execute_result"
    },
    {
     "data": {
      "image/png": "[encoded data removed]",
      "text/plain": [
       "<Figure size 432x288 with 1 Axes>"
      ]
     },
     "metadata": {
      "needs_background": "light"
     },
     "output_type": "display_data"
    }
   ],
   "source": [
    "pd.DataFrame(model.history.history).plot()"
   ]
  },
  {
   "cell_type": "code",
   "execution_count": 34,
   "id": "cf78800a",
   "metadata": {
    "execution": {
     "iopub.execute_input": "2022-11-01T21:26:24.911653Z",
     "iopub.status.busy": "2022-11-01T21:26:24.911263Z",
     "iopub.status.idle": "2022-11-01T21:26:25.166780Z",
     "shell.execute_reply": "2022-11-01T21:26:25.165898Z"
    },
    "papermill": {
     "duration": 2.23166,
     "end_time": "2022-11-01T21:26:25.169054",
     "exception": false,
     "start_time": "2022-11-01T21:26:22.937394",
     "status": "completed"
    },
    "tags": []
   },
   "outputs": [
    {
     "data": {
      "text/plain": [
       "<AxesSubplot:>"
      ]
     },
     "execution_count": 34,
     "metadata": {},
     "output_type": "execute_result"
    },
    {
     "data": {
      "image/png": "[encoded data removed]",
      "text/plain": [
       "<Figure size 432x288 with 1 Axes>"
      ]
     },
     "metadata": {
      "needs_background": "light"
     },
     "output_type": "display_data"
    }
   ],
   "source": [
    "\n",
    "pd.DataFrame(val_loss).plot()"
   ]
  },
  {
   "cell_type": "markdown",
   "id": "1112cec3",
   "metadata": {
    "papermill": {
     "duration": 1.837969,
     "end_time": "2022-11-01T21:26:28.750158",
     "exception": false,
     "start_time": "2022-11-01T21:26:26.912189",
     "status": "completed"
    },
    "tags": []
   },
   "source": [
    "## Models comparaison by accuracy "
   ]
  },
  {
   "cell_type": "code",
   "execution_count": 35,
   "id": "099c9be1",
   "metadata": {
    "execution": {
     "iopub.execute_input": "2022-11-01T21:26:32.388075Z",
     "iopub.status.busy": "2022-11-01T21:26:32.387695Z",
     "iopub.status.idle": "2022-11-01T21:26:32.650241Z",
     "shell.execute_reply": "2022-11-01T21:26:32.649197Z"
    },
    "papermill": {
     "duration": 2.088509,
     "end_time": "2022-11-01T21:26:32.652689",
     "exception": false,
     "start_time": "2022-11-01T21:26:30.564180",
     "status": "completed"
    },
    "tags": []
   },
   "outputs": [
    {
     "data": {
      "text/plain": [
       "<AxesSubplot:>"
      ]
     },
     "execution_count": 35,
     "metadata": {},
     "output_type": "execute_result"
    },
    {
     "data": {
      "image/png": "[encoded data removed]",
      "text/plain": [
       "<Figure size 432x288 with 1 Axes>"
      ]
     },
     "metadata": {
      "needs_background": "light"
     },
     "output_type": "display_data"
    }
   ],
   "source": [
    "\n",
    "pd.DataFrame(accuracy).plot()"
   ]
  },
  {
   "cell_type": "markdown",
   "id": "621089cf",
   "metadata": {
    "papermill": {
     "duration": 1.750873,
     "end_time": "2022-11-01T21:26:36.558120",
     "exception": false,
     "start_time": "2022-11-01T21:26:34.807247",
     "status": "completed"
    },
    "tags": []
   },
   "source": [
    " \n",
    "This graph compares the accuracy of different models, we see among these models, the model conv_256x2_128x2_64  appears more efficient in terms of accuracy. \n",
    "\n"
   ]
  },
  {
   "cell_type": "code",
   "execution_count": 36,
   "id": "c89da1aa",
   "metadata": {
    "execution": {
     "iopub.execute_input": "2022-11-01T21:26:40.186797Z",
     "iopub.status.busy": "2022-11-01T21:26:40.186440Z",
     "iopub.status.idle": "2022-11-01T21:26:40.273272Z",
     "shell.execute_reply": "2022-11-01T21:26:40.272342Z"
    },
    "papermill": {
     "duration": 1.891703,
     "end_time": "2022-11-01T21:26:40.275561",
     "exception": false,
     "start_time": "2022-11-01T21:26:38.383858",
     "status": "completed"
    },
    "tags": []
   },
   "outputs": [
    {
     "data": {
      "text/plain": [
       "<keras.engine.functional.Functional at 0x7fb5d03632d0>"
      ]
     },
     "execution_count": 36,
     "metadata": {},
     "output_type": "execute_result"
    }
   ],
   "source": [
    "input = Input(shape=(224,224, 3))\n",
    "\n",
    "x = Conv2D(filters=256,kernel_size=3,padding='same' )(input)\n",
    "x = Conv2D(filters=256,kernel_size=3,padding='same' )(x)\n",
    "x = BatchNormalization()(x)\n",
    "x = Activation('relu')(x)\n",
    "x = MaxPool2D(pool_size=2)(x)\n",
    "\n",
    "\n",
    "x = Conv2D(filters=128,kernel_size=3,padding='same' )(x)\n",
    "x = Conv2D(filters=128,kernel_size=3,padding='same' )(x)\n",
    "x = BatchNormalization()(x)\n",
    "x = Activation('relu')(x)\n",
    "x = MaxPool2D(pool_size=2)(x)\n",
    "\n",
    "\n",
    "x = Conv2D(filters=64,kernel_size=3,padding='same' )(x)\n",
    "x = BatchNormalization()(x)\n",
    "x = Activation('relu')(x)\n",
    "x = MaxPool2D(pool_size=2)(x)\n",
    "\n",
    "\n",
    "x = Flatten()(x)\n",
    "output= Dense(1, activation='sigmoid')(x)\n",
    "model\n",
    "\n",
    "\n"
   ]
  },
  {
   "cell_type": "code",
   "execution_count": 37,
   "id": "32243cf5",
   "metadata": {
    "execution": {
     "iopub.execute_input": "2022-11-01T21:26:43.960048Z",
     "iopub.status.busy": "2022-11-01T21:26:43.959663Z",
     "iopub.status.idle": "2022-11-01T21:59:49.145965Z",
     "shell.execute_reply": "2022-11-01T21:59:49.144773Z"
    },
    "papermill": {
     "duration": 1989.274604,
     "end_time": "2022-11-01T21:59:51.412072",
     "exception": false,
     "start_time": "2022-11-01T21:26:42.137468",
     "status": "completed"
    },
    "tags": []
   },
   "outputs": [
    {
     "name": "stdout",
     "output_type": "stream",
     "text": [
      "Epoch 1/50\n",
      "128/128 [==============================] - 31s 242ms/step - loss: 0.5502 - accuracy: 0.7200 - val_loss: 0.5057 - val_accuracy: 0.7588\n",
      "Epoch 2/50\n",
      "128/128 [==============================] - 31s 240ms/step - loss: 0.5466 - accuracy: 0.7312 - val_loss: 0.5059 - val_accuracy: 0.7608\n",
      "Epoch 3/50\n",
      "128/128 [==============================] - 32s 249ms/step - loss: 0.5579 - accuracy: 0.7180 - val_loss: 0.5038 - val_accuracy: 0.7638\n",
      "Epoch 4/50\n",
      "128/128 [==============================] - 32s 248ms/step - loss: 0.5585 - accuracy: 0.7166 - val_loss: 0.5015 - val_accuracy: 0.7690\n",
      "Epoch 5/50\n",
      "128/128 [==============================] - 31s 245ms/step - loss: 0.5544 - accuracy: 0.7166 - val_loss: 0.5020 - val_accuracy: 0.7614\n",
      "Epoch 6/50\n",
      "128/128 [==============================] - 32s 252ms/step - loss: 0.5590 - accuracy: 0.7200 - val_loss: 0.5016 - val_accuracy: 0.7674\n",
      "Epoch 7/50\n",
      "128/128 [==============================] - 32s 250ms/step - loss: 0.5586 - accuracy: 0.7249 - val_loss: 0.5069 - val_accuracy: 0.7522\n",
      "Epoch 8/50\n",
      "128/128 [==============================] - 32s 249ms/step - loss: 0.5603 - accuracy: 0.7056 - val_loss: 0.5026 - val_accuracy: 0.7646\n",
      "Epoch 9/50\n",
      "128/128 [==============================] - 31s 246ms/step - loss: 0.5496 - accuracy: 0.7246 - val_loss: 0.5042 - val_accuracy: 0.7592\n",
      "Epoch 10/50\n",
      "128/128 [==============================] - 33s 256ms/step - loss: 0.5277 - accuracy: 0.7339 - val_loss: 0.4978 - val_accuracy: 0.7684\n",
      "Epoch 11/50\n",
      "128/128 [==============================] - 32s 252ms/step - loss: 0.5483 - accuracy: 0.7241 - val_loss: 0.4997 - val_accuracy: 0.7620\n",
      "Epoch 12/50\n",
      "128/128 [==============================] - 32s 249ms/step - loss: 0.5389 - accuracy: 0.7239 - val_loss: 0.4984 - val_accuracy: 0.7706\n",
      "Epoch 13/50\n",
      "128/128 [==============================] - 32s 250ms/step - loss: 0.5493 - accuracy: 0.7173 - val_loss: 0.4999 - val_accuracy: 0.7624\n",
      "Epoch 14/50\n",
      "128/128 [==============================] - 32s 251ms/step - loss: 0.5690 - accuracy: 0.7139 - val_loss: 0.5034 - val_accuracy: 0.7664\n",
      "Epoch 15/50\n",
      "128/128 [==============================] - 32s 251ms/step - loss: 0.5542 - accuracy: 0.7188 - val_loss: 0.5026 - val_accuracy: 0.7660\n",
      "Epoch 16/50\n",
      "128/128 [==============================] - 32s 254ms/step - loss: 0.5514 - accuracy: 0.7229 - val_loss: 0.5013 - val_accuracy: 0.7672\n",
      "Epoch 17/50\n",
      "128/128 [==============================] - 33s 257ms/step - loss: 0.5498 - accuracy: 0.7212 - val_loss: 0.5050 - val_accuracy: 0.7606\n",
      "Epoch 18/50\n",
      "128/128 [==============================] - 32s 254ms/step - loss: 0.5405 - accuracy: 0.7275 - val_loss: 0.5006 - val_accuracy: 0.7682\n",
      "Epoch 19/50\n",
      "128/128 [==============================] - 33s 258ms/step - loss: 0.5483 - accuracy: 0.7202 - val_loss: 0.4993 - val_accuracy: 0.7666\n",
      "Epoch 20/50\n",
      "128/128 [==============================] - 33s 260ms/step - loss: 0.5516 - accuracy: 0.7166 - val_loss: 0.4995 - val_accuracy: 0.7666\n",
      "Epoch 21/50\n",
      "128/128 [==============================] - 32s 255ms/step - loss: 0.5530 - accuracy: 0.7131 - val_loss: 0.4981 - val_accuracy: 0.7690\n",
      "Epoch 22/50\n",
      "128/128 [==============================] - 33s 255ms/step - loss: 0.5523 - accuracy: 0.7185 - val_loss: 0.5000 - val_accuracy: 0.7654\n",
      "Epoch 23/50\n",
      "128/128 [==============================] - 32s 252ms/step - loss: 0.5484 - accuracy: 0.7151 - val_loss: 0.5014 - val_accuracy: 0.7596\n",
      "Epoch 24/50\n",
      "128/128 [==============================] - 32s 251ms/step - loss: 0.5449 - accuracy: 0.7246 - val_loss: 0.5013 - val_accuracy: 0.7670\n",
      "Epoch 25/50\n",
      "128/128 [==============================] - 32s 253ms/step - loss: 0.5571 - accuracy: 0.7188 - val_loss: 0.5025 - val_accuracy: 0.7628\n",
      "Epoch 26/50\n",
      "128/128 [==============================] - 32s 252ms/step - loss: 0.5539 - accuracy: 0.7256 - val_loss: 0.5028 - val_accuracy: 0.7600\n",
      "Epoch 27/50\n",
      "128/128 [==============================] - 32s 252ms/step - loss: 0.5607 - accuracy: 0.7119 - val_loss: 0.5024 - val_accuracy: 0.7602\n",
      "Epoch 28/50\n",
      "128/128 [==============================] - 33s 258ms/step - loss: 0.5420 - accuracy: 0.7339 - val_loss: 0.4979 - val_accuracy: 0.7696\n",
      "Epoch 29/50\n",
      "128/128 [==============================] - 33s 257ms/step - loss: 0.5480 - accuracy: 0.7200 - val_loss: 0.4982 - val_accuracy: 0.7686\n",
      "Epoch 30/50\n",
      "128/128 [==============================] - 32s 253ms/step - loss: 0.5413 - accuracy: 0.7334 - val_loss: 0.4962 - val_accuracy: 0.7656\n",
      "Epoch 31/50\n",
      "128/128 [==============================] - 32s 247ms/step - loss: 0.5454 - accuracy: 0.7278 - val_loss: 0.4950 - val_accuracy: 0.7658\n",
      "Epoch 32/50\n",
      "128/128 [==============================] - 33s 256ms/step - loss: 0.5606 - accuracy: 0.7170 - val_loss: 0.4984 - val_accuracy: 0.7648\n",
      "Epoch 33/50\n",
      "128/128 [==============================] - 32s 250ms/step - loss: 0.5408 - accuracy: 0.7319 - val_loss: 0.4986 - val_accuracy: 0.7698\n",
      "Epoch 34/50\n",
      "128/128 [==============================] - 32s 254ms/step - loss: 0.5461 - accuracy: 0.7302 - val_loss: 0.4967 - val_accuracy: 0.7634\n",
      "Epoch 35/50\n",
      "128/128 [==============================] - 32s 254ms/step - loss: 0.5506 - accuracy: 0.7246 - val_loss: 0.5005 - val_accuracy: 0.7608\n",
      "Epoch 36/50\n",
      "128/128 [==============================] - 32s 255ms/step - loss: 0.5525 - accuracy: 0.7156 - val_loss: 0.4998 - val_accuracy: 0.7612\n",
      "Epoch 37/50\n",
      "128/128 [==============================] - 33s 258ms/step - loss: 0.5523 - accuracy: 0.7205 - val_loss: 0.5019 - val_accuracy: 0.7580\n",
      "Epoch 38/50\n",
      "128/128 [==============================] - 32s 249ms/step - loss: 0.5424 - accuracy: 0.7300 - val_loss: 0.4988 - val_accuracy: 0.7610\n",
      "Epoch 39/50\n",
      "128/128 [==============================] - 32s 255ms/step - loss: 0.5588 - accuracy: 0.7146 - val_loss: 0.5040 - val_accuracy: 0.7568\n",
      "Epoch 40/50\n",
      "128/128 [==============================] - 32s 252ms/step - loss: 0.5488 - accuracy: 0.7285 - val_loss: 0.4972 - val_accuracy: 0.7676\n",
      "Epoch 41/50\n",
      "128/128 [==============================] - 32s 252ms/step - loss: 0.5468 - accuracy: 0.7314 - val_loss: 0.4957 - val_accuracy: 0.7684\n",
      "Epoch 42/50\n",
      "128/128 [==============================] - 32s 250ms/step - loss: 0.5381 - accuracy: 0.7297 - val_loss: 0.4952 - val_accuracy: 0.7666\n",
      "Epoch 43/50\n",
      "128/128 [==============================] - 32s 249ms/step - loss: 0.5400 - accuracy: 0.7329 - val_loss: 0.4938 - val_accuracy: 0.7682\n",
      "Epoch 44/50\n",
      "128/128 [==============================] - 32s 254ms/step - loss: 0.5461 - accuracy: 0.7271 - val_loss: 0.4955 - val_accuracy: 0.7640\n",
      "Epoch 45/50\n",
      "128/128 [==============================] - 32s 249ms/step - loss: 0.5508 - accuracy: 0.7197 - val_loss: 0.4956 - val_accuracy: 0.7696\n",
      "Epoch 46/50\n",
      "128/128 [==============================] - 32s 252ms/step - loss: 0.5538 - accuracy: 0.7195 - val_loss: 0.4979 - val_accuracy: 0.7704\n",
      "Epoch 47/50\n",
      "128/128 [==============================] - 32s 254ms/step - loss: 0.5397 - accuracy: 0.7275 - val_loss: 0.4971 - val_accuracy: 0.7628\n",
      "Epoch 48/50\n",
      "128/128 [==============================] - 32s 252ms/step - loss: 0.5607 - accuracy: 0.7212 - val_loss: 0.4982 - val_accuracy: 0.7636\n",
      "Epoch 49/50\n",
      "128/128 [==============================] - 32s 255ms/step - loss: 0.5517 - accuracy: 0.7285 - val_loss: 0.4985 - val_accuracy: 0.7616\n",
      "Epoch 50/50\n",
      "128/128 [==============================] - 32s 253ms/step - loss: 0.5340 - accuracy: 0.7329 - val_loss: 0.4928 - val_accuracy: 0.7666\n"
     ]
    },
    {
     "data": {
      "text/plain": [
       "<keras.callbacks.History at 0x7fb5bc7e3ed0>"
      ]
     },
     "execution_count": 37,
     "metadata": {},
     "output_type": "execute_result"
    }
   ],
   "source": [
    "model.compile(loss='binary_crossentropy', metrics='accuracy', optimizer='sgd')\n",
    "\n",
    "model.fit(train_generator, validation_data=val_generator, steps_per_epoch = 128,  epochs=50)"
   ]
  },
  {
   "cell_type": "code",
   "execution_count": 38,
   "id": "94ee2cde",
   "metadata": {
    "execution": {
     "iopub.execute_input": "2022-11-01T21:59:55.655181Z",
     "iopub.status.busy": "2022-11-01T21:59:55.654614Z",
     "iopub.status.idle": "2022-11-01T22:00:12.403287Z",
     "shell.execute_reply": "2022-11-01T22:00:12.402244Z"
    },
    "papermill": {
     "duration": 18.915812,
     "end_time": "2022-11-01T22:00:12.405792",
     "exception": false,
     "start_time": "2022-11-01T21:59:53.489980",
     "status": "completed"
    },
    "tags": []
   },
   "outputs": [],
   "source": [
    "y_pred = model.predict(val_generator)"
   ]
  },
  {
   "cell_type": "code",
   "execution_count": 39,
   "id": "04abec23",
   "metadata": {
    "execution": {
     "iopub.execute_input": "2022-11-01T22:00:16.746236Z",
     "iopub.status.busy": "2022-11-01T22:00:16.744997Z",
     "iopub.status.idle": "2022-11-01T22:00:16.750255Z",
     "shell.execute_reply": "2022-11-01T22:00:16.749372Z"
    },
    "papermill": {
     "duration": 2.192436,
     "end_time": "2022-11-01T22:00:16.752283",
     "exception": false,
     "start_time": "2022-11-01T22:00:14.559847",
     "status": "completed"
    },
    "tags": []
   },
   "outputs": [],
   "source": [
    "y_pred  = y_pred>0.5"
   ]
  },
  {
   "cell_type": "code",
   "execution_count": 40,
   "id": "45e7888c",
   "metadata": {
    "execution": {
     "iopub.execute_input": "2022-11-01T22:00:21.358265Z",
     "iopub.status.busy": "2022-11-01T22:00:21.357862Z",
     "iopub.status.idle": "2022-11-01T22:00:21.362685Z",
     "shell.execute_reply": "2022-11-01T22:00:21.361629Z"
    },
    "papermill": {
     "duration": 2.171993,
     "end_time": "2022-11-01T22:00:21.364823",
     "exception": false,
     "start_time": "2022-11-01T22:00:19.192830",
     "status": "completed"
    },
    "tags": []
   },
   "outputs": [],
   "source": [
    "y_test = val_generator.classes"
   ]
  },
  {
   "cell_type": "code",
   "execution_count": 41,
   "id": "24c88509",
   "metadata": {
    "execution": {
     "iopub.execute_input": "2022-11-01T22:00:25.680389Z",
     "iopub.status.busy": "2022-11-01T22:00:25.680002Z",
     "iopub.status.idle": "2022-11-01T22:00:25.686476Z",
     "shell.execute_reply": "2022-11-01T22:00:25.685515Z"
    },
    "papermill": {
     "duration": 2.153548,
     "end_time": "2022-11-01T22:00:25.688842",
     "exception": false,
     "start_time": "2022-11-01T22:00:23.535294",
     "status": "completed"
    },
    "tags": []
   },
   "outputs": [
    {
     "data": {
      "text/plain": [
       "array([[ True],\n",
       "       [ True],\n",
       "       [ True],\n",
       "       ...,\n",
       "       [False],\n",
       "       [False],\n",
       "       [ True]])"
      ]
     },
     "execution_count": 41,
     "metadata": {},
     "output_type": "execute_result"
    }
   ],
   "source": [
    "y_pred "
   ]
  },
  {
   "cell_type": "code",
   "execution_count": 42,
   "id": "65a34df8",
   "metadata": {
    "execution": {
     "iopub.execute_input": "2022-11-01T22:00:30.294124Z",
     "iopub.status.busy": "2022-11-01T22:00:30.293696Z",
     "iopub.status.idle": "2022-11-01T22:00:30.613527Z",
     "shell.execute_reply": "2022-11-01T22:00:30.612569Z"
    },
    "papermill": {
     "duration": 2.737291,
     "end_time": "2022-11-01T22:00:30.615864",
     "exception": false,
     "start_time": "2022-11-01T22:00:27.878573",
     "status": "completed"
    },
    "tags": []
   },
   "outputs": [
    {
     "data": {
      "text/plain": [
       "Text(0.5, 1.0, 'Confusion Matrix')"
      ]
     },
     "execution_count": 42,
     "metadata": {},
     "output_type": "execute_result"
    },
    {
     "data": {
      "image/png": "[encoded data removed]",
      "text/plain": [
       "<Figure size 432x288 with 2 Axes>"
      ]
     },
     "metadata": {
      "needs_background": "light"
     },
     "output_type": "display_data"
    }
   ],
   "source": [
    "import seaborn as sns\n",
    "sns.heatmap(tf.math.confusion_matrix(y_test, y_pred), annot=True, fmt='g').set_title(\"Confusion Matrix\")\n"
   ]
  },
  {
   "cell_type": "code",
   "execution_count": 43,
   "id": "fba4eeaf",
   "metadata": {
    "execution": {
     "iopub.execute_input": "2022-11-01T22:00:35.484189Z",
     "iopub.status.busy": "2022-11-01T22:00:35.483814Z",
     "iopub.status.idle": "2022-11-01T22:00:36.019879Z",
     "shell.execute_reply": "2022-11-01T22:00:36.018947Z"
    },
    "papermill": {
     "duration": 2.624045,
     "end_time": "2022-11-01T22:00:36.021901",
     "exception": false,
     "start_time": "2022-11-01T22:00:33.397856",
     "status": "completed"
    },
    "tags": []
   },
   "outputs": [
    {
     "data": {
      "image/png": "[encoded data removed]",
      "text/plain": [
       "<Figure size 432x288 with 1 Axes>"
      ]
     },
     "metadata": {
      "needs_background": "light"
     },
     "output_type": "display_data"
    }
   ],
   "source": [
    "from sklearn.metrics import confusion_matrix, roc_curve, auc, roc_auc_score\n",
    "import matplotlib.pyplot as plt\n",
    "fpr_keras, tpr_keras, thresholds_keras = roc_curve(y_test, y_pred)\n",
    "auc_keras = auc(fpr_keras, tpr_keras)\n",
    "plt.figure(1)\n",
    "plt.plot([0, 1], [0, 1], 'k--')\n",
    "plt.plot(fpr_keras, tpr_keras, label='area = {:.3f}'.format(auc_keras))\n",
    "plt.xlabel('False positive rate')\n",
    "plt.ylabel('True positive rate')\n",
    "plt.title('ROC curve')\n",
    "plt.legend(loc='best')\n",
    "plt.show()"
   ]
  },
  {
   "cell_type": "code",
   "execution_count": 44,
   "id": "d1941afb",
   "metadata": {
    "execution": {
     "iopub.execute_input": "2022-11-01T22:00:40.695962Z",
     "iopub.status.busy": "2022-11-01T22:00:40.695556Z",
     "iopub.status.idle": "2022-11-01T22:00:40.713163Z",
     "shell.execute_reply": "2022-11-01T22:00:40.711758Z"
    },
    "papermill": {
     "duration": 2.470633,
     "end_time": "2022-11-01T22:00:40.715538",
     "exception": false,
     "start_time": "2022-11-01T22:00:38.244905",
     "status": "completed"
    },
    "tags": []
   },
   "outputs": [
    {
     "name": "stdout",
     "output_type": "stream",
     "text": [
      "              precision    recall  f1-score   support\n",
      "\n",
      "           0       0.74      0.82      0.78      2498\n",
      "           1       0.80      0.71      0.75      2501\n",
      "\n",
      "    accuracy                           0.77      4999\n",
      "   macro avg       0.77      0.77      0.77      4999\n",
      "weighted avg       0.77      0.77      0.77      4999\n",
      "\n"
     ]
    }
   ],
   "source": [
    "from sklearn import metrics\n",
    "#Print classification report\n",
    "print(metrics.classification_report(y_test, y_pred))"
   ]
  },
  {
   "cell_type": "markdown",
   "id": "1de29c62",
   "metadata": {
    "papermill": {
     "duration": 2.153712,
     "end_time": "2022-11-01T22:00:45.049599",
     "exception": false,
     "start_time": "2022-11-01T22:00:42.895887",
     "status": "completed"
    },
    "tags": []
   },
   "source": [
    "sensibility \n",
    "Specificity \n",
    "Accurancy "
   ]
  },
  {
   "cell_type": "code",
   "execution_count": 45,
   "id": "eea1741a",
   "metadata": {
    "execution": {
     "iopub.execute_input": "2022-11-01T22:00:49.471914Z",
     "iopub.status.busy": "2022-11-01T22:00:49.471526Z",
     "iopub.status.idle": "2022-11-01T22:00:49.481793Z",
     "shell.execute_reply": "2022-11-01T22:00:49.480866Z"
    },
    "papermill": {
     "duration": 2.231629,
     "end_time": "2022-11-01T22:00:49.483994",
     "exception": false,
     "start_time": "2022-11-01T22:00:47.252365",
     "status": "completed"
    },
    "tags": []
   },
   "outputs": [],
   "source": [
    "conf_matrix = tf.math.confusion_matrix(y_test, y_pred)"
   ]
  },
  {
   "cell_type": "code",
   "execution_count": 46,
   "id": "a17952a4",
   "metadata": {
    "execution": {
     "iopub.execute_input": "2022-11-01T22:00:54.086345Z",
     "iopub.status.busy": "2022-11-01T22:00:54.085981Z",
     "iopub.status.idle": "2022-11-01T22:00:54.106725Z",
     "shell.execute_reply": "2022-11-01T22:00:54.105347Z"
    },
    "papermill": {
     "duration": 2.206065,
     "end_time": "2022-11-01T22:00:54.108701",
     "exception": false,
     "start_time": "2022-11-01T22:00:51.902636",
     "status": "completed"
    },
    "tags": []
   },
   "outputs": [
    {
     "name": "stdout",
     "output_type": "stream",
     "text": [
      "True Positives: tf.Tensor(1784, shape=(), dtype=int32)\n",
      "True Negatives: tf.Tensor(2048, shape=(), dtype=int32)\n",
      "False Positives: tf.Tensor(450, shape=(), dtype=int32)\n",
      "False Negatives: tf.Tensor(717, shape=(), dtype=int32)\n"
     ]
    }
   ],
   "source": [
    "# Creating a function to report confusion metrics\n",
    "\n",
    "# save confusion matrix and slice into four pieces\n",
    "TP = conf_matrix[1][1]\n",
    "TN = conf_matrix[0][0]\n",
    "FP = conf_matrix[0][1]\n",
    "FN = conf_matrix[1][0]\n",
    "print('True Positives:', TP)\n",
    "print('True Negatives:', TN)\n",
    "print('False Positives:', FP)\n",
    "print('False Negatives:', FN)"
   ]
  },
  {
   "cell_type": "code",
   "execution_count": 47,
   "id": "c06a4441",
   "metadata": {
    "execution": {
     "iopub.execute_input": "2022-11-01T22:00:58.466320Z",
     "iopub.status.busy": "2022-11-01T22:00:58.465953Z",
     "iopub.status.idle": "2022-11-01T22:00:58.482945Z",
     "shell.execute_reply": "2022-11-01T22:00:58.481866Z"
    },
    "papermill": {
     "duration": 2.19628,
     "end_time": "2022-11-01T22:00:58.485068",
     "exception": false,
     "start_time": "2022-11-01T22:00:56.288788",
     "status": "completed"
    },
    "tags": []
   },
   "outputs": [],
   "source": [
    "# calculate accuracy\n",
    "conf_accuracy = ((TP+TN) / (TP + TN + FP + FN))"
   ]
  },
  {
   "cell_type": "code",
   "execution_count": 48,
   "id": "5d4d9326",
   "metadata": {
    "execution": {
     "iopub.execute_input": "2022-11-01T22:01:03.431836Z",
     "iopub.status.busy": "2022-11-01T22:01:03.431405Z",
     "iopub.status.idle": "2022-11-01T22:01:03.446072Z",
     "shell.execute_reply": "2022-11-01T22:01:03.445100Z"
    },
    "papermill": {
     "duration": 2.759146,
     "end_time": "2022-11-01T22:01:03.448717",
     "exception": false,
     "start_time": "2022-11-01T22:01:00.689571",
     "status": "completed"
    },
    "tags": []
   },
   "outputs": [
    {
     "name": "stdout",
     "output_type": "stream",
     "text": [
      "****************************************************************************************************\n",
      "Accuracy: 0.77\n",
      "Mis-Classification: 0.23\n",
      "Sensitivity: 0.71\n",
      "Specificity: 0.82\n",
      "Precision: 0.82\n",
      "f_1 Score: 0.76\n",
      "****************************************************************************************************\n"
     ]
    }
   ],
   "source": [
    "# calculate accuracy\n",
    "conf_accuracy = (float(TP+TN) / float(TP + TN + FP + FN))\n",
    "    \n",
    "    # calculate mis-classification\n",
    "conf_misclassification = 1- conf_accuracy\n",
    "    \n",
    "    # calculate the sensitivity\n",
    "conf_sensitivity = (float(TP) / float(TP + FN))\n",
    "    # calculate the specificity\n",
    "conf_specificity = (float(TN) / float(TN + FP))\n",
    "    \n",
    "    # calculate precision\n",
    "conf_precision = (float(TN) / float(TN + FP))\n",
    "    # calculate f_1 score\n",
    "conf_f1 = 2 * ((conf_precision * conf_sensitivity) / (conf_precision + conf_sensitivity))\n",
    "print('*'*100)\n",
    "print(f'Accuracy: {round(conf_accuracy,2)}') \n",
    "print(f'Mis-Classification: {round(conf_misclassification,2)}') \n",
    "print(f'Sensitivity: {round(conf_sensitivity,2)}') \n",
    "print(f'Specificity: {round(conf_specificity,2)}') \n",
    "print(f'Precision: {round(conf_precision,2)}')\n",
    "print(f'f_1 Score: {round(conf_f1,2)}')\n",
    "\n",
    "print('*'*100)"
   ]
  },
  {
   "cell_type": "code",
   "execution_count": null,
   "id": "25a6e3cb",
   "metadata": {
    "papermill": {
     "duration": 2.074242,
     "end_time": "2022-11-01T22:01:07.958905",
     "exception": false,
     "start_time": "2022-11-01T22:01:05.884663",
     "status": "completed"
    },
    "tags": []
   },
   "outputs": [],
   "source": []
  }
 ],
 "metadata": {
  "kernelspec": {
   "display_name": "Python 3",
   "language": "python",
   "name": "python3"
  },
  "language_info": {
   "codemirror_mode": {
    "name": "ipython",
    "version": 3
   },
   "file_extension": ".py",
   "mimetype": "text/x-python",
   "name": "python",
   "nbconvert_exporter": "python",
   "pygments_lexer": "ipython3",
   "version": "3.7.12"
  },
  "papermill": {
   "default_parameters": {},
   "duration": 16759.217962,
   "end_time": "2022-11-01T22:01:13.426438",
   "environment_variables": {},
   "exception": null,
   "input_path": "__notebook__.ipynb",
   "output_path": "__notebook__.ipynb",
   "parameters": {},
   "start_time": "2022-11-01T17:21:54.208476",
   "version": "2.3.4"
  }
 },
 "nbformat": 4,
 "nbformat_minor": 5
}
