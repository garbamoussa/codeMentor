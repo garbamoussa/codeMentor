{
 "cells": [
  {
   "cell_type": "markdown",
   "metadata": {},
   "source": [
    "# COMS W1002 Computing in Social Sciences Project 2\n",
    "## Schelling's  Model of Segregation\n",
    "Adapted from Frank McCown and Stanford's Nifty Assignments repository! Many thanks to Frank and Nifty!"
   ]
  },
  {
   "cell_type": "markdown",
   "metadata": {},
   "source": [
    "### Overview\n",
    "Racial and economic segregation is a pernicious social problem in the United States. Although effort has been extended to desegregate our schools and neighborhoods, the [US continues to remain segregated](https://tcf.org/content/commentary/racial-segregation-is-still-a-problem/) along race and economic lines. There is much important research on historic and current systemic forces that lead to segregation in the United States, however in this assignment we implement an agent-based model proposed by the American economist and Nobel laureate [Thomas Schelling](https://en.wikipedia.org/wiki/Thomas_Schelling). His model demonstrates that even when we ignore the very real systemic causes at play, small biases at the individual level will still very quickly lead to broad segregation on the larger scale. Check out [this website](https://ncase.me/polygons/) for an excellent implementation of Schelling's work.\n",
    "\n",
    "In this assignment, you will create your own simulation of Schelling's model. When you are done, the user will be able to set a number of parameters of the model and watch it go. It won't be quite as polished as the version I linked to above, but it will still be impressive!"
   ]
  },
  {
   "cell_type": "markdown",
   "metadata": {},
   "source": [
    "### How the Model Works\n",
    "\n",
    "Schelling's model will now be explained with some minor simplifications. Suppose there are two types of agents: X and O. (On the website linked to above, the agent types were the shapes, triangles and squares.) A population consisting of the two agent types is initially placed into random locations in a neighborhood represented by a grid. After placing all the agents in the grid, each cell is either occupied by an agent or is empty as shown below. \n",
    "\n",
    "![alt text](http://www.cs.columbia.edu/~cannon/images/grid1.png \"Agents placed randomly\")\n",
    "\n",
    "Now we must determine if each agent is satisfied with its current location. A satisfied agent is one that is surrounded by at least a fraction *t* of agents that are like itself. This threshold *t* is one that will apply to all agents in the model, even though in reality everyone might have a different threshold they are satisfied with. Note that the higher the threshold, the higher the likelihood the agents will not be satisfied with their current location.\n",
    "\n",
    "For example, if *t = .3*, agent X is satisfied if at least 30% of its neighbors are also X. If fewer than 30% are X, then the agent is not satisfied, and it will want to change its location in the grid. For the remainder of this explanation, let's assume a threshold *t* of .3. This means every agent is fine with being in the minority as long as there are at least 30% of similar agents in adjacent cells.\n",
    "\n",
    "The picture below shows a satisfied agent because 50% of X's neighbors are also X (.5 > t). \n",
    "\n",
    "![alt text](http://www.cs.columbia.edu/~cannon/images/grid2.png \"Satisfied agent\") \n",
    "\n",
    "In the picture below, agent X is not satisfied because only 25% of its neighbors are X (.25 < t). Notice that in this example empty cells are not counted when calculating similarity.\n",
    "\n",
    "![alt text](http://www.cs.columbia.edu/~cannon/images/grid3.png \"Dissatisfied agent\")\n",
    "\n",
    "When an agent is not satisfied, it can be moved to any vacant location in the grid. Any algorithm can be used to choose this new location. For example, a randomly selected cell may be chosen, or the agent could move to the nearest available location. \n",
    "\n",
    "In the image below, all dissatisfied agents have an asterisk next to them. We will move each one of these agents and when we're done we will call that the end of a round. \n",
    "\n",
    "\n",
    "![alt text](http://www.cs.columbia.edu/~cannon/images/grid4.png \"Dissatisfied agents with asterisk\") \n",
    "\n",
    "The next image shows the new configuration after all the dissatisfied agents have been moved to unoccupied cells at random. Note that the new configuration may cause some agents which were previously satisfied to become dissatisfied! We are now at the beginning of a new round.\n",
    "\n",
    "![alt text](http://www.cs.columbia.edu/~cannon/images/grid5.png \"New configuration\") \n",
    "\n",
    "All dissatisfied agents in a new grid configuration must be moved in the same round. After the round is complete, a new round begins, and dissatisfied agents are once again moved to new locations in the grid. These rounds continue until all agents in the neighborhood are satisfied with their locations."
   ]
  },
  {
   "cell_type": "markdown",
   "metadata": {},
   "source": [
    "### Okay, so what do I have to do?\n",
    "\n",
    "You will create code that simulates the Schelling model for two distinct populations.\n",
    "Consider the following parameters for the Schelling model:\n",
    "* grid size: tuple of integers (n,m)\n",
    "* fraction of population 1: float between 0 and 1.\n",
    "* fraction of vacant sites in the grid: float between 0 and 1.\n",
    "* threshold: float between 0 and 1\n",
    "\n",
    "Write a function `start(grid_size,pop,vacancy)` that creates and returns a 2-D numpy array of the appropriate size consisting of integers where each element of the array is assigned as follows:\n",
    "* part of first agent population:  1\n",
    "* part of second agent population: -1\n",
    "* vacant: 0\n",
    "\n",
    "The array your function returns should have the appropriate characteristics as specified by the input parameters provided.\n"
   ]
  },
  {
   "cell_type": "code",
   "execution_count": 2,
   "metadata": {},
   "outputs": [],
   "source": [
    "def print_mat(array):\n",
    "    # use this to visualize your array. Be sure to name your array a\n",
    "    plt.matshow(array, cmap='jet')\n",
    "    plt.show()"
   ]
  },
  {
   "cell_type": "markdown",
   "metadata": {},
   "source": [
    "### But wait, there's more!\n",
    "\n",
    "Write a second function `next_round(arr,threshold)` that takes as input an *n by m* array like the one you just created and returns a new 2-D array one round into the future where all dissatisfied agents have been moved. Remember, since there may be more dissatisfied agents than vacancies in the grid, you need to move them one at a time, this way each time an agent is randomly assigned to a vacant site, a vacancy at a new location is created."
   ]
  },
  {
   "cell_type": "code",
   "execution_count": null,
   "metadata": {
    "collapsed": true
   },
   "outputs": [],
   "source": [
    "# write your function here:\n",
    "def next_round(arr,threshold):\n",
    "\n",
    "\n"
   ]
  },
  {
   "cell_type": "markdown",
   "metadata": {},
   "source": [
    "### Last bit! (almost)\n",
    "\n",
    "Finally write a function `make_list(n)` that returns a list of *n* numpy arrays where the first array is created using `start` and the second using `next_round` on the first array and the third using `next_round` on the second, and so on. "
   ]
  },
  {
   "cell_type": "code",
   "execution_count": null,
   "metadata": {
    "collapsed": true
   },
   "outputs": [],
   "source": [
    "# write your function here:\n",
    "def make_list(n,grid_size,pop,vacancy,threshold):\n",
    "    \n",
    "    \n",
    "    "
   ]
  },
  {
   "cell_type": "markdown",
   "metadata": {},
   "source": [
    "### Really last bit!\n",
    "\n",
    "Try out your code. Create a list of length 100 using the parameter values:\n",
    "* size=(30,30)\n",
    "* pop=.5\n",
    "* vacant = .1\n",
    "* threshold = .3\n",
    "\n",
    "In class we will see how to visualize this evolution of the grid using matplotlib. Try it out! I've included some code to help with this in the hw_files folder on Courseworks if you want to get started early.\n",
    "\n",
    "Are there still dissatisfied agents in the grid? How could you write an alternative function to `make_list` that makes a list exactly big enough so that in the final grid there are no more dissatisfied agents. You don't have to do this, but it wouldn't be too hard.\n",
    "\n",
    "Something else to consider: How can we tweak this to introduce an anti-bias condition? That is, a condition where an agent wants a minimum level of diversity among its neighbors? It wouldn't be hard and it can have very profound effects!\n",
    "\n"
   ]
  }
 ],
 "metadata": {
  "kernelspec": {
   "display_name": "Python 3 (ipykernel)",
   "language": "python",
   "name": "python3"
  },
  "language_info": {
   "codemirror_mode": {
    "name": "ipython",
    "version": 3
   },
   "file_extension": ".py",
   "mimetype": "text/x-python",
   "name": "python",
   "nbconvert_exporter": "python",
   "pygments_lexer": "ipython3",
   "version": "3.9.12"
  }
 },
 "nbformat": 4,
 "nbformat_minor": 2
}
