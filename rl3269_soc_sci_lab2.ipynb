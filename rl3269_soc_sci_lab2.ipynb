{
 "cells": [
  {
   "cell_type": "markdown",
   "metadata": {},
   "source": [
    "# COMS W1002 Computing in Social Sciences \n",
    "## Lab 2 Schelling's  Model of Segregation\n",
    "\n"
   ]
  },
  {
   "cell_type": "markdown",
   "metadata": {},
   "source": [
    "### Recall the problem parameters:\n",
    "\n",
    "* grid size: tuple of integers (n,m)\n",
    "* fraction of population 1: float between 0 and 1.\n",
    "* fraction of vacant sites in the grid: float between 0 and 1.\n",
    "* tolerance: float between 0 and 1\n",
    "\n",
    "\n",
    "### Creating a grid\n",
    "In the code cell below write some code that generates a 10 by 10 numpy array consisting of integers where each element of the array is assigned as follows:\n",
    "* part of first demographic:  1\n",
    "* part of second demographic: -1\n",
    "* vacant: 0\n",
    "\n",
    "Your 10 by 10 numpy array should have 20 cells with value 0, 30 cells with value 1, and 50 cells with value -1. The cell values should randomly arranged.  What does that mean in terms of the problem parameters listed above?\n"
   ]
  },
  {
   "cell_type": "code",
   "execution_count": null,
   "metadata": {
    "collapsed": true
   },
   "outputs": [],
   "source": [
    "import numpy as np\n",
    "import matplotlib.pyplot as plt\n",
    "\n",
    "\n",
    "n = 10; m = 10\n",
    "x = [1] * (n*n-70) + [-1] * (m * m - 50) +[0] * (m * m - 80)\n",
    "np.random.shuffle(x)\n",
    "a = np.array(x).reshape(m, m)\n",
    "\n",
    "\n",
    "\n",
    "# use this to visualize your array. Be sure to name your array a\n",
    "plt.matshow(a,cmap='jet')\n",
    "plt.show()\n"
   ]
  },
  {
   "cell_type": "markdown",
   "metadata": {},
   "source": [
    "### But wait, there's more!\n",
    "\n",
    "In order to complete the second part of your homework you will need to determine the fraction of similar neighbors of any given given cell. So given 2-D array like the one you made above, write a function that determines the fraction of neighbors in the same demographic as the cell i,j.  That is, write a function that takes three parameters: a 2-D array arr, a row location i, a column location j and returns a float representing the fraction of neighbors around arr[i,j] that are the in the same population.  This is one is long and a little bit tougher than the one above. Give it a shot but don't worry if you don't have it finished by Saturday night. "
   ]
  },
  {
   "cell_type": "code",
   "execution_count": null,
   "metadata": {
    "collapsed": true
   },
   "outputs": [],
   "source": [
    "# write your function here:\n",
    "def find_frac(arr,i,j):\n",
    "\n",
    "    #hint: break this into cases. Is the cell on the edge of the matrix? is it in the interior?\n",
    "    #hint: rememeber, don't count vacancies in the denominator when computing the fraction\n",
    "    #hint: if a cell is surrounded by vacancies then the fraction is undefined. We will define it as 0.\n",
    "\n"
   ]
  },
  {
   "cell_type": "code",
   "execution_count": null,
   "metadata": {},
   "outputs": [],
   "source": [
    "find_frac(a,4,7)\n"
   ]
  }
 ],
 "metadata": {
  "kernelspec": {
   "display_name": "Python 3 (ipykernel)",
   "language": "python",
   "name": "python3"
  },
  "language_info": {
   "codemirror_mode": {
    "name": "ipython",
    "version": 3
   },
   "file_extension": ".py",
   "mimetype": "text/x-python",
   "name": "python",
   "nbconvert_exporter": "python",
   "pygments_lexer": "ipython3",
   "version": "3.9.12"
  }
 },
 "nbformat": 4,
 "nbformat_minor": 2
}
