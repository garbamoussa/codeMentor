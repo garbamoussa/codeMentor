{
 "cells": [
  {
   "cell_type": "markdown",
   "id": "1d8ac28e",
   "metadata": {
    "execution": {
     "iopub.execute_input": "2022-10-28T19:19:39.379319Z",
     "iopub.status.busy": "2022-10-28T19:19:39.378940Z",
     "iopub.status.idle": "2022-10-28T19:19:45.937773Z",
     "shell.execute_reply": "2022-10-28T19:19:45.936774Z",
     "shell.execute_reply.started": "2022-10-28T19:19:39.379285Z"
    },
    "papermill": {
     "duration": 0.022801,
     "end_time": "2022-11-01T10:41:27.852313",
     "exception": false,
     "start_time": "2022-11-01T10:41:27.829512",
     "status": "completed"
    },
    "tags": []
   },
   "source": [
    "## Importation librarires "
   ]
  },
  {
   "cell_type": "code",
   "execution_count": 1,
   "id": "956a7c84",
   "metadata": {
    "execution": {
     "iopub.execute_input": "2022-11-01T10:41:27.934721Z",
     "iopub.status.busy": "2022-11-01T10:41:27.934162Z",
     "iopub.status.idle": "2022-11-01T10:41:35.499416Z",
     "shell.execute_reply": "2022-11-01T10:41:35.498409Z"
    },
    "papermill": {
     "duration": 7.620473,
     "end_time": "2022-11-01T10:41:35.502372",
     "exception": false,
     "start_time": "2022-11-01T10:41:27.881899",
     "status": "completed"
    },
    "tags": []
   },
   "outputs": [],
   "source": [
    "import zipfile\n",
    "import cv2\n",
    "import numpy as np\n",
    "import os \n",
    "from random import shuffle\n",
    "from tqdm import tqdm\n",
    "import glob\n",
    "import pandas as pd\n",
    "import tensorflow as tf \n",
    "from tensorflow.keras.layers import Dense, Conv2D, MaxPool2D, Flatten, BatchNormalization, Input, Activation, Dropout\n",
    "from tensorflow.keras import Model\n",
    "from tensorflow.keras.preprocessing.image import ImageDataGenerator\n",
    "import scipy\n",
    "import seaborn as sns\n",
    "from scipy import ndimage\n",
    "\n"
   ]
  },
  {
   "cell_type": "code",
   "execution_count": 2,
   "id": "d56a0930",
   "metadata": {
    "execution": {
     "iopub.execute_input": "2022-11-01T10:41:35.525517Z",
     "iopub.status.busy": "2022-11-01T10:41:35.523724Z",
     "iopub.status.idle": "2022-11-01T10:41:35.535788Z",
     "shell.execute_reply": "2022-11-01T10:41:35.534782Z"
    },
    "papermill": {
     "duration": 0.025431,
     "end_time": "2022-11-01T10:41:35.537917",
     "exception": false,
     "start_time": "2022-11-01T10:41:35.512486",
     "status": "completed"
    },
    "tags": []
   },
   "outputs": [
    {
     "name": "stdout",
     "output_type": "stream",
     "text": [
      "1.7.3\n",
      "\n",
      "    Apply an affine transformation.\n",
      "\n",
      "    Given an output image pixel index vector ``o``, the pixel value\n",
      "    is determined from the input image at position\n",
      "    ``np.dot(matrix, o) + offset``.\n",
      "\n",
      "    This does 'pull' (or 'backward') resampling, transforming the output space\n",
      "    to the input to locate data. Affine transformations are often described in\n",
      "    the 'push' (or 'forward') direction, transforming input to output. If you\n",
      "    have a matrix for the 'push' transformation, use its inverse\n",
      "    (:func:`numpy.linalg.inv`) in this function.\n",
      "\n",
      "    Parameters\n",
      "    ----------\n",
      "    input : array_like\n",
      "        The input array.\n",
      "    matrix : ndarray\n",
      "        The inverse coordinate transformation matrix, mapping output\n",
      "        coordinates to input coordinates. If ``ndim`` is the number of\n",
      "        dimensions of ``input``, the given matrix must have one of the\n",
      "        following shapes:\n",
      "\n",
      "            - ``(ndim, ndim)``: the linear transformation matrix for each\n",
      "              output coordinate.\n",
      "            - ``(ndim,)``: assume that the 2-D transformation matrix is\n",
      "              diagonal, with the diagonal specified by the given value. A more\n",
      "              efficient algorithm is then used that exploits the separability\n",
      "              of the problem.\n",
      "            - ``(ndim + 1, ndim + 1)``: assume that the transformation is\n",
      "              specified using homogeneous coordinates [1]_. In this case, any\n",
      "              value passed to ``offset`` is ignored.\n",
      "            - ``(ndim, ndim + 1)``: as above, but the bottom row of a\n",
      "              homogeneous transformation matrix is always ``[0, 0, ..., 1]``,\n",
      "              and may be omitted.\n",
      "\n",
      "    offset : float or sequence, optional\n",
      "        The offset into the array where the transform is applied. If a float,\n",
      "        `offset` is the same for each axis. If a sequence, `offset` should\n",
      "        contain one value for each axis.\n",
      "    output_shape : tuple of ints, optional\n",
      "        Shape tuple.\n",
      "    output : array or dtype, optional\n",
      "        The array in which to place the output, or the dtype of the\n",
      "        returned array. By default an array of the same dtype as input\n",
      "        will be created.\n",
      "    order : int, optional\n",
      "        The order of the spline interpolation, default is 3.\n",
      "        The order has to be in the range 0-5.\n",
      "    mode : {'reflect', 'grid-mirror', 'constant', 'grid-constant', 'nearest',            'mirror', 'grid-wrap', 'wrap'}, optional\n",
      "        The `mode` parameter determines how the input array is extended\n",
      "        beyond its boundaries. Default is 'constant'. Behavior for each valid\n",
      "        value is as follows (see additional plots and details on\n",
      "        :ref:`boundary modes <ndimage-interpolation-modes>`):\n",
      "    \n",
      "        'reflect' (`d c b a | a b c d | d c b a`)\n",
      "            The input is extended by reflecting about the edge of the last\n",
      "            pixel. This mode is also sometimes referred to as half-sample\n",
      "            symmetric.\n",
      "    \n",
      "        'grid-mirror'\n",
      "            This is a synonym for 'reflect'.\n",
      "    \n",
      "        'constant' (`k k k k | a b c d | k k k k`)\n",
      "            The input is extended by filling all values beyond the edge with\n",
      "            the same constant value, defined by the `cval` parameter. No\n",
      "            interpolation is performed beyond the edges of the input.\n",
      "    \n",
      "        'grid-constant' (`k k k k | a b c d | k k k k`)\n",
      "            The input is extended by filling all values beyond the edge with\n",
      "            the same constant value, defined by the `cval` parameter. Interpolation\n",
      "            occurs for samples outside the input's extent  as well.\n",
      "    \n",
      "        'nearest' (`a a a a | a b c d | d d d d`)\n",
      "            The input is extended by replicating the last pixel.\n",
      "    \n",
      "        'mirror' (`d c b | a b c d | c b a`)\n",
      "            The input is extended by reflecting about the center of the last\n",
      "            pixel. This mode is also sometimes referred to as whole-sample\n",
      "            symmetric.\n",
      "    \n",
      "        'grid-wrap' (`a b c d | a b c d | a b c d`)\n",
      "            The input is extended by wrapping around to the opposite edge.\n",
      "    \n",
      "        'wrap' (`d b c d | a b c d | b c a b`)\n",
      "            The input is extended by wrapping around to the opposite edge, but in a\n",
      "            way such that the last point and initial point exactly overlap. In this\n",
      "            case it is not well defined which sample will be chosen at the point of\n",
      "            overlap.\n",
      "    cval : scalar, optional\n",
      "        Value to fill past edges of input if `mode` is 'constant'. Default\n",
      "        is 0.0.\n",
      "    prefilter : bool, optional\n",
      "        Determines if the input array is prefiltered with `spline_filter`\n",
      "        before interpolation. The default is True, which will create a\n",
      "        temporary `float64` array of filtered values if `order > 1`. If\n",
      "        setting this to False, the output will be slightly blurred if\n",
      "        `order > 1`, unless the input is prefiltered, i.e. it is the result\n",
      "        of calling `spline_filter` on the original input.\n",
      "\n",
      "    Returns\n",
      "    -------\n",
      "    affine_transform : ndarray\n",
      "        The transformed input.\n",
      "\n",
      "    Notes\n",
      "    -----\n",
      "    The given matrix and offset are used to find for each point in the\n",
      "    output the corresponding coordinates in the input by an affine\n",
      "    transformation. The value of the input at those coordinates is\n",
      "    determined by spline interpolation of the requested order. Points\n",
      "    outside the boundaries of the input are filled according to the given\n",
      "    mode.\n",
      "\n",
      "    .. versionchanged:: 0.18.0\n",
      "        Previously, the exact interpretation of the affine transformation\n",
      "        depended on whether the matrix was supplied as a 1-D or a\n",
      "        2-D array. If a 1-D array was supplied\n",
      "        to the matrix parameter, the output pixel value at index ``o``\n",
      "        was determined from the input image at position\n",
      "        ``matrix * (o + offset)``.\n",
      "\n",
      "    For complex-valued `input`, this function transforms the real and imaginary\n",
      "    components independently.\n",
      "\n",
      "    .. versionadded:: 1.6.0\n",
      "        Complex-valued support added.\n",
      "\n",
      "    References\n",
      "    ----------\n",
      "    .. [1] https://en.wikipedia.org/wiki/Homogeneous_coordinates\n",
      "    \n"
     ]
    }
   ],
   "source": [
    "try:\n",
    "    import scipy\n",
    "    print(scipy.__version__)\n",
    "    print(ndimage.affine_transform.__doc__)\n",
    "    from scipy import ndimage \n",
    "except ImportError as e:\n",
    "    print ('test .....', e)\n",
    "    scipy = None\n",
    "\n",
    "\n"
   ]
  },
  {
   "cell_type": "code",
   "execution_count": 3,
   "id": "5283588d",
   "metadata": {
    "execution": {
     "iopub.execute_input": "2022-11-01T10:41:35.566142Z",
     "iopub.status.busy": "2022-11-01T10:41:35.565821Z",
     "iopub.status.idle": "2022-11-01T10:41:35.575322Z",
     "shell.execute_reply": "2022-11-01T10:41:35.574120Z"
    },
    "papermill": {
     "duration": 0.029205,
     "end_time": "2022-11-01T10:41:35.577285",
     "exception": false,
     "start_time": "2022-11-01T10:41:35.548080",
     "status": "completed"
    },
    "tags": []
   },
   "outputs": [
    {
     "name": "stdout",
     "output_type": "stream",
     "text": [
      "/kaggle/input/dogs-vs-cats-redux-kernels-edition/sample_submission.csv\n",
      "/kaggle/input/dogs-vs-cats-redux-kernels-edition/train.zip\n",
      "/kaggle/input/dogs-vs-cats-redux-kernels-edition/test.zip\n"
     ]
    }
   ],
   "source": [
    "import os\n",
    "for dirname, _, filenames in os.walk('/kaggle/input'):\n",
    "    for filename in filenames:\n",
    "        print(os.path.join(dirname, filename))"
   ]
  },
  {
   "cell_type": "markdown",
   "id": "a0c714f5",
   "metadata": {
    "papermill": {
     "duration": 0.009889,
     "end_time": "2022-11-01T10:41:35.597170",
     "exception": false,
     "start_time": "2022-11-01T10:41:35.587281",
     "status": "completed"
    },
    "tags": []
   },
   "source": [
    "## Data importattion "
   ]
  },
  {
   "cell_type": "code",
   "execution_count": 4,
   "id": "3a1d1bf8",
   "metadata": {
    "execution": {
     "iopub.execute_input": "2022-11-01T10:41:35.619984Z",
     "iopub.status.busy": "2022-11-01T10:41:35.618321Z",
     "iopub.status.idle": "2022-11-01T10:41:52.856346Z",
     "shell.execute_reply": "2022-11-01T10:41:52.855251Z"
    },
    "papermill": {
     "duration": 17.251996,
     "end_time": "2022-11-01T10:41:52.858898",
     "exception": false,
     "start_time": "2022-11-01T10:41:35.606902",
     "status": "completed"
    },
    "tags": []
   },
   "outputs": [],
   "source": [
    "\n",
    "## Data extraction from zip file train and test data \n",
    "train_zip='../input/dogs-vs-cats-redux-kernels-edition/train.zip'\n",
    "zip_ref=zipfile.ZipFile(train_zip,'r').extractall('./')\n",
    "\n",
    "test_zip = '../input/dogs-vs-cats-redux-kernels-edition/test.zip'\n",
    "zip_ref=zipfile.ZipFile(test_zip,'r').extractall('./')"
   ]
  },
  {
   "cell_type": "code",
   "execution_count": 5,
   "id": "c9184db3",
   "metadata": {
    "execution": {
     "iopub.execute_input": "2022-11-01T10:41:52.880666Z",
     "iopub.status.busy": "2022-11-01T10:41:52.880335Z",
     "iopub.status.idle": "2022-11-01T10:41:52.886667Z",
     "shell.execute_reply": "2022-11-01T10:41:52.885607Z"
    },
    "papermill": {
     "duration": 0.021438,
     "end_time": "2022-11-01T10:41:52.890673",
     "exception": false,
     "start_time": "2022-11-01T10:41:52.869235",
     "status": "completed"
    },
    "tags": []
   },
   "outputs": [
    {
     "name": "stdout",
     "output_type": "stream",
     "text": [
      "./train/\n",
      "./train/\n"
     ]
    }
   ],
   "source": [
    "## Definit the data path for train and test \n",
    "\n",
    "TRAIN_DIR = r'./train/'\n",
    "\n",
    "print(TRAIN_DIR)\n",
    "TEST_DIR = r'./test/'\n",
    "\n",
    "print(TRAIN_DIR)\n",
    "IMG_SIZE = 100\n",
    "LR = 1e-3 \n",
    "\n",
    "## save the model name \n",
    "MODEL_NAME = 'dogvscats--{}--{}.model'.format(LR,'conv-basic')\n",
    "\n",
    "val_loss = {}\n",
    "accuracy = {}\n"
   ]
  },
  {
   "cell_type": "code",
   "execution_count": 6,
   "id": "4418289c",
   "metadata": {
    "execution": {
     "iopub.execute_input": "2022-11-01T10:41:52.912681Z",
     "iopub.status.busy": "2022-11-01T10:41:52.912411Z",
     "iopub.status.idle": "2022-11-01T10:41:52.944476Z",
     "shell.execute_reply": "2022-11-01T10:41:52.943586Z"
    },
    "papermill": {
     "duration": 0.045151,
     "end_time": "2022-11-01T10:41:52.946663",
     "exception": false,
     "start_time": "2022-11-01T10:41:52.901512",
     "status": "completed"
    },
    "tags": []
   },
   "outputs": [
    {
     "data": {
      "text/plain": [
       "['dog.4024.jpg',\n",
       " 'cat.6929.jpg',\n",
       " 'cat.3094.jpg',\n",
       " 'dog.2084.jpg',\n",
       " 'dog.8649.jpg',\n",
       " 'cat.9712.jpg',\n",
       " 'cat.6198.jpg',\n",
       " 'cat.12006.jpg',\n",
       " 'cat.4546.jpg',\n",
       " 'dog.2245.jpg',\n",
       " 'cat.7256.jpg',\n",
       " 'dog.11803.jpg',\n",
       " 'cat.5724.jpg',\n",
       " 'dog.4316.jpg',\n",
       " 'dog.1427.jpg',\n",
       " 'dog.8516.jpg',\n",
       " 'dog.8955.jpg',\n",
       " 'cat.12125.jpg',\n",
       " 'cat.685.jpg',\n",
       " 'dog.1928.jpg',\n",
       " 'cat.4623.jpg',\n",
       " 'cat.3743.jpg',\n",
       " 'dog.4536.jpg',\n",
       " 'cat.11405.jpg',\n",
       " 'cat.3191.jpg',\n",
       " 'cat.713.jpg',\n",
       " 'cat.8149.jpg',\n",
       " 'dog.7684.jpg',\n",
       " 'dog.6738.jpg',\n",
       " 'dog.616.jpg',\n",
       " 'dog.2372.jpg',\n",
       " 'dog.2307.jpg',\n",
       " 'dog.2803.jpg',\n",
       " 'dog.934.jpg',\n",
       " 'cat.5567.jpg',\n",
       " 'cat.10889.jpg',\n",
       " 'cat.7331.jpg',\n",
       " 'dog.3063.jpg',\n",
       " 'cat.12364.jpg',\n",
       " 'cat.6513.jpg',\n",
       " 'dog.4216.jpg',\n",
       " 'cat.5469.jpg',\n",
       " 'cat.2987.jpg',\n",
       " 'dog.605.jpg',\n",
       " 'cat.1175.jpg',\n",
       " 'dog.6819.jpg',\n",
       " 'cat.9785.jpg',\n",
       " 'cat.11941.jpg',\n",
       " 'cat.8393.jpg',\n",
       " 'dog.11654.jpg',\n",
       " 'cat.3806.jpg',\n",
       " 'dog.1343.jpg',\n",
       " 'dog.10339.jpg',\n",
       " 'dog.12048.jpg',\n",
       " 'cat.4599.jpg',\n",
       " 'cat.10192.jpg',\n",
       " 'dog.8515.jpg',\n",
       " 'dog.11675.jpg',\n",
       " 'dog.6900.jpg',\n",
       " 'cat.6755.jpg',\n",
       " 'cat.1445.jpg',\n",
       " 'dog.5372.jpg',\n",
       " 'dog.7278.jpg',\n",
       " 'dog.4286.jpg',\n",
       " 'dog.9004.jpg',\n",
       " 'cat.3235.jpg',\n",
       " 'dog.5806.jpg',\n",
       " 'dog.5968.jpg',\n",
       " 'dog.1995.jpg',\n",
       " 'cat.11214.jpg',\n",
       " 'dog.4634.jpg',\n",
       " 'dog.3865.jpg',\n",
       " 'cat.2515.jpg',\n",
       " 'dog.6842.jpg',\n",
       " 'dog.3912.jpg',\n",
       " 'dog.11957.jpg',\n",
       " 'cat.6811.jpg',\n",
       " 'cat.4931.jpg',\n",
       " 'dog.2566.jpg',\n",
       " 'dog.12177.jpg',\n",
       " 'dog.5497.jpg',\n",
       " 'dog.1114.jpg',\n",
       " 'cat.819.jpg',\n",
       " 'dog.3639.jpg',\n",
       " 'dog.8301.jpg',\n",
       " 'cat.5440.jpg',\n",
       " 'dog.1643.jpg',\n",
       " 'cat.11141.jpg',\n",
       " 'cat.9540.jpg',\n",
       " 'dog.5985.jpg',\n",
       " 'cat.9579.jpg',\n",
       " 'cat.6515.jpg',\n",
       " 'cat.7771.jpg',\n",
       " 'dog.8349.jpg',\n",
       " 'dog.7372.jpg',\n",
       " 'dog.9453.jpg',\n",
       " 'cat.9165.jpg',\n",
       " 'dog.8239.jpg',\n",
       " 'cat.4058.jpg',\n",
       " 'cat.312.jpg',\n",
       " 'dog.7410.jpg',\n",
       " 'dog.4175.jpg',\n",
       " 'dog.8176.jpg',\n",
       " 'cat.8211.jpg',\n",
       " 'cat.11.jpg',\n",
       " 'cat.2043.jpg',\n",
       " 'dog.4437.jpg',\n",
       " 'cat.8081.jpg',\n",
       " 'dog.7770.jpg',\n",
       " 'cat.3479.jpg',\n",
       " 'cat.5364.jpg',\n",
       " 'cat.6159.jpg',\n",
       " 'dog.9296.jpg',\n",
       " 'dog.2458.jpg',\n",
       " 'cat.8600.jpg',\n",
       " 'dog.12421.jpg',\n",
       " 'dog.3862.jpg',\n",
       " 'dog.2641.jpg',\n",
       " 'cat.261.jpg',\n",
       " 'dog.2119.jpg',\n",
       " 'dog.10810.jpg',\n",
       " 'dog.3103.jpg',\n",
       " 'dog.8124.jpg',\n",
       " 'dog.1622.jpg',\n",
       " 'dog.9036.jpg',\n",
       " 'cat.2788.jpg',\n",
       " 'cat.9171.jpg',\n",
       " 'dog.8174.jpg',\n",
       " 'dog.1083.jpg',\n",
       " 'dog.5860.jpg',\n",
       " 'cat.3914.jpg',\n",
       " 'cat.6071.jpg',\n",
       " 'cat.1241.jpg',\n",
       " 'dog.3125.jpg',\n",
       " 'cat.274.jpg',\n",
       " 'cat.12080.jpg',\n",
       " 'cat.6567.jpg',\n",
       " 'dog.11583.jpg',\n",
       " 'dog.9999.jpg',\n",
       " 'dog.3910.jpg',\n",
       " 'cat.6643.jpg',\n",
       " 'cat.11726.jpg',\n",
       " 'cat.937.jpg',\n",
       " 'dog.6625.jpg',\n",
       " 'dog.94.jpg',\n",
       " 'cat.11459.jpg',\n",
       " 'dog.9483.jpg',\n",
       " 'cat.6061.jpg',\n",
       " 'dog.7985.jpg',\n",
       " 'cat.4238.jpg',\n",
       " 'dog.4507.jpg',\n",
       " 'dog.8829.jpg',\n",
       " 'cat.8732.jpg',\n",
       " 'dog.276.jpg',\n",
       " 'cat.1083.jpg',\n",
       " 'dog.8681.jpg',\n",
       " 'cat.8378.jpg',\n",
       " 'dog.10934.jpg',\n",
       " 'cat.1231.jpg',\n",
       " 'dog.5192.jpg',\n",
       " 'cat.11690.jpg',\n",
       " 'cat.9080.jpg',\n",
       " 'dog.5678.jpg',\n",
       " 'dog.9347.jpg',\n",
       " 'cat.6425.jpg',\n",
       " 'cat.1080.jpg',\n",
       " 'dog.12122.jpg',\n",
       " 'cat.5734.jpg',\n",
       " 'dog.9662.jpg',\n",
       " 'dog.11447.jpg',\n",
       " 'cat.2211.jpg',\n",
       " 'dog.5212.jpg',\n",
       " 'dog.6548.jpg',\n",
       " 'cat.5836.jpg',\n",
       " 'cat.9796.jpg',\n",
       " 'cat.8491.jpg',\n",
       " 'cat.3617.jpg',\n",
       " 'cat.6003.jpg',\n",
       " 'cat.10905.jpg',\n",
       " 'dog.9960.jpg',\n",
       " 'cat.8262.jpg',\n",
       " 'cat.12375.jpg',\n",
       " 'cat.5161.jpg',\n",
       " 'cat.1508.jpg',\n",
       " 'cat.1734.jpg',\n",
       " 'cat.3916.jpg',\n",
       " 'dog.3506.jpg',\n",
       " 'cat.2668.jpg',\n",
       " 'cat.3399.jpg',\n",
       " 'cat.5838.jpg',\n",
       " 'dog.9294.jpg',\n",
       " 'dog.8509.jpg',\n",
       " 'dog.1071.jpg',\n",
       " 'dog.11594.jpg',\n",
       " 'dog.10504.jpg',\n",
       " 'cat.233.jpg',\n",
       " 'cat.3714.jpg',\n",
       " 'cat.733.jpg',\n",
       " 'cat.1215.jpg',\n",
       " 'dog.10614.jpg',\n",
       " 'dog.11943.jpg',\n",
       " 'cat.8082.jpg',\n",
       " 'cat.5151.jpg',\n",
       " 'cat.1749.jpg',\n",
       " 'dog.223.jpg',\n",
       " 'dog.8550.jpg',\n",
       " 'cat.12246.jpg',\n",
       " 'cat.7214.jpg',\n",
       " 'cat.5222.jpg',\n",
       " 'dog.10122.jpg',\n",
       " 'dog.8549.jpg',\n",
       " 'cat.3888.jpg',\n",
       " 'cat.8117.jpg',\n",
       " 'cat.4247.jpg',\n",
       " 'cat.12136.jpg',\n",
       " 'dog.7431.jpg',\n",
       " 'dog.1263.jpg',\n",
       " 'cat.1461.jpg',\n",
       " 'dog.8762.jpg',\n",
       " 'cat.12040.jpg',\n",
       " 'dog.3450.jpg',\n",
       " 'cat.11839.jpg',\n",
       " 'cat.7722.jpg',\n",
       " 'dog.2311.jpg',\n",
       " 'dog.3640.jpg',\n",
       " 'cat.1390.jpg',\n",
       " 'cat.120.jpg',\n",
       " 'dog.6454.jpg',\n",
       " 'dog.8688.jpg',\n",
       " 'dog.311.jpg',\n",
       " 'dog.9052.jpg',\n",
       " 'dog.11128.jpg',\n",
       " 'cat.265.jpg',\n",
       " 'dog.8435.jpg',\n",
       " 'cat.1249.jpg',\n",
       " 'dog.8765.jpg',\n",
       " 'dog.7490.jpg',\n",
       " 'dog.3146.jpg',\n",
       " 'dog.446.jpg',\n",
       " 'dog.12470.jpg',\n",
       " 'cat.10486.jpg',\n",
       " 'dog.11934.jpg',\n",
       " 'dog.267.jpg',\n",
       " 'cat.2030.jpg',\n",
       " 'dog.466.jpg',\n",
       " 'dog.8076.jpg',\n",
       " 'cat.1469.jpg',\n",
       " 'dog.3405.jpg',\n",
       " 'dog.8645.jpg',\n",
       " 'dog.11473.jpg',\n",
       " 'cat.11849.jpg',\n",
       " 'cat.4244.jpg',\n",
       " 'dog.2061.jpg',\n",
       " 'cat.11500.jpg',\n",
       " 'cat.8849.jpg',\n",
       " 'cat.10650.jpg',\n",
       " 'cat.6436.jpg',\n",
       " 'dog.7034.jpg',\n",
       " 'cat.122.jpg',\n",
       " 'cat.2199.jpg',\n",
       " 'dog.3059.jpg',\n",
       " 'dog.1496.jpg',\n",
       " 'cat.936.jpg',\n",
       " 'dog.5996.jpg',\n",
       " 'cat.4199.jpg',\n",
       " 'dog.6649.jpg',\n",
       " 'cat.967.jpg',\n",
       " 'dog.10039.jpg',\n",
       " 'dog.9944.jpg',\n",
       " 'cat.6862.jpg',\n",
       " 'dog.4585.jpg',\n",
       " 'dog.8070.jpg',\n",
       " 'dog.10876.jpg',\n",
       " 'cat.879.jpg',\n",
       " 'dog.288.jpg',\n",
       " 'cat.11988.jpg',\n",
       " 'dog.227.jpg',\n",
       " 'dog.11711.jpg',\n",
       " 'dog.3759.jpg',\n",
       " 'dog.6415.jpg',\n",
       " 'cat.11632.jpg',\n",
       " 'cat.3570.jpg',\n",
       " 'cat.9714.jpg',\n",
       " 'dog.6111.jpg',\n",
       " 'cat.7311.jpg',\n",
       " 'dog.9535.jpg',\n",
       " 'dog.3135.jpg',\n",
       " 'dog.5302.jpg',\n",
       " 'cat.5019.jpg',\n",
       " 'dog.8175.jpg',\n",
       " 'dog.6908.jpg',\n",
       " 'dog.12215.jpg',\n",
       " 'cat.6402.jpg',\n",
       " 'dog.3809.jpg',\n",
       " 'cat.6745.jpg',\n",
       " 'dog.7421.jpg',\n",
       " 'dog.4613.jpg',\n",
       " 'dog.5560.jpg',\n",
       " 'dog.7862.jpg',\n",
       " 'dog.9619.jpg',\n",
       " 'dog.4750.jpg',\n",
       " 'dog.4126.jpg',\n",
       " 'dog.1051.jpg',\n",
       " 'dog.9835.jpg',\n",
       " 'cat.710.jpg',\n",
       " 'dog.10549.jpg',\n",
       " 'dog.5824.jpg',\n",
       " 'cat.9364.jpg',\n",
       " 'cat.9068.jpg',\n",
       " 'dog.11159.jpg',\n",
       " 'cat.4008.jpg',\n",
       " 'cat.4555.jpg',\n",
       " 'cat.2687.jpg',\n",
       " 'dog.12444.jpg',\n",
       " 'cat.4847.jpg',\n",
       " 'cat.347.jpg',\n",
       " 'dog.11430.jpg',\n",
       " 'cat.1109.jpg',\n",
       " 'dog.10603.jpg',\n",
       " 'dog.11324.jpg',\n",
       " 'dog.10403.jpg',\n",
       " 'dog.8709.jpg',\n",
       " 'dog.10035.jpg',\n",
       " 'cat.4371.jpg',\n",
       " 'dog.12331.jpg',\n",
       " 'cat.3590.jpg',\n",
       " 'dog.4160.jpg',\n",
       " 'dog.703.jpg',\n",
       " 'dog.2225.jpg',\n",
       " 'dog.9579.jpg',\n",
       " 'dog.2102.jpg',\n",
       " 'dog.2050.jpg',\n",
       " 'cat.8015.jpg',\n",
       " 'cat.3929.jpg',\n",
       " 'dog.7881.jpg',\n",
       " 'cat.12236.jpg',\n",
       " 'cat.3403.jpg',\n",
       " 'dog.8599.jpg',\n",
       " 'cat.6239.jpg',\n",
       " 'cat.5039.jpg',\n",
       " 'cat.464.jpg',\n",
       " 'cat.1164.jpg',\n",
       " 'dog.4872.jpg',\n",
       " 'dog.7921.jpg',\n",
       " 'cat.3150.jpg',\n",
       " 'dog.7806.jpg',\n",
       " 'dog.581.jpg',\n",
       " 'dog.10252.jpg',\n",
       " 'cat.7787.jpg',\n",
       " 'cat.9543.jpg',\n",
       " 'dog.3700.jpg',\n",
       " 'cat.5525.jpg',\n",
       " 'dog.10721.jpg',\n",
       " 'dog.1287.jpg',\n",
       " 'cat.9734.jpg',\n",
       " 'dog.2985.jpg',\n",
       " 'cat.4351.jpg',\n",
       " 'dog.8713.jpg',\n",
       " 'cat.4613.jpg',\n",
       " 'cat.4804.jpg',\n",
       " 'dog.2092.jpg',\n",
       " 'dog.2526.jpg',\n",
       " 'dog.1147.jpg',\n",
       " 'cat.571.jpg',\n",
       " 'cat.7047.jpg',\n",
       " 'dog.11457.jpg',\n",
       " 'cat.9479.jpg',\n",
       " 'cat.11696.jpg',\n",
       " 'dog.11715.jpg',\n",
       " 'cat.4197.jpg',\n",
       " 'cat.6196.jpg',\n",
       " 'dog.10774.jpg',\n",
       " 'cat.12021.jpg',\n",
       " 'cat.8121.jpg',\n",
       " 'dog.4209.jpg',\n",
       " 'dog.6212.jpg',\n",
       " 'cat.4189.jpg',\n",
       " 'dog.7284.jpg',\n",
       " 'dog.10466.jpg',\n",
       " 'dog.10103.jpg',\n",
       " 'cat.874.jpg',\n",
       " 'cat.2808.jpg',\n",
       " 'cat.7363.jpg',\n",
       " 'dog.1823.jpg',\n",
       " 'cat.9893.jpg',\n",
       " 'dog.8132.jpg',\n",
       " 'cat.12361.jpg',\n",
       " 'dog.5235.jpg',\n",
       " 'dog.11409.jpg',\n",
       " 'cat.404.jpg',\n",
       " 'cat.1018.jpg',\n",
       " 'dog.12366.jpg',\n",
       " 'dog.6845.jpg',\n",
       " 'dog.805.jpg',\n",
       " 'cat.2501.jpg',\n",
       " 'dog.11952.jpg',\n",
       " 'cat.7493.jpg',\n",
       " 'dog.12052.jpg',\n",
       " 'cat.7155.jpg',\n",
       " 'dog.9955.jpg',\n",
       " 'cat.10678.jpg',\n",
       " 'dog.4219.jpg',\n",
       " 'cat.5030.jpg',\n",
       " 'dog.5339.jpg',\n",
       " 'cat.10101.jpg',\n",
       " 'dog.2871.jpg',\n",
       " 'cat.10539.jpg',\n",
       " 'dog.38.jpg',\n",
       " 'dog.9241.jpg',\n",
       " 'cat.998.jpg',\n",
       " 'dog.2762.jpg',\n",
       " 'dog.6442.jpg',\n",
       " 'dog.5001.jpg',\n",
       " 'dog.754.jpg',\n",
       " 'cat.3667.jpg',\n",
       " 'cat.11904.jpg',\n",
       " 'cat.11448.jpg',\n",
       " 'dog.1656.jpg',\n",
       " 'dog.4736.jpg',\n",
       " 'dog.7382.jpg',\n",
       " 'cat.1575.jpg',\n",
       " 'dog.4314.jpg',\n",
       " 'cat.8677.jpg',\n",
       " 'dog.6201.jpg',\n",
       " 'dog.11668.jpg',\n",
       " 'cat.11882.jpg',\n",
       " 'dog.8841.jpg',\n",
       " 'dog.12134.jpg',\n",
       " 'dog.2665.jpg',\n",
       " 'dog.10244.jpg',\n",
       " 'cat.8829.jpg',\n",
       " 'dog.12348.jpg',\n",
       " 'dog.5940.jpg',\n",
       " 'cat.5010.jpg',\n",
       " 'dog.545.jpg',\n",
       " 'cat.3621.jpg',\n",
       " 'dog.9733.jpg',\n",
       " 'cat.6216.jpg',\n",
       " 'cat.5282.jpg',\n",
       " 'dog.11012.jpg',\n",
       " 'dog.8589.jpg',\n",
       " 'cat.4606.jpg',\n",
       " 'dog.12496.jpg',\n",
       " 'cat.2965.jpg',\n",
       " 'cat.1276.jpg',\n",
       " 'dog.12233.jpg',\n",
       " 'dog.8535.jpg',\n",
       " 'dog.11564.jpg',\n",
       " 'cat.10045.jpg',\n",
       " 'cat.2151.jpg',\n",
       " 'cat.10222.jpg',\n",
       " 'dog.11048.jpg',\n",
       " 'dog.463.jpg',\n",
       " 'dog.9240.jpg',\n",
       " 'dog.12044.jpg',\n",
       " 'cat.2778.jpg',\n",
       " 'cat.11351.jpg',\n",
       " 'cat.8607.jpg',\n",
       " 'cat.6440.jpg',\n",
       " 'dog.8136.jpg',\n",
       " 'cat.6749.jpg',\n",
       " 'cat.3539.jpg',\n",
       " 'cat.2711.jpg',\n",
       " 'cat.9802.jpg',\n",
       " 'dog.3022.jpg',\n",
       " 'cat.4356.jpg',\n",
       " 'dog.1869.jpg',\n",
       " 'cat.1633.jpg',\n",
       " 'dog.11889.jpg',\n",
       " 'cat.1830.jpg',\n",
       " 'cat.9831.jpg',\n",
       " 'dog.6217.jpg',\n",
       " 'dog.3499.jpg',\n",
       " 'dog.2387.jpg',\n",
       " 'dog.10338.jpg',\n",
       " 'dog.4119.jpg',\n",
       " 'cat.3108.jpg',\n",
       " 'cat.109.jpg',\n",
       " 'cat.2287.jpg',\n",
       " 'cat.11408.jpg',\n",
       " 'cat.9636.jpg',\n",
       " 'cat.8845.jpg',\n",
       " 'cat.9149.jpg',\n",
       " 'dog.10183.jpg',\n",
       " 'dog.2756.jpg',\n",
       " 'dog.8596.jpg',\n",
       " 'cat.6656.jpg',\n",
       " 'dog.4796.jpg',\n",
       " 'dog.9415.jpg',\n",
       " 'dog.10903.jpg',\n",
       " 'cat.1118.jpg',\n",
       " 'dog.5483.jpg',\n",
       " 'cat.3962.jpg',\n",
       " 'cat.1726.jpg',\n",
       " 'dog.10271.jpg',\n",
       " 'dog.4141.jpg',\n",
       " 'dog.7654.jpg',\n",
       " 'dog.12192.jpg',\n",
       " 'cat.6946.jpg',\n",
       " 'dog.11902.jpg',\n",
       " 'cat.4452.jpg',\n",
       " 'cat.5345.jpg',\n",
       " 'dog.2832.jpg',\n",
       " 'dog.4868.jpg',\n",
       " 'dog.12400.jpg',\n",
       " 'dog.2868.jpg',\n",
       " 'cat.6952.jpg',\n",
       " 'dog.6164.jpg',\n",
       " 'cat.7111.jpg',\n",
       " 'dog.5457.jpg',\n",
       " 'cat.6836.jpg',\n",
       " 'cat.9341.jpg',\n",
       " 'cat.12133.jpg',\n",
       " 'cat.10259.jpg',\n",
       " 'dog.8172.jpg',\n",
       " 'cat.2713.jpg',\n",
       " 'dog.11225.jpg',\n",
       " 'cat.8122.jpg',\n",
       " 'dog.10649.jpg',\n",
       " 'cat.1511.jpg',\n",
       " 'cat.1187.jpg',\n",
       " 'cat.4543.jpg',\n",
       " 'dog.11327.jpg',\n",
       " 'cat.5945.jpg',\n",
       " 'dog.5228.jpg',\n",
       " 'cat.4400.jpg',\n",
       " 'dog.7987.jpg',\n",
       " 'cat.4605.jpg',\n",
       " 'cat.4984.jpg',\n",
       " 'dog.1718.jpg',\n",
       " 'cat.2639.jpg',\n",
       " 'cat.5341.jpg',\n",
       " 'dog.5004.jpg',\n",
       " 'cat.7706.jpg',\n",
       " 'cat.7962.jpg',\n",
       " 'dog.162.jpg',\n",
       " 'cat.10260.jpg',\n",
       " 'dog.7742.jpg',\n",
       " 'dog.5184.jpg',\n",
       " 'cat.1903.jpg',\n",
       " 'dog.1098.jpg',\n",
       " 'cat.9587.jpg',\n",
       " 'cat.2672.jpg',\n",
       " 'cat.1498.jpg',\n",
       " 'dog.6214.jpg',\n",
       " 'dog.5778.jpg',\n",
       " 'dog.8967.jpg',\n",
       " 'cat.9706.jpg',\n",
       " 'cat.10491.jpg',\n",
       " 'dog.7008.jpg',\n",
       " 'cat.6173.jpg',\n",
       " 'cat.4207.jpg',\n",
       " 'cat.3153.jpg',\n",
       " 'cat.3263.jpg',\n",
       " 'dog.10136.jpg',\n",
       " 'dog.431.jpg',\n",
       " 'cat.9140.jpg',\n",
       " 'cat.11777.jpg',\n",
       " 'cat.4447.jpg',\n",
       " 'cat.11029.jpg',\n",
       " 'cat.12004.jpg',\n",
       " 'cat.5376.jpg',\n",
       " 'cat.11132.jpg',\n",
       " 'cat.11543.jpg',\n",
       " 'dog.3064.jpg',\n",
       " 'dog.2144.jpg',\n",
       " 'cat.12070.jpg',\n",
       " 'cat.4703.jpg',\n",
       " 'dog.7090.jpg',\n",
       " 'dog.8028.jpg',\n",
       " 'cat.12358.jpg',\n",
       " 'cat.6557.jpg',\n",
       " 'dog.9851.jpg',\n",
       " 'dog.10674.jpg',\n",
       " 'dog.8618.jpg',\n",
       " 'cat.793.jpg',\n",
       " 'cat.6231.jpg',\n",
       " 'cat.6119.jpg',\n",
       " 'cat.7955.jpg',\n",
       " 'cat.3953.jpg',\n",
       " 'dog.4393.jpg',\n",
       " 'cat.10505.jpg',\n",
       " 'dog.9286.jpg',\n",
       " 'cat.7083.jpg',\n",
       " 'dog.2229.jpg',\n",
       " 'dog.11681.jpg',\n",
       " 'cat.8032.jpg',\n",
       " 'cat.2642.jpg',\n",
       " 'dog.8559.jpg',\n",
       " 'dog.3331.jpg',\n",
       " 'cat.684.jpg',\n",
       " 'dog.6389.jpg',\n",
       " 'dog.7721.jpg',\n",
       " 'dog.4016.jpg',\n",
       " 'cat.2470.jpg',\n",
       " 'cat.4051.jpg',\n",
       " 'cat.5383.jpg',\n",
       " 'dog.9100.jpg',\n",
       " 'cat.7406.jpg',\n",
       " 'cat.6191.jpg',\n",
       " 'cat.10667.jpg',\n",
       " 'cat.7341.jpg',\n",
       " 'dog.6292.jpg',\n",
       " 'dog.12252.jpg',\n",
       " 'dog.3498.jpg',\n",
       " 'cat.5629.jpg',\n",
       " 'cat.159.jpg',\n",
       " 'cat.4515.jpg',\n",
       " 'cat.631.jpg',\n",
       " 'cat.11821.jpg',\n",
       " 'cat.2947.jpg',\n",
       " 'dog.4520.jpg',\n",
       " 'cat.2057.jpg',\n",
       " 'cat.12465.jpg',\n",
       " 'dog.11456.jpg',\n",
       " 'cat.4279.jpg',\n",
       " 'dog.4679.jpg',\n",
       " 'cat.10304.jpg',\n",
       " 'cat.11310.jpg',\n",
       " 'cat.4777.jpg',\n",
       " 'cat.10925.jpg',\n",
       " 'cat.1077.jpg',\n",
       " 'dog.10350.jpg',\n",
       " 'dog.4411.jpg',\n",
       " 'dog.6039.jpg',\n",
       " 'cat.4583.jpg',\n",
       " 'cat.5042.jpg',\n",
       " 'cat.8460.jpg',\n",
       " 'dog.4281.jpg',\n",
       " 'cat.5873.jpg',\n",
       " 'cat.7882.jpg',\n",
       " 'dog.3932.jpg',\n",
       " 'dog.1796.jpg',\n",
       " 'dog.6990.jpg',\n",
       " 'dog.5195.jpg',\n",
       " 'dog.4847.jpg',\n",
       " 'cat.3850.jpg',\n",
       " 'dog.9673.jpg',\n",
       " 'cat.9970.jpg',\n",
       " 'dog.1524.jpg',\n",
       " 'dog.906.jpg',\n",
       " 'cat.6938.jpg',\n",
       " 'dog.5686.jpg',\n",
       " 'cat.2138.jpg',\n",
       " 'cat.1696.jpg',\n",
       " 'cat.664.jpg',\n",
       " 'cat.10206.jpg',\n",
       " 'dog.1442.jpg',\n",
       " 'cat.5532.jpg',\n",
       " 'cat.1751.jpg',\n",
       " 'cat.9692.jpg',\n",
       " 'dog.11036.jpg',\n",
       " 'dog.168.jpg',\n",
       " 'dog.4444.jpg',\n",
       " 'cat.897.jpg',\n",
       " 'dog.1833.jpg',\n",
       " 'cat.8658.jpg',\n",
       " 'dog.4441.jpg',\n",
       " 'dog.4575.jpg',\n",
       " 'dog.8672.jpg',\n",
       " 'dog.3631.jpg',\n",
       " 'dog.5520.jpg',\n",
       " 'cat.887.jpg',\n",
       " 'dog.5823.jpg',\n",
       " 'dog.10037.jpg',\n",
       " 'cat.11528.jpg',\n",
       " 'cat.3015.jpg',\n",
       " 'dog.5101.jpg',\n",
       " 'cat.17.jpg',\n",
       " 'cat.20.jpg',\n",
       " 'cat.7504.jpg',\n",
       " 'cat.7362.jpg',\n",
       " 'cat.5531.jpg',\n",
       " 'cat.3185.jpg',\n",
       " 'cat.4186.jpg',\n",
       " 'cat.8989.jpg',\n",
       " 'dog.12228.jpg',\n",
       " 'dog.2542.jpg',\n",
       " 'dog.11714.jpg',\n",
       " 'cat.6606.jpg',\n",
       " 'cat.10811.jpg',\n",
       " 'cat.12466.jpg',\n",
       " 'dog.9928.jpg',\n",
       " 'dog.8619.jpg',\n",
       " 'cat.10876.jpg',\n",
       " 'cat.4556.jpg',\n",
       " 'cat.2729.jpg',\n",
       " 'cat.3205.jpg',\n",
       " 'dog.1771.jpg',\n",
       " 'dog.4880.jpg',\n",
       " 'cat.11674.jpg',\n",
       " 'dog.4935.jpg',\n",
       " 'dog.1776.jpg',\n",
       " 'cat.7382.jpg',\n",
       " 'cat.3489.jpg',\n",
       " 'cat.10034.jpg',\n",
       " 'dog.8180.jpg',\n",
       " 'cat.8973.jpg',\n",
       " 'cat.10532.jpg',\n",
       " 'dog.2296.jpg',\n",
       " 'cat.3663.jpg',\n",
       " 'cat.3.jpg',\n",
       " 'dog.4546.jpg',\n",
       " 'dog.4170.jpg',\n",
       " 'dog.2271.jpg',\n",
       " 'dog.9507.jpg',\n",
       " 'cat.12155.jpg',\n",
       " 'dog.3713.jpg',\n",
       " 'dog.9360.jpg',\n",
       " 'cat.9852.jpg',\n",
       " 'cat.11289.jpg',\n",
       " 'dog.3632.jpg',\n",
       " 'cat.8145.jpg',\n",
       " 'dog.2779.jpg',\n",
       " 'cat.9222.jpg',\n",
       " 'dog.5518.jpg',\n",
       " 'dog.9534.jpg',\n",
       " 'cat.3927.jpg',\n",
       " 'cat.5851.jpg',\n",
       " 'cat.7775.jpg',\n",
       " 'dog.719.jpg',\n",
       " 'cat.2465.jpg',\n",
       " 'dog.5078.jpg',\n",
       " 'cat.6259.jpg',\n",
       " 'cat.4843.jpg',\n",
       " 'dog.9729.jpg',\n",
       " 'cat.5101.jpg',\n",
       " 'cat.8403.jpg',\n",
       " 'cat.8546.jpg',\n",
       " 'dog.5601.jpg',\n",
       " 'cat.8645.jpg',\n",
       " 'dog.6241.jpg',\n",
       " 'cat.12027.jpg',\n",
       " 'dog.10006.jpg',\n",
       " 'dog.11802.jpg',\n",
       " 'cat.8298.jpg',\n",
       " 'cat.12240.jpg',\n",
       " 'dog.6345.jpg',\n",
       " 'cat.7623.jpg',\n",
       " 'cat.5463.jpg',\n",
       " 'dog.2321.jpg',\n",
       " 'dog.10197.jpg',\n",
       " 'dog.3924.jpg',\n",
       " 'cat.2279.jpg',\n",
       " 'dog.10631.jpg',\n",
       " 'cat.2640.jpg',\n",
       " 'dog.10014.jpg',\n",
       " 'dog.1844.jpg',\n",
       " 'cat.3382.jpg',\n",
       " 'dog.11843.jpg',\n",
       " 'dog.2192.jpg',\n",
       " 'cat.10869.jpg',\n",
       " 'dog.1777.jpg',\n",
       " 'dog.6223.jpg',\n",
       " 'dog.6403.jpg',\n",
       " 'cat.10784.jpg',\n",
       " 'dog.11177.jpg',\n",
       " 'cat.7852.jpg',\n",
       " 'cat.7578.jpg',\n",
       " 'cat.4712.jpg',\n",
       " 'cat.87.jpg',\n",
       " 'dog.4251.jpg',\n",
       " 'dog.6157.jpg',\n",
       " 'dog.8699.jpg',\n",
       " 'cat.8914.jpg',\n",
       " 'cat.7873.jpg',\n",
       " 'cat.3242.jpg',\n",
       " 'dog.11498.jpg',\n",
       " 'dog.7524.jpg',\n",
       " 'cat.6385.jpg',\n",
       " 'dog.8868.jpg',\n",
       " 'dog.11570.jpg',\n",
       " 'dog.5799.jpg',\n",
       " 'cat.1560.jpg',\n",
       " 'dog.8277.jpg',\n",
       " 'dog.3741.jpg',\n",
       " 'dog.2024.jpg',\n",
       " 'cat.5536.jpg',\n",
       " 'dog.9431.jpg',\n",
       " 'cat.12089.jpg',\n",
       " 'cat.3859.jpg',\n",
       " 'dog.2640.jpg',\n",
       " 'dog.203.jpg',\n",
       " 'dog.6377.jpg',\n",
       " 'cat.944.jpg',\n",
       " 'cat.4899.jpg',\n",
       " 'dog.142.jpg',\n",
       " 'cat.3558.jpg',\n",
       " 'cat.7078.jpg',\n",
       " 'dog.2696.jpg',\n",
       " 'dog.6207.jpg',\n",
       " 'dog.2342.jpg',\n",
       " 'dog.8252.jpg',\n",
       " 'cat.3636.jpg',\n",
       " 'dog.12071.jpg',\n",
       " 'dog.7970.jpg',\n",
       " 'cat.8579.jpg',\n",
       " 'dog.9346.jpg',\n",
       " 'dog.3635.jpg',\n",
       " 'cat.11119.jpg',\n",
       " 'cat.11031.jpg',\n",
       " 'dog.8075.jpg',\n",
       " 'cat.3551.jpg',\n",
       " 'cat.10759.jpg',\n",
       " 'dog.5438.jpg',\n",
       " 'cat.9380.jpg',\n",
       " 'dog.11499.jpg',\n",
       " 'dog.8294.jpg',\n",
       " 'cat.5146.jpg',\n",
       " 'cat.2168.jpg',\n",
       " 'cat.6387.jpg',\n",
       " 'cat.11460.jpg',\n",
       " 'dog.5825.jpg',\n",
       " 'dog.8521.jpg',\n",
       " 'dog.11243.jpg',\n",
       " 'dog.9295.jpg',\n",
       " 'dog.11407.jpg',\n",
       " 'cat.4494.jpg',\n",
       " 'dog.2427.jpg',\n",
       " 'dog.1366.jpg',\n",
       " 'dog.348.jpg',\n",
       " 'dog.4540.jpg',\n",
       " 'cat.4455.jpg',\n",
       " 'cat.2860.jpg',\n",
       " 'dog.3630.jpg',\n",
       " 'cat.6770.jpg',\n",
       " 'cat.1350.jpg',\n",
       " 'dog.11420.jpg',\n",
       " 'cat.9292.jpg',\n",
       " 'dog.2632.jpg',\n",
       " 'dog.2983.jpg',\n",
       " 'dog.1199.jpg',\n",
       " 'dog.1106.jpg',\n",
       " 'dog.1240.jpg',\n",
       " 'cat.1904.jpg',\n",
       " 'cat.12052.jpg',\n",
       " 'dog.7419.jpg',\n",
       " 'cat.8293.jpg',\n",
       " 'dog.6566.jpg',\n",
       " 'cat.7225.jpg',\n",
       " 'dog.1893.jpg',\n",
       " 'dog.2733.jpg',\n",
       " 'dog.6380.jpg',\n",
       " 'cat.4439.jpg',\n",
       " 'dog.12170.jpg',\n",
       " 'cat.1967.jpg',\n",
       " 'dog.3385.jpg',\n",
       " 'dog.6508.jpg',\n",
       " 'cat.3319.jpg',\n",
       " 'dog.3363.jpg',\n",
       " 'cat.7139.jpg',\n",
       " 'dog.10908.jpg',\n",
       " 'cat.3017.jpg',\n",
       " 'dog.8188.jpg',\n",
       " 'cat.8348.jpg',\n",
       " 'dog.1293.jpg',\n",
       " 'dog.8651.jpg',\n",
       " 'dog.6882.jpg',\n",
       " 'dog.11206.jpg',\n",
       " 'cat.2471.jpg',\n",
       " 'dog.6591.jpg',\n",
       " 'dog.4881.jpg',\n",
       " 'cat.1788.jpg',\n",
       " 'cat.4460.jpg',\n",
       " 'cat.3012.jpg',\n",
       " 'cat.943.jpg',\n",
       " 'dog.1490.jpg',\n",
       " 'dog.10873.jpg',\n",
       " 'dog.381.jpg',\n",
       " 'cat.3051.jpg',\n",
       " 'dog.6944.jpg',\n",
       " 'cat.6422.jpg',\n",
       " 'dog.4836.jpg',\n",
       " 'cat.7252.jpg',\n",
       " 'dog.3830.jpg',\n",
       " 'dog.5420.jpg',\n",
       " 'cat.3078.jpg',\n",
       " 'dog.8224.jpg',\n",
       " 'dog.12198.jpg',\n",
       " 'cat.2455.jpg',\n",
       " 'dog.7239.jpg',\n",
       " 'cat.6699.jpg',\n",
       " 'cat.5850.jpg',\n",
       " 'cat.11603.jpg',\n",
       " 'cat.9333.jpg',\n",
       " 'cat.12484.jpg',\n",
       " 'dog.7763.jpg',\n",
       " 'dog.139.jpg',\n",
       " 'cat.2070.jpg',\n",
       " 'cat.5860.jpg',\n",
       " 'cat.12493.jpg',\n",
       " 'cat.7907.jpg',\n",
       " 'dog.6040.jpg',\n",
       " 'dog.2220.jpg',\n",
       " 'dog.6898.jpg',\n",
       " 'dog.3001.jpg',\n",
       " 'cat.11120.jpg',\n",
       " 'dog.7819.jpg',\n",
       " 'cat.7353.jpg',\n",
       " 'dog.8205.jpg',\n",
       " 'cat.7564.jpg',\n",
       " 'cat.7645.jpg',\n",
       " 'cat.10917.jpg',\n",
       " 'dog.4405.jpg',\n",
       " 'cat.3240.jpg',\n",
       " 'cat.3565.jpg',\n",
       " 'cat.7839.jpg',\n",
       " 'dog.7527.jpg',\n",
       " 'cat.3684.jpg',\n",
       " 'cat.1945.jpg',\n",
       " 'dog.9575.jpg',\n",
       " 'cat.12317.jpg',\n",
       " 'dog.12188.jpg',\n",
       " 'cat.841.jpg',\n",
       " 'cat.9359.jpg',\n",
       " 'dog.208.jpg',\n",
       " 'dog.8969.jpg',\n",
       " 'cat.2904.jpg',\n",
       " 'cat.2285.jpg',\n",
       " 'dog.867.jpg',\n",
       " 'cat.1939.jpg',\n",
       " 'cat.5445.jpg',\n",
       " 'dog.1006.jpg',\n",
       " 'cat.6578.jpg',\n",
       " 'cat.3367.jpg',\n",
       " 'dog.6932.jpg',\n",
       " 'cat.4453.jpg',\n",
       " 'dog.2504.jpg',\n",
       " 'cat.2198.jpg',\n",
       " 'cat.4027.jpg',\n",
       " 'cat.6738.jpg',\n",
       " 'cat.6408.jpg',\n",
       " 'dog.1807.jpg',\n",
       " 'cat.7042.jpg',\n",
       " 'cat.1808.jpg',\n",
       " 'cat.1133.jpg',\n",
       " 'dog.3303.jpg',\n",
       " 'cat.9536.jpg',\n",
       " 'cat.2099.jpg',\n",
       " 'cat.4545.jpg',\n",
       " 'dog.11697.jpg',\n",
       " 'cat.4495.jpg',\n",
       " 'cat.153.jpg',\n",
       " 'cat.11890.jpg',\n",
       " 'dog.2831.jpg',\n",
       " 'cat.4468.jpg',\n",
       " 'dog.4835.jpg',\n",
       " 'dog.4925.jpg',\n",
       " 'cat.9304.jpg',\n",
       " 'cat.8264.jpg',\n",
       " 'dog.10801.jpg',\n",
       " 'dog.7039.jpg',\n",
       " 'dog.758.jpg',\n",
       " 'dog.4571.jpg',\n",
       " 'dog.23.jpg',\n",
       " 'cat.4208.jpg',\n",
       " 'dog.5261.jpg',\n",
       " 'cat.3404.jpg',\n",
       " 'dog.7485.jpg',\n",
       " 'dog.7416.jpg',\n",
       " 'cat.1124.jpg',\n",
       " 'dog.4824.jpg',\n",
       " 'cat.1820.jpg',\n",
       " 'cat.11980.jpg',\n",
       " 'dog.269.jpg',\n",
       " 'dog.9351.jpg',\n",
       " 'dog.2352.jpg',\n",
       " 'cat.12385.jpg',\n",
       " 'dog.10837.jpg',\n",
       " 'dog.8092.jpg',\n",
       " 'dog.2472.jpg',\n",
       " 'dog.8395.jpg',\n",
       " 'dog.11292.jpg',\n",
       " 'dog.4709.jpg',\n",
       " 'dog.1109.jpg',\n",
       " 'cat.6338.jpg',\n",
       " 'cat.2416.jpg',\n",
       " 'dog.10803.jpg',\n",
       " 'cat.2187.jpg',\n",
       " 'cat.6825.jpg',\n",
       " 'dog.5357.jpg',\n",
       " 'cat.7944.jpg',\n",
       " 'cat.3137.jpg',\n",
       " 'dog.5555.jpg',\n",
       " 'cat.9687.jpg',\n",
       " 'dog.1984.jpg',\n",
       " 'dog.11861.jpg',\n",
       " 'cat.11919.jpg',\n",
       " 'dog.8078.jpg',\n",
       " 'cat.4415.jpg',\n",
       " 'cat.5402.jpg',\n",
       " 'dog.9043.jpg',\n",
       " 'dog.10522.jpg',\n",
       " 'dog.3608.jpg',\n",
       " 'cat.6499.jpg',\n",
       " 'cat.11583.jpg',\n",
       " 'dog.630.jpg',\n",
       " 'dog.3244.jpg',\n",
       " 'cat.666.jpg',\n",
       " 'cat.3543.jpg',\n",
       " ...]"
      ]
     },
     "execution_count": 6,
     "metadata": {},
     "output_type": "execute_result"
    }
   ],
   "source": [
    "## Display the images contain in the TRAIN_DIR \n",
    "os.listdir(TRAIN_DIR)"
   ]
  },
  {
   "cell_type": "code",
   "execution_count": 7,
   "id": "0e7a5edc",
   "metadata": {
    "execution": {
     "iopub.execute_input": "2022-11-01T10:41:52.969991Z",
     "iopub.status.busy": "2022-11-01T10:41:52.969733Z",
     "iopub.status.idle": "2022-11-01T10:41:53.006544Z",
     "shell.execute_reply": "2022-11-01T10:41:53.005726Z"
    },
    "papermill": {
     "duration": 0.050884,
     "end_time": "2022-11-01T10:41:53.008711",
     "exception": false,
     "start_time": "2022-11-01T10:41:52.957827",
     "status": "completed"
    },
    "tags": []
   },
   "outputs": [],
   "source": [
    "## Split class and image in TRAIN data and create a list contain image and class (target)\n",
    "class_name = [i.split('.')[0] for i in os.listdir(TRAIN_DIR)]\n",
    "image_name =  [i for i in os.listdir(TRAIN_DIR)]"
   ]
  },
  {
   "cell_type": "code",
   "execution_count": 8,
   "id": "73a65964",
   "metadata": {
    "execution": {
     "iopub.execute_input": "2022-11-01T10:41:53.031570Z",
     "iopub.status.busy": "2022-11-01T10:41:53.030686Z",
     "iopub.status.idle": "2022-11-01T10:41:53.043890Z",
     "shell.execute_reply": "2022-11-01T10:41:53.042927Z"
    },
    "papermill": {
     "duration": 0.027112,
     "end_time": "2022-11-01T10:41:53.046250",
     "exception": false,
     "start_time": "2022-11-01T10:41:53.019138",
     "status": "completed"
    },
    "tags": []
   },
   "outputs": [],
   "source": [
    "## Create a dataframe for two column class_name and image_name\n",
    "df = pd.DataFrame({'class_name':class_name,'image_name':image_name} )"
   ]
  },
  {
   "cell_type": "code",
   "execution_count": 9,
   "id": "0d3bd1d0",
   "metadata": {
    "execution": {
     "iopub.execute_input": "2022-11-01T10:41:53.068592Z",
     "iopub.status.busy": "2022-11-01T10:41:53.068320Z",
     "iopub.status.idle": "2022-11-01T10:41:53.086928Z",
     "shell.execute_reply": "2022-11-01T10:41:53.086110Z"
    },
    "papermill": {
     "duration": 0.031821,
     "end_time": "2022-11-01T10:41:53.088967",
     "exception": false,
     "start_time": "2022-11-01T10:41:53.057146",
     "status": "completed"
    },
    "tags": []
   },
   "outputs": [
    {
     "data": {
      "text/html": [
       "<div>\n",
       "<style scoped>\n",
       "    .dataframe tbody tr th:only-of-type {\n",
       "        vertical-align: middle;\n",
       "    }\n",
       "\n",
       "    .dataframe tbody tr th {\n",
       "        vertical-align: top;\n",
       "    }\n",
       "\n",
       "    .dataframe thead th {\n",
       "        text-align: right;\n",
       "    }\n",
       "</style>\n",
       "<table border=\"1\" class=\"dataframe\">\n",
       "  <thead>\n",
       "    <tr style=\"text-align: right;\">\n",
       "      <th></th>\n",
       "      <th>class_name</th>\n",
       "      <th>image_name</th>\n",
       "    </tr>\n",
       "  </thead>\n",
       "  <tbody>\n",
       "    <tr>\n",
       "      <th>0</th>\n",
       "      <td>dog</td>\n",
       "      <td>dog.4024.jpg</td>\n",
       "    </tr>\n",
       "    <tr>\n",
       "      <th>1</th>\n",
       "      <td>cat</td>\n",
       "      <td>cat.6929.jpg</td>\n",
       "    </tr>\n",
       "    <tr>\n",
       "      <th>2</th>\n",
       "      <td>cat</td>\n",
       "      <td>cat.3094.jpg</td>\n",
       "    </tr>\n",
       "    <tr>\n",
       "      <th>3</th>\n",
       "      <td>dog</td>\n",
       "      <td>dog.2084.jpg</td>\n",
       "    </tr>\n",
       "    <tr>\n",
       "      <th>4</th>\n",
       "      <td>dog</td>\n",
       "      <td>dog.8649.jpg</td>\n",
       "    </tr>\n",
       "  </tbody>\n",
       "</table>\n",
       "</div>"
      ],
      "text/plain": [
       "  class_name    image_name\n",
       "0        dog  dog.4024.jpg\n",
       "1        cat  cat.6929.jpg\n",
       "2        cat  cat.3094.jpg\n",
       "3        dog  dog.2084.jpg\n",
       "4        dog  dog.8649.jpg"
      ]
     },
     "execution_count": 9,
     "metadata": {},
     "output_type": "execute_result"
    }
   ],
   "source": [
    "df.head()"
   ]
  },
  {
   "cell_type": "markdown",
   "id": "0598fa99",
   "metadata": {
    "papermill": {
     "duration": 0.010741,
     "end_time": "2022-11-01T10:41:53.110517",
     "exception": false,
     "start_time": "2022-11-01T10:41:53.099776",
     "status": "completed"
    },
    "tags": []
   },
   "source": [
    "In this dataframe, class_name is the target take only two distinck value( cat and dog) then it classification problem "
   ]
  },
  {
   "cell_type": "code",
   "execution_count": 10,
   "id": "d49f92e0",
   "metadata": {
    "execution": {
     "iopub.execute_input": "2022-11-01T10:41:53.133545Z",
     "iopub.status.busy": "2022-11-01T10:41:53.132785Z",
     "iopub.status.idle": "2022-11-01T10:41:53.141395Z",
     "shell.execute_reply": "2022-11-01T10:41:53.140458Z"
    },
    "papermill": {
     "duration": 0.02238,
     "end_time": "2022-11-01T10:41:53.143625",
     "exception": false,
     "start_time": "2022-11-01T10:41:53.121245",
     "status": "completed"
    },
    "tags": []
   },
   "outputs": [],
   "source": [
    "df.drop(df.index[-1], inplace=True)"
   ]
  },
  {
   "cell_type": "code",
   "execution_count": 11,
   "id": "b4869f96",
   "metadata": {
    "execution": {
     "iopub.execute_input": "2022-11-01T10:41:53.166381Z",
     "iopub.status.busy": "2022-11-01T10:41:53.166109Z",
     "iopub.status.idle": "2022-11-01T10:41:53.178869Z",
     "shell.execute_reply": "2022-11-01T10:41:53.178033Z"
    },
    "papermill": {
     "duration": 0.026693,
     "end_time": "2022-11-01T10:41:53.180987",
     "exception": false,
     "start_time": "2022-11-01T10:41:53.154294",
     "status": "completed"
    },
    "tags": []
   },
   "outputs": [
    {
     "data": {
      "text/html": [
       "<div>\n",
       "<style scoped>\n",
       "    .dataframe tbody tr th:only-of-type {\n",
       "        vertical-align: middle;\n",
       "    }\n",
       "\n",
       "    .dataframe tbody tr th {\n",
       "        vertical-align: top;\n",
       "    }\n",
       "\n",
       "    .dataframe thead th {\n",
       "        text-align: right;\n",
       "    }\n",
       "</style>\n",
       "<table border=\"1\" class=\"dataframe\">\n",
       "  <thead>\n",
       "    <tr style=\"text-align: right;\">\n",
       "      <th></th>\n",
       "      <th>class_name</th>\n",
       "      <th>image_name</th>\n",
       "    </tr>\n",
       "  </thead>\n",
       "  <tbody>\n",
       "    <tr>\n",
       "      <th>0</th>\n",
       "      <td>dog</td>\n",
       "      <td>dog.4024.jpg</td>\n",
       "    </tr>\n",
       "    <tr>\n",
       "      <th>1</th>\n",
       "      <td>cat</td>\n",
       "      <td>cat.6929.jpg</td>\n",
       "    </tr>\n",
       "    <tr>\n",
       "      <th>2</th>\n",
       "      <td>cat</td>\n",
       "      <td>cat.3094.jpg</td>\n",
       "    </tr>\n",
       "    <tr>\n",
       "      <th>3</th>\n",
       "      <td>dog</td>\n",
       "      <td>dog.2084.jpg</td>\n",
       "    </tr>\n",
       "    <tr>\n",
       "      <th>4</th>\n",
       "      <td>dog</td>\n",
       "      <td>dog.8649.jpg</td>\n",
       "    </tr>\n",
       "    <tr>\n",
       "      <th>...</th>\n",
       "      <td>...</td>\n",
       "      <td>...</td>\n",
       "    </tr>\n",
       "    <tr>\n",
       "      <th>24994</th>\n",
       "      <td>dog</td>\n",
       "      <td>dog.5233.jpg</td>\n",
       "    </tr>\n",
       "    <tr>\n",
       "      <th>24995</th>\n",
       "      <td>cat</td>\n",
       "      <td>cat.4875.jpg</td>\n",
       "    </tr>\n",
       "    <tr>\n",
       "      <th>24996</th>\n",
       "      <td>cat</td>\n",
       "      <td>cat.10317.jpg</td>\n",
       "    </tr>\n",
       "    <tr>\n",
       "      <th>24997</th>\n",
       "      <td>dog</td>\n",
       "      <td>dog.11575.jpg</td>\n",
       "    </tr>\n",
       "    <tr>\n",
       "      <th>24998</th>\n",
       "      <td>dog</td>\n",
       "      <td>dog.11166.jpg</td>\n",
       "    </tr>\n",
       "  </tbody>\n",
       "</table>\n",
       "<p>24999 rows × 2 columns</p>\n",
       "</div>"
      ],
      "text/plain": [
       "      class_name     image_name\n",
       "0            dog   dog.4024.jpg\n",
       "1            cat   cat.6929.jpg\n",
       "2            cat   cat.3094.jpg\n",
       "3            dog   dog.2084.jpg\n",
       "4            dog   dog.8649.jpg\n",
       "...          ...            ...\n",
       "24994        dog   dog.5233.jpg\n",
       "24995        cat   cat.4875.jpg\n",
       "24996        cat  cat.10317.jpg\n",
       "24997        dog  dog.11575.jpg\n",
       "24998        dog  dog.11166.jpg\n",
       "\n",
       "[24999 rows x 2 columns]"
      ]
     },
     "execution_count": 11,
     "metadata": {},
     "output_type": "execute_result"
    }
   ],
   "source": [
    "df"
   ]
  },
  {
   "cell_type": "code",
   "execution_count": 12,
   "id": "68714a38",
   "metadata": {
    "execution": {
     "iopub.execute_input": "2022-11-01T10:41:53.204864Z",
     "iopub.status.busy": "2022-11-01T10:41:53.204588Z",
     "iopub.status.idle": "2022-11-01T10:41:53.209789Z",
     "shell.execute_reply": "2022-11-01T10:41:53.208689Z"
    },
    "papermill": {
     "duration": 0.019638,
     "end_time": "2022-11-01T10:41:53.212350",
     "exception": false,
     "start_time": "2022-11-01T10:41:53.192712",
     "status": "completed"
    },
    "tags": []
   },
   "outputs": [],
   "source": [
    "## Data augmentation \n",
    "## ImageDataGenerator function from Keras_preprocessing \n",
    "train_datagen = ImageDataGenerator(\n",
    "                rotation_range=15, \n",
    "                rescale=1./255,\n",
    "                shear_range=0.1, \n",
    "                zoom_range=0.2,\n",
    "                horizontal_flip=True, \n",
    "                width_shift_range=0.1,\n",
    "                height_shift_range=0.1,\n",
    "                validation_split=0.2)"
   ]
  },
  {
   "cell_type": "code",
   "execution_count": 13,
   "id": "fb5080c0",
   "metadata": {
    "execution": {
     "iopub.execute_input": "2022-11-01T10:41:53.236398Z",
     "iopub.status.busy": "2022-11-01T10:41:53.236027Z",
     "iopub.status.idle": "2022-11-01T10:41:53.627340Z",
     "shell.execute_reply": "2022-11-01T10:41:53.625811Z"
    },
    "papermill": {
     "duration": 0.406065,
     "end_time": "2022-11-01T10:41:53.629700",
     "exception": false,
     "start_time": "2022-11-01T10:41:53.223635",
     "status": "completed"
    },
    "tags": []
   },
   "outputs": [
    {
     "name": "stdout",
     "output_type": "stream",
     "text": [
      "Found 20000 validated image filenames belonging to 2 classes.\n",
      "Found 4999 validated image filenames belonging to 2 classes.\n"
     ]
    }
   ],
   "source": [
    "## Split train_fatagen into 2 train_generator and val_generator \n",
    "\n",
    "# since the datagen is splitted in training and validation,\n",
    "# make sure to set subsets correctly\n",
    "\n",
    "train_datagen = ImageDataGenerator(\n",
    "                rescale=1./255,\n",
    "                validation_split=0.2)\n",
    "\n",
    "\n",
    "train_generator = train_datagen.flow_from_dataframe(\n",
    "                    df,\n",
    "                    TRAIN_DIR, \n",
    "                    x_col = 'image_name',\n",
    "                    y_col = 'class_name',\n",
    "                    target_size =(224,224),\n",
    "                    class_mode = 'binary',\n",
    "                    batch_size=32,\n",
    "                    shuffle=False,\n",
    "                    subset= 'training')\n",
    "# make sure shuffle is set to false, so the predictions are done on the same order\n",
    "# as they appear on the directory. batch_size should be 1 to make the\n",
    "# predictions image by image \n",
    "val_generator = train_datagen.flow_from_dataframe(\n",
    "                    df,\n",
    "                    TRAIN_DIR, \n",
    "                    x_col = 'image_name',\n",
    "                    y_col = 'class_name',\n",
    "                    target_size =(224,224),\n",
    "                    class_mode = 'binary',\n",
    "                    batch_size=32,\n",
    "                    shuffle=False,\n",
    "                    subset= 'validation')"
   ]
  },
  {
   "cell_type": "code",
   "execution_count": 14,
   "id": "8b02026d",
   "metadata": {
    "execution": {
     "iopub.execute_input": "2022-11-01T10:41:53.654737Z",
     "iopub.status.busy": "2022-11-01T10:41:53.653838Z",
     "iopub.status.idle": "2022-11-01T10:41:58.249608Z",
     "shell.execute_reply": "2022-11-01T10:41:58.247583Z"
    },
    "papermill": {
     "duration": 4.612908,
     "end_time": "2022-11-01T10:41:58.254072",
     "exception": false,
     "start_time": "2022-11-01T10:41:53.641164",
     "status": "completed"
    },
    "tags": []
   },
   "outputs": [
    {
     "name": "stderr",
     "output_type": "stream",
     "text": [
      "2022-11-01 10:41:53.815279: I tensorflow/stream_executor/cuda/cuda_gpu_executor.cc:937] successful NUMA node read from SysFS had negative value (-1), but there must be at least one NUMA node, so returning NUMA node zero\n",
      "2022-11-01 10:41:53.816221: I tensorflow/stream_executor/cuda/cuda_gpu_executor.cc:937] successful NUMA node read from SysFS had negative value (-1), but there must be at least one NUMA node, so returning NUMA node zero\n",
      "2022-11-01 10:41:53.984050: I tensorflow/stream_executor/cuda/cuda_gpu_executor.cc:937] successful NUMA node read from SysFS had negative value (-1), but there must be at least one NUMA node, so returning NUMA node zero\n",
      "2022-11-01 10:41:53.984907: I tensorflow/stream_executor/cuda/cuda_gpu_executor.cc:937] successful NUMA node read from SysFS had negative value (-1), but there must be at least one NUMA node, so returning NUMA node zero\n",
      "2022-11-01 10:41:53.985745: I tensorflow/stream_executor/cuda/cuda_gpu_executor.cc:937] successful NUMA node read from SysFS had negative value (-1), but there must be at least one NUMA node, so returning NUMA node zero\n",
      "2022-11-01 10:41:53.986569: I tensorflow/stream_executor/cuda/cuda_gpu_executor.cc:937] successful NUMA node read from SysFS had negative value (-1), but there must be at least one NUMA node, so returning NUMA node zero\n",
      "2022-11-01 10:41:53.988293: I tensorflow/core/platform/cpu_feature_guard.cc:142] This TensorFlow binary is optimized with oneAPI Deep Neural Network Library (oneDNN) to use the following CPU instructions in performance-critical operations:  AVX2 AVX512F FMA\n",
      "To enable them in other operations, rebuild TensorFlow with the appropriate compiler flags.\n",
      "2022-11-01 10:41:54.245959: I tensorflow/stream_executor/cuda/cuda_gpu_executor.cc:937] successful NUMA node read from SysFS had negative value (-1), but there must be at least one NUMA node, so returning NUMA node zero\n",
      "2022-11-01 10:41:54.246841: I tensorflow/stream_executor/cuda/cuda_gpu_executor.cc:937] successful NUMA node read from SysFS had negative value (-1), but there must be at least one NUMA node, so returning NUMA node zero\n",
      "2022-11-01 10:41:54.247637: I tensorflow/stream_executor/cuda/cuda_gpu_executor.cc:937] successful NUMA node read from SysFS had negative value (-1), but there must be at least one NUMA node, so returning NUMA node zero\n",
      "2022-11-01 10:41:54.248370: I tensorflow/stream_executor/cuda/cuda_gpu_executor.cc:937] successful NUMA node read from SysFS had negative value (-1), but there must be at least one NUMA node, so returning NUMA node zero\n",
      "2022-11-01 10:41:54.249035: I tensorflow/stream_executor/cuda/cuda_gpu_executor.cc:937] successful NUMA node read from SysFS had negative value (-1), but there must be at least one NUMA node, so returning NUMA node zero\n",
      "2022-11-01 10:41:54.249758: I tensorflow/stream_executor/cuda/cuda_gpu_executor.cc:937] successful NUMA node read from SysFS had negative value (-1), but there must be at least one NUMA node, so returning NUMA node zero\n",
      "2022-11-01 10:41:57.654076: I tensorflow/stream_executor/cuda/cuda_gpu_executor.cc:937] successful NUMA node read from SysFS had negative value (-1), but there must be at least one NUMA node, so returning NUMA node zero\n",
      "2022-11-01 10:41:57.655034: I tensorflow/stream_executor/cuda/cuda_gpu_executor.cc:937] successful NUMA node read from SysFS had negative value (-1), but there must be at least one NUMA node, so returning NUMA node zero\n",
      "2022-11-01 10:41:57.655886: I tensorflow/stream_executor/cuda/cuda_gpu_executor.cc:937] successful NUMA node read from SysFS had negative value (-1), but there must be at least one NUMA node, so returning NUMA node zero\n",
      "2022-11-01 10:41:57.656633: I tensorflow/stream_executor/cuda/cuda_gpu_executor.cc:937] successful NUMA node read from SysFS had negative value (-1), but there must be at least one NUMA node, so returning NUMA node zero\n",
      "2022-11-01 10:41:57.657534: I tensorflow/stream_executor/cuda/cuda_gpu_executor.cc:937] successful NUMA node read from SysFS had negative value (-1), but there must be at least one NUMA node, so returning NUMA node zero\n",
      "2022-11-01 10:41:57.658244: I tensorflow/core/common_runtime/gpu/gpu_device.cc:1510] Created device /job:localhost/replica:0/task:0/device:GPU:0 with 13789 MB memory:  -> device: 0, name: Tesla T4, pci bus id: 0000:00:04.0, compute capability: 7.5\n",
      "2022-11-01 10:41:57.662364: I tensorflow/stream_executor/cuda/cuda_gpu_executor.cc:937] successful NUMA node read from SysFS had negative value (-1), but there must be at least one NUMA node, so returning NUMA node zero\n",
      "2022-11-01 10:41:57.663125: I tensorflow/core/common_runtime/gpu/gpu_device.cc:1510] Created device /job:localhost/replica:0/task:0/device:GPU:1 with 13789 MB memory:  -> device: 1, name: Tesla T4, pci bus id: 0000:00:05.0, compute capability: 7.5\n"
     ]
    }
   ],
   "source": [
    "# simple Convolutional layer, Dropout and GlobalMaxPooling for the sake of simplicity. You can plug your model right here and test it! Just make sure input_shape from Conv2D is the same that target_size in the generators.\n",
    "## Convolution layer  \n",
    "input = Input(shape=(224,224, 3))\n",
    "\n",
    "x = Conv2D(filters=256,kernel_size=3,padding='same' )(input)\n",
    "x = BatchNormalization()(x)\n",
    "x = Activation('tanh')(x)\n",
    "x = MaxPool2D(pool_size=2)(x)\n",
    "\n",
    "\n",
    "x = Conv2D(filters=128,kernel_size=3,padding='same' )(x)\n",
    "x = BatchNormalization()(x)\n",
    "x = Activation('tanh')(x)\n",
    "x = MaxPool2D(pool_size=2)(x)\n",
    "\n",
    "\n",
    "x = Conv2D(filters=64,kernel_size=3,padding='same' )(x)\n",
    "x = BatchNormalization()(x)\n",
    "x = Activation('tanh')(x)\n",
    "x = MaxPool2D(pool_size=2)(x)\n",
    "\n",
    "\n",
    "x = Flatten()(x)\n",
    "output= Dense(1, activation='sigmoid')(x)\n"
   ]
  },
  {
   "cell_type": "code",
   "execution_count": 15,
   "id": "003c90bb",
   "metadata": {
    "execution": {
     "iopub.execute_input": "2022-11-01T10:41:58.313569Z",
     "iopub.status.busy": "2022-11-01T10:41:58.313082Z",
     "iopub.status.idle": "2022-11-01T10:41:58.329200Z",
     "shell.execute_reply": "2022-11-01T10:41:58.328100Z"
    },
    "papermill": {
     "duration": 0.050616,
     "end_time": "2022-11-01T10:41:58.334168",
     "exception": false,
     "start_time": "2022-11-01T10:41:58.283552",
     "status": "completed"
    },
    "tags": []
   },
   "outputs": [],
   "source": [
    "## Build the model\n",
    "model = Model(input, output)"
   ]
  },
  {
   "cell_type": "code",
   "execution_count": 16,
   "id": "191a9fad",
   "metadata": {
    "execution": {
     "iopub.execute_input": "2022-11-01T10:41:58.392040Z",
     "iopub.status.busy": "2022-11-01T10:41:58.391557Z",
     "iopub.status.idle": "2022-11-01T10:41:58.409402Z",
     "shell.execute_reply": "2022-11-01T10:41:58.405253Z"
    },
    "papermill": {
     "duration": 0.050087,
     "end_time": "2022-11-01T10:41:58.412766",
     "exception": false,
     "start_time": "2022-11-01T10:41:58.362679",
     "status": "completed"
    },
    "tags": []
   },
   "outputs": [
    {
     "name": "stdout",
     "output_type": "stream",
     "text": [
      "Model: \"model\"\n",
      "_________________________________________________________________\n",
      "Layer (type)                 Output Shape              Param #   \n",
      "=================================================================\n",
      "input_1 (InputLayer)         [(None, 224, 224, 3)]     0         \n",
      "_________________________________________________________________\n",
      "conv2d (Conv2D)              (None, 224, 224, 256)     7168      \n",
      "_________________________________________________________________\n",
      "batch_normalization (BatchNo (None, 224, 224, 256)     1024      \n",
      "_________________________________________________________________\n",
      "activation (Activation)      (None, 224, 224, 256)     0         \n",
      "_________________________________________________________________\n",
      "max_pooling2d (MaxPooling2D) (None, 112, 112, 256)     0         \n",
      "_________________________________________________________________\n",
      "conv2d_1 (Conv2D)            (None, 112, 112, 128)     295040    \n",
      "_________________________________________________________________\n",
      "batch_normalization_1 (Batch (None, 112, 112, 128)     512       \n",
      "_________________________________________________________________\n",
      "activation_1 (Activation)    (None, 112, 112, 128)     0         \n",
      "_________________________________________________________________\n",
      "max_pooling2d_1 (MaxPooling2 (None, 56, 56, 128)       0         \n",
      "_________________________________________________________________\n",
      "conv2d_2 (Conv2D)            (None, 56, 56, 64)        73792     \n",
      "_________________________________________________________________\n",
      "batch_normalization_2 (Batch (None, 56, 56, 64)        256       \n",
      "_________________________________________________________________\n",
      "activation_2 (Activation)    (None, 56, 56, 64)        0         \n",
      "_________________________________________________________________\n",
      "max_pooling2d_2 (MaxPooling2 (None, 28, 28, 64)        0         \n",
      "_________________________________________________________________\n",
      "flatten (Flatten)            (None, 50176)             0         \n",
      "_________________________________________________________________\n",
      "dense (Dense)                (None, 1)                 50177     \n",
      "=================================================================\n",
      "Total params: 427,969\n",
      "Trainable params: 427,073\n",
      "Non-trainable params: 896\n",
      "_________________________________________________________________\n"
     ]
    }
   ],
   "source": [
    "model.summary()"
   ]
  },
  {
   "cell_type": "code",
   "execution_count": 17,
   "id": "f3e7d6c1",
   "metadata": {
    "execution": {
     "iopub.execute_input": "2022-11-01T10:41:58.471202Z",
     "iopub.status.busy": "2022-11-01T10:41:58.470110Z",
     "iopub.status.idle": "2022-11-01T10:41:58.496015Z",
     "shell.execute_reply": "2022-11-01T10:41:58.494924Z"
    },
    "papermill": {
     "duration": 0.058864,
     "end_time": "2022-11-01T10:41:58.499222",
     "exception": false,
     "start_time": "2022-11-01T10:41:58.440358",
     "status": "completed"
    },
    "tags": []
   },
   "outputs": [],
   "source": [
    "## Binary classification( cat and dog )\n",
    "model.compile(loss='binary_crossentropy', metrics='accuracy', optimizer='adam')"
   ]
  },
  {
   "cell_type": "code",
   "execution_count": 18,
   "id": "c03757a1",
   "metadata": {
    "execution": {
     "iopub.execute_input": "2022-11-01T10:41:58.559626Z",
     "iopub.status.busy": "2022-11-01T10:41:58.559148Z",
     "iopub.status.idle": "2022-11-01T11:42:04.850163Z",
     "shell.execute_reply": "2022-11-01T11:42:04.849129Z"
    },
    "papermill": {
     "duration": 3606.323864,
     "end_time": "2022-11-01T11:42:04.852130",
     "exception": false,
     "start_time": "2022-11-01T10:41:58.528266",
     "status": "completed"
    },
    "tags": []
   },
   "outputs": [
    {
     "name": "stderr",
     "output_type": "stream",
     "text": [
      "2022-11-01 10:41:59.087200: I tensorflow/compiler/mlir/mlir_graph_optimization_pass.cc:185] None of the MLIR Optimization Passes are enabled (registered 2)\n"
     ]
    },
    {
     "name": "stdout",
     "output_type": "stream",
     "text": [
      "Epoch 1/50\n"
     ]
    },
    {
     "name": "stderr",
     "output_type": "stream",
     "text": [
      "2022-11-01 10:42:01.655568: I tensorflow/stream_executor/cuda/cuda_dnn.cc:369] Loaded cuDNN version 8005\n"
     ]
    },
    {
     "name": "stdout",
     "output_type": "stream",
     "text": [
      "128/128 [==============================] - 72s 459ms/step - loss: 1.3887 - accuracy: 0.5801 - val_loss: 0.9483 - val_accuracy: 0.5641\n",
      "Epoch 2/50\n",
      "128/128 [==============================] - 59s 463ms/step - loss: 1.2974 - accuracy: 0.6021 - val_loss: 0.8249 - val_accuracy: 0.6053\n",
      "Epoch 3/50\n",
      "128/128 [==============================] - 60s 465ms/step - loss: 1.3146 - accuracy: 0.6128 - val_loss: 1.0305 - val_accuracy: 0.6209\n",
      "Epoch 4/50\n",
      "128/128 [==============================] - 60s 469ms/step - loss: 1.2235 - accuracy: 0.6309 - val_loss: 1.3623 - val_accuracy: 0.5995\n",
      "Epoch 5/50\n",
      "128/128 [==============================] - 59s 462ms/step - loss: 1.1267 - accuracy: 0.6375 - val_loss: 4.3334 - val_accuracy: 0.5075\n",
      "Epoch 6/50\n",
      "128/128 [==============================] - 59s 460ms/step - loss: 1.1163 - accuracy: 0.6204 - val_loss: 1.2680 - val_accuracy: 0.6075\n",
      "Epoch 7/50\n",
      "128/128 [==============================] - 60s 471ms/step - loss: 1.0598 - accuracy: 0.6577 - val_loss: 1.5088 - val_accuracy: 0.5853\n",
      "Epoch 8/50\n",
      "128/128 [==============================] - 60s 470ms/step - loss: 1.0404 - accuracy: 0.6428 - val_loss: 1.0321 - val_accuracy: 0.6425\n",
      "Epoch 9/50\n",
      "128/128 [==============================] - 59s 462ms/step - loss: 1.0560 - accuracy: 0.6467 - val_loss: 1.2511 - val_accuracy: 0.5953\n",
      "Epoch 10/50\n",
      "128/128 [==============================] - 60s 470ms/step - loss: 0.9062 - accuracy: 0.6716 - val_loss: 1.2912 - val_accuracy: 0.5727\n",
      "Epoch 11/50\n",
      "128/128 [==============================] - 60s 473ms/step - loss: 0.7887 - accuracy: 0.6863 - val_loss: 0.9078 - val_accuracy: 0.5975\n",
      "Epoch 12/50\n",
      "128/128 [==============================] - 59s 463ms/step - loss: 0.8326 - accuracy: 0.6724 - val_loss: 0.9599 - val_accuracy: 0.6363\n",
      "Epoch 13/50\n",
      "128/128 [==============================] - 59s 460ms/step - loss: 0.7371 - accuracy: 0.6860 - val_loss: 0.7820 - val_accuracy: 0.6575\n",
      "Epoch 14/50\n",
      "128/128 [==============================] - 60s 471ms/step - loss: 0.7116 - accuracy: 0.6892 - val_loss: 0.7866 - val_accuracy: 0.6559\n",
      "Epoch 15/50\n",
      "128/128 [==============================] - 60s 467ms/step - loss: 0.6418 - accuracy: 0.7136 - val_loss: 0.9678 - val_accuracy: 0.6101\n",
      "Epoch 16/50\n",
      "128/128 [==============================] - 60s 471ms/step - loss: 0.6530 - accuracy: 0.7124 - val_loss: 0.7120 - val_accuracy: 0.6781\n",
      "Epoch 17/50\n",
      "128/128 [==============================] - 60s 466ms/step - loss: 0.6156 - accuracy: 0.7141 - val_loss: 0.6805 - val_accuracy: 0.6739\n",
      "Epoch 18/50\n",
      "128/128 [==============================] - 59s 463ms/step - loss: 0.5694 - accuracy: 0.7307 - val_loss: 0.6264 - val_accuracy: 0.7003\n",
      "Epoch 19/50\n",
      "128/128 [==============================] - 59s 461ms/step - loss: 0.5263 - accuracy: 0.7502 - val_loss: 0.6604 - val_accuracy: 0.6875\n",
      "Epoch 20/50\n",
      "128/128 [==============================] - 61s 475ms/step - loss: 0.5849 - accuracy: 0.7310 - val_loss: 0.7671 - val_accuracy: 0.6459\n",
      "Epoch 21/50\n",
      "128/128 [==============================] - 59s 462ms/step - loss: 0.5369 - accuracy: 0.7537 - val_loss: 0.7863 - val_accuracy: 0.6751\n",
      "Epoch 22/50\n",
      "128/128 [==============================] - 59s 465ms/step - loss: 0.5237 - accuracy: 0.7515 - val_loss: 0.6335 - val_accuracy: 0.7127\n",
      "Epoch 23/50\n",
      "128/128 [==============================] - 60s 466ms/step - loss: 0.5260 - accuracy: 0.7468 - val_loss: 0.5990 - val_accuracy: 0.7103\n",
      "Epoch 24/50\n",
      "128/128 [==============================] - 59s 464ms/step - loss: 0.4889 - accuracy: 0.7690 - val_loss: 0.6532 - val_accuracy: 0.7081\n",
      "Epoch 25/50\n",
      "128/128 [==============================] - 59s 464ms/step - loss: 0.4985 - accuracy: 0.7678 - val_loss: 0.6642 - val_accuracy: 0.6947\n",
      "Epoch 26/50\n",
      "128/128 [==============================] - 60s 469ms/step - loss: 0.4914 - accuracy: 0.7729 - val_loss: 0.5947 - val_accuracy: 0.7323\n",
      "Epoch 27/50\n",
      "128/128 [==============================] - 60s 466ms/step - loss: 0.4685 - accuracy: 0.7869 - val_loss: 0.6783 - val_accuracy: 0.6949\n",
      "Epoch 28/50\n",
      "128/128 [==============================] - 60s 466ms/step - loss: 0.4497 - accuracy: 0.7930 - val_loss: 0.5301 - val_accuracy: 0.7510\n",
      "Epoch 29/50\n",
      "128/128 [==============================] - 59s 464ms/step - loss: 0.4597 - accuracy: 0.7900 - val_loss: 0.7201 - val_accuracy: 0.6951\n",
      "Epoch 30/50\n",
      "128/128 [==============================] - 60s 468ms/step - loss: 0.4524 - accuracy: 0.7896 - val_loss: 0.5337 - val_accuracy: 0.7459\n",
      "Epoch 31/50\n",
      "128/128 [==============================] - 60s 467ms/step - loss: 0.4325 - accuracy: 0.7998 - val_loss: 0.6220 - val_accuracy: 0.7153\n",
      "Epoch 32/50\n",
      "128/128 [==============================] - 60s 469ms/step - loss: 0.4066 - accuracy: 0.8164 - val_loss: 0.5032 - val_accuracy: 0.7696\n",
      "Epoch 33/50\n",
      "128/128 [==============================] - 60s 468ms/step - loss: 0.4069 - accuracy: 0.8147 - val_loss: 0.6283 - val_accuracy: 0.7123\n",
      "Epoch 34/50\n",
      "128/128 [==============================] - 61s 473ms/step - loss: 0.4131 - accuracy: 0.8091 - val_loss: 0.6315 - val_accuracy: 0.7193\n",
      "Epoch 35/50\n",
      "128/128 [==============================] - 59s 461ms/step - loss: 0.4017 - accuracy: 0.8171 - val_loss: 0.5235 - val_accuracy: 0.7618\n",
      "Epoch 36/50\n",
      "128/128 [==============================] - 60s 467ms/step - loss: 0.3850 - accuracy: 0.8210 - val_loss: 0.5324 - val_accuracy: 0.7518\n",
      "Epoch 37/50\n",
      "128/128 [==============================] - 60s 467ms/step - loss: 0.3809 - accuracy: 0.8276 - val_loss: 0.5086 - val_accuracy: 0.7702\n",
      "Epoch 38/50\n",
      "128/128 [==============================] - 59s 464ms/step - loss: 0.3747 - accuracy: 0.8376 - val_loss: 0.6095 - val_accuracy: 0.7285\n",
      "Epoch 39/50\n",
      "128/128 [==============================] - 60s 467ms/step - loss: 0.3798 - accuracy: 0.8350 - val_loss: 0.8079 - val_accuracy: 0.6813\n",
      "Epoch 40/50\n",
      "128/128 [==============================] - 60s 469ms/step - loss: 0.3568 - accuracy: 0.8442 - val_loss: 0.4905 - val_accuracy: 0.7770\n",
      "Epoch 41/50\n",
      "128/128 [==============================] - 59s 462ms/step - loss: 0.3595 - accuracy: 0.8413 - val_loss: 0.4913 - val_accuracy: 0.7748\n",
      "Epoch 42/50\n",
      "128/128 [==============================] - 60s 469ms/step - loss: 0.3464 - accuracy: 0.8486 - val_loss: 0.8662 - val_accuracy: 0.6757\n",
      "Epoch 43/50\n",
      "128/128 [==============================] - 59s 463ms/step - loss: 0.3240 - accuracy: 0.8608 - val_loss: 0.5115 - val_accuracy: 0.7792\n",
      "Epoch 44/50\n",
      "128/128 [==============================] - 60s 468ms/step - loss: 0.3509 - accuracy: 0.8479 - val_loss: 0.5553 - val_accuracy: 0.7586\n",
      "Epoch 45/50\n",
      "128/128 [==============================] - 59s 463ms/step - loss: 0.3177 - accuracy: 0.8643 - val_loss: 0.5660 - val_accuracy: 0.7590\n",
      "Epoch 46/50\n",
      "128/128 [==============================] - 60s 471ms/step - loss: 0.3297 - accuracy: 0.8577 - val_loss: 0.5547 - val_accuracy: 0.7518\n",
      "Epoch 47/50\n",
      "128/128 [==============================] - 59s 463ms/step - loss: 0.3260 - accuracy: 0.8677 - val_loss: 0.6587 - val_accuracy: 0.7237\n",
      "Epoch 48/50\n",
      "128/128 [==============================] - 60s 466ms/step - loss: 0.3271 - accuracy: 0.8545 - val_loss: 0.5683 - val_accuracy: 0.7538\n",
      "Epoch 49/50\n",
      "128/128 [==============================] - 60s 471ms/step - loss: 0.3130 - accuracy: 0.8667 - val_loss: 1.1032 - val_accuracy: 0.6411\n",
      "Epoch 50/50\n",
      "128/128 [==============================] - 59s 464ms/step - loss: 0.3119 - accuracy: 0.8687 - val_loss: 0.5637 - val_accuracy: 0.7672\n"
     ]
    },
    {
     "data": {
      "text/plain": [
       "<keras.callbacks.History at 0x7f8b165ec950>"
      ]
     },
     "execution_count": 18,
     "metadata": {},
     "output_type": "execute_result"
    }
   ],
   "source": [
    "model.fit(train_generator  , validation_data=val_generator, steps_per_epoch = 128,  epochs=50)"
   ]
  },
  {
   "cell_type": "code",
   "execution_count": 19,
   "id": "279cba9c",
   "metadata": {
    "execution": {
     "iopub.execute_input": "2022-11-01T11:42:05.536654Z",
     "iopub.status.busy": "2022-11-01T11:42:05.536294Z",
     "iopub.status.idle": "2022-11-01T11:42:05.544471Z",
     "shell.execute_reply": "2022-11-01T11:42:05.543587Z"
    },
    "papermill": {
     "duration": 0.348266,
     "end_time": "2022-11-01T11:42:05.546366",
     "exception": false,
     "start_time": "2022-11-01T11:42:05.198100",
     "status": "completed"
    },
    "tags": []
   },
   "outputs": [
    {
     "data": {
      "text/plain": [
       "{'loss': [1.3886982202529907,\n",
       "  1.2974212169647217,\n",
       "  1.3146030902862549,\n",
       "  1.223483920097351,\n",
       "  1.1267389059066772,\n",
       "  1.1162830591201782,\n",
       "  1.0597648620605469,\n",
       "  1.0404090881347656,\n",
       "  1.055984377861023,\n",
       "  0.9061918258666992,\n",
       "  0.7886865139007568,\n",
       "  0.8326387405395508,\n",
       "  0.7371222376823425,\n",
       "  0.7116299271583557,\n",
       "  0.6417891979217529,\n",
       "  0.6529669165611267,\n",
       "  0.6155757308006287,\n",
       "  0.5694029927253723,\n",
       "  0.5262899994850159,\n",
       "  0.5849093198776245,\n",
       "  0.5369270443916321,\n",
       "  0.5236718058586121,\n",
       "  0.5259658098220825,\n",
       "  0.4889417886734009,\n",
       "  0.49849987030029297,\n",
       "  0.49141794443130493,\n",
       "  0.46847081184387207,\n",
       "  0.4497060179710388,\n",
       "  0.45967283844947815,\n",
       "  0.45243290066719055,\n",
       "  0.4325205683708191,\n",
       "  0.40661999583244324,\n",
       "  0.40694963932037354,\n",
       "  0.4130610227584839,\n",
       "  0.4016514718532562,\n",
       "  0.3849928081035614,\n",
       "  0.38094404339790344,\n",
       "  0.37474149465560913,\n",
       "  0.37976738810539246,\n",
       "  0.3568025231361389,\n",
       "  0.3594646155834198,\n",
       "  0.346394807100296,\n",
       "  0.3240000903606415,\n",
       "  0.35086342692375183,\n",
       "  0.3176657557487488,\n",
       "  0.3297160565853119,\n",
       "  0.32597365975379944,\n",
       "  0.32705795764923096,\n",
       "  0.31301796436309814,\n",
       "  0.31186920404434204],\n",
       " 'accuracy': [0.580078125,\n",
       "  0.60205078125,\n",
       "  0.61279296875,\n",
       "  0.630859375,\n",
       "  0.637451171875,\n",
       "  0.620361328125,\n",
       "  0.65771484375,\n",
       "  0.642822265625,\n",
       "  0.646728515625,\n",
       "  0.671630859375,\n",
       "  0.686279296875,\n",
       "  0.67236328125,\n",
       "  0.68603515625,\n",
       "  0.689208984375,\n",
       "  0.713623046875,\n",
       "  0.71240234375,\n",
       "  0.714111328125,\n",
       "  0.730712890625,\n",
       "  0.750244140625,\n",
       "  0.73095703125,\n",
       "  0.753662109375,\n",
       "  0.75146484375,\n",
       "  0.746826171875,\n",
       "  0.76904296875,\n",
       "  0.767822265625,\n",
       "  0.77294921875,\n",
       "  0.786865234375,\n",
       "  0.79296875,\n",
       "  0.7900390625,\n",
       "  0.78955078125,\n",
       "  0.7998046875,\n",
       "  0.81640625,\n",
       "  0.814697265625,\n",
       "  0.80908203125,\n",
       "  0.817138671875,\n",
       "  0.821044921875,\n",
       "  0.82763671875,\n",
       "  0.837646484375,\n",
       "  0.8349609375,\n",
       "  0.84423828125,\n",
       "  0.84130859375,\n",
       "  0.8486328125,\n",
       "  0.86083984375,\n",
       "  0.847900390625,\n",
       "  0.8642578125,\n",
       "  0.857666015625,\n",
       "  0.86767578125,\n",
       "  0.8544921875,\n",
       "  0.86669921875,\n",
       "  0.86865234375],\n",
       " 'val_loss': [0.9482569098472595,\n",
       "  0.8249179124832153,\n",
       "  1.030504584312439,\n",
       "  1.3623332977294922,\n",
       "  4.333367824554443,\n",
       "  1.2680363655090332,\n",
       "  1.5087758302688599,\n",
       "  1.0321415662765503,\n",
       "  1.2511121034622192,\n",
       "  1.2912135124206543,\n",
       "  0.9078431129455566,\n",
       "  0.9598679542541504,\n",
       "  0.7820424437522888,\n",
       "  0.7866438627243042,\n",
       "  0.9677732586860657,\n",
       "  0.7119969129562378,\n",
       "  0.6805363297462463,\n",
       "  0.6263631582260132,\n",
       "  0.6604235172271729,\n",
       "  0.7670549154281616,\n",
       "  0.7863417863845825,\n",
       "  0.6335192918777466,\n",
       "  0.5990227460861206,\n",
       "  0.653205156326294,\n",
       "  0.6641672849655151,\n",
       "  0.5947093963623047,\n",
       "  0.6782691478729248,\n",
       "  0.5301421880722046,\n",
       "  0.720094621181488,\n",
       "  0.5336669087409973,\n",
       "  0.6220311522483826,\n",
       "  0.5032176971435547,\n",
       "  0.6283177733421326,\n",
       "  0.6315075159072876,\n",
       "  0.523533046245575,\n",
       "  0.5323883295059204,\n",
       "  0.5085560083389282,\n",
       "  0.6095494627952576,\n",
       "  0.8079227209091187,\n",
       "  0.49047476053237915,\n",
       "  0.49134036898612976,\n",
       "  0.8662381172180176,\n",
       "  0.5114793181419373,\n",
       "  0.5553469061851501,\n",
       "  0.5660424828529358,\n",
       "  0.5546533465385437,\n",
       "  0.658696711063385,\n",
       "  0.5683042407035828,\n",
       "  1.103224754333496,\n",
       "  0.563687801361084],\n",
       " 'val_accuracy': [0.5641128420829773,\n",
       "  0.6053210496902466,\n",
       "  0.620924174785614,\n",
       "  0.5995199084281921,\n",
       "  0.507501482963562,\n",
       "  0.6075215339660645,\n",
       "  0.585317075252533,\n",
       "  0.6425285339355469,\n",
       "  0.5953190922737122,\n",
       "  0.5727145671844482,\n",
       "  0.5975195169448853,\n",
       "  0.6363272666931152,\n",
       "  0.6575314998626709,\n",
       "  0.6559311747550964,\n",
       "  0.61012202501297,\n",
       "  0.6781356334686279,\n",
       "  0.6739347577095032,\n",
       "  0.7003400921821594,\n",
       "  0.6875374913215637,\n",
       "  0.6459291577339172,\n",
       "  0.6751350164413452,\n",
       "  0.7127425670623779,\n",
       "  0.7103420495986938,\n",
       "  0.7081416249275208,\n",
       "  0.6947389245033264,\n",
       "  0.7323464751243591,\n",
       "  0.6949390172958374,\n",
       "  0.7509502172470093,\n",
       "  0.6951390504837036,\n",
       "  0.7459492087364197,\n",
       "  0.7153430581092834,\n",
       "  0.7695538997650146,\n",
       "  0.7123424410820007,\n",
       "  0.7193438410758972,\n",
       "  0.7617523670196533,\n",
       "  0.7517503499984741,\n",
       "  0.7701540589332581,\n",
       "  0.7285457253456116,\n",
       "  0.6813362836837769,\n",
       "  0.7769553661346436,\n",
       "  0.7747549414634705,\n",
       "  0.6757351756095886,\n",
       "  0.7791558504104614,\n",
       "  0.7585517168045044,\n",
       "  0.7589517831802368,\n",
       "  0.7517503499984741,\n",
       "  0.7237447500228882,\n",
       "  0.753750741481781,\n",
       "  0.6411282420158386,\n",
       "  0.7671534419059753]}"
      ]
     },
     "execution_count": 19,
     "metadata": {},
     "output_type": "execute_result"
    }
   ],
   "source": [
    "model.history.history"
   ]
  },
  {
   "cell_type": "code",
   "execution_count": 20,
   "id": "6bd5a39c",
   "metadata": {
    "execution": {
     "iopub.execute_input": "2022-11-01T11:42:06.283490Z",
     "iopub.status.busy": "2022-11-01T11:42:06.282435Z",
     "iopub.status.idle": "2022-11-01T11:42:06.289253Z",
     "shell.execute_reply": "2022-11-01T11:42:06.288073Z"
    },
    "papermill": {
     "duration": 0.36374,
     "end_time": "2022-11-01T11:42:06.291340",
     "exception": false,
     "start_time": "2022-11-01T11:42:05.927600",
     "status": "completed"
    },
    "tags": []
   },
   "outputs": [],
   "source": [
    "val_loss['conv_256_128_64'] = model.history.history['val_loss']\n",
    "accuracy['conv_256_128_64'] = model.history.history['accuracy']"
   ]
  },
  {
   "cell_type": "code",
   "execution_count": 21,
   "id": "3f0d30ef",
   "metadata": {
    "execution": {
     "iopub.execute_input": "2022-11-01T11:42:07.001523Z",
     "iopub.status.busy": "2022-11-01T11:42:07.001156Z",
     "iopub.status.idle": "2022-11-01T11:42:07.307292Z",
     "shell.execute_reply": "2022-11-01T11:42:07.306363Z"
    },
    "papermill": {
     "duration": 0.661678,
     "end_time": "2022-11-01T11:42:07.309424",
     "exception": false,
     "start_time": "2022-11-01T11:42:06.647746",
     "status": "completed"
    },
    "tags": []
   },
   "outputs": [
    {
     "data": {
      "text/plain": [
       "<AxesSubplot:>"
      ]
     },
     "execution_count": 21,
     "metadata": {},
     "output_type": "execute_result"
    },
    {
     "data": {
      "image/png": "[encoded data removed]",
      "text/plain": [
       "<Figure size 432x288 with 1 Axes>"
      ]
     },
     "metadata": {
      "needs_background": "light"
     },
     "output_type": "display_data"
    }
   ],
   "source": [
    "pd.DataFrame(model.history.history).plot()"
   ]
  },
  {
   "cell_type": "code",
   "execution_count": 22,
   "id": "75dcf66f",
   "metadata": {
    "execution": {
     "iopub.execute_input": "2022-11-01T11:42:08.034676Z",
     "iopub.status.busy": "2022-11-01T11:42:08.034289Z",
     "iopub.status.idle": "2022-11-01T11:42:08.119681Z",
     "shell.execute_reply": "2022-11-01T11:42:08.118810Z"
    },
    "papermill": {
     "duration": 0.423051,
     "end_time": "2022-11-01T11:42:08.121805",
     "exception": false,
     "start_time": "2022-11-01T11:42:07.698754",
     "status": "completed"
    },
    "tags": []
   },
   "outputs": [
    {
     "data": {
      "text/plain": [
       "<keras.engine.functional.Functional at 0x7f8b16afd410>"
      ]
     },
     "execution_count": 22,
     "metadata": {},
     "output_type": "execute_result"
    }
   ],
   "source": [
    "input = Input(shape=(224,224, 3))\n",
    "\n",
    "x = Conv2D(filters=256,kernel_size=3,padding='same' )(input)\n",
    "x = Conv2D(filters=256,kernel_size=3,padding='same' )(x)\n",
    "x = BatchNormalization()(x)\n",
    "x = Activation('relu')(x)\n",
    "x = MaxPool2D(pool_size=2)(x)\n",
    "\n",
    "\n",
    "x = Conv2D(filters=128,kernel_size=3,padding='same' )(x)\n",
    "x = Conv2D(filters=128,kernel_size=3,padding='same' )(x)\n",
    "x = BatchNormalization()(x)\n",
    "x = Activation('relu')(x)\n",
    "x = MaxPool2D(pool_size=2)(x)\n",
    "\n",
    "\n",
    "x = Conv2D(filters=64,kernel_size=3,padding='same' )(x)\n",
    "x = BatchNormalization()(x)\n",
    "x = Activation('relu')(x)\n",
    "x = MaxPool2D(pool_size=2)(x)\n",
    "\n",
    "\n",
    "x = Flatten()(x)\n",
    "output= Dense(1, activation='sigmoid')(x)\n",
    "model"
   ]
  },
  {
   "cell_type": "code",
   "execution_count": 23,
   "id": "1fa57ad8",
   "metadata": {
    "execution": {
     "iopub.execute_input": "2022-11-01T11:42:08.799451Z",
     "iopub.status.busy": "2022-11-01T11:42:08.799087Z",
     "iopub.status.idle": "2022-11-01T11:42:08.811394Z",
     "shell.execute_reply": "2022-11-01T11:42:08.810452Z"
    },
    "papermill": {
     "duration": 0.350958,
     "end_time": "2022-11-01T11:42:08.813361",
     "exception": false,
     "start_time": "2022-11-01T11:42:08.462403",
     "status": "completed"
    },
    "tags": []
   },
   "outputs": [],
   "source": [
    "model.compile(loss='binary_crossentropy', metrics='accuracy', optimizer='sgd')"
   ]
  },
  {
   "cell_type": "code",
   "execution_count": 24,
   "id": "1725c4d0",
   "metadata": {
    "execution": {
     "iopub.execute_input": "2022-11-01T11:42:09.581606Z",
     "iopub.status.busy": "2022-11-01T11:42:09.580463Z",
     "iopub.status.idle": "2022-11-01T12:40:23.401456Z",
     "shell.execute_reply": "2022-11-01T12:40:23.400505Z"
    },
    "papermill": {
     "duration": 3494.842291,
     "end_time": "2022-11-01T12:40:24.072577",
     "exception": false,
     "start_time": "2022-11-01T11:42:09.230286",
     "status": "completed"
    },
    "tags": []
   },
   "outputs": [
    {
     "name": "stdout",
     "output_type": "stream",
     "text": [
      "Epoch 1/50\n",
      "128/128 [==============================] - 61s 469ms/step - loss: 0.2723 - accuracy: 0.8914 - val_loss: 0.4957 - val_accuracy: 0.7868\n",
      "Epoch 2/50\n",
      "128/128 [==============================] - 59s 463ms/step - loss: 0.2481 - accuracy: 0.8994 - val_loss: 0.4830 - val_accuracy: 0.7946\n",
      "Epoch 3/50\n",
      "128/128 [==============================] - 60s 467ms/step - loss: 0.2487 - accuracy: 0.8997 - val_loss: 0.4851 - val_accuracy: 0.7994\n",
      "Epoch 4/50\n",
      "128/128 [==============================] - 60s 467ms/step - loss: 0.2340 - accuracy: 0.9065 - val_loss: 0.4848 - val_accuracy: 0.7970\n",
      "Epoch 5/50\n",
      "128/128 [==============================] - 60s 469ms/step - loss: 0.2417 - accuracy: 0.9038 - val_loss: 0.4845 - val_accuracy: 0.8010\n",
      "Epoch 6/50\n",
      "128/128 [==============================] - 59s 464ms/step - loss: 0.2131 - accuracy: 0.9172 - val_loss: 0.4957 - val_accuracy: 0.7958\n",
      "Epoch 7/50\n",
      "128/128 [==============================] - 59s 464ms/step - loss: 0.2117 - accuracy: 0.9187 - val_loss: 0.5331 - val_accuracy: 0.7862\n",
      "Epoch 8/50\n",
      "128/128 [==============================] - 60s 469ms/step - loss: 0.2101 - accuracy: 0.9199 - val_loss: 0.4933 - val_accuracy: 0.7992\n",
      "Epoch 9/50\n",
      "128/128 [==============================] - 60s 466ms/step - loss: 0.2050 - accuracy: 0.9221 - val_loss: 0.5035 - val_accuracy: 0.7948\n",
      "Epoch 10/50\n",
      "128/128 [==============================] - 60s 469ms/step - loss: 0.1995 - accuracy: 0.9250 - val_loss: 0.4973 - val_accuracy: 0.7972\n",
      "Epoch 11/50\n",
      "128/128 [==============================] - 60s 465ms/step - loss: 0.2121 - accuracy: 0.9138 - val_loss: 0.5015 - val_accuracy: 0.7962\n",
      "Epoch 12/50\n",
      "128/128 [==============================] - 60s 467ms/step - loss: 0.1895 - accuracy: 0.9292 - val_loss: 0.5115 - val_accuracy: 0.7890\n",
      "Epoch 13/50\n",
      "128/128 [==============================] - 59s 463ms/step - loss: 0.1923 - accuracy: 0.9268 - val_loss: 0.5102 - val_accuracy: 0.7942\n",
      "Epoch 14/50\n",
      "128/128 [==============================] - 60s 466ms/step - loss: 0.1913 - accuracy: 0.9312 - val_loss: 0.5148 - val_accuracy: 0.8016\n",
      "Epoch 15/50\n",
      "128/128 [==============================] - 60s 466ms/step - loss: 0.1924 - accuracy: 0.9292 - val_loss: 0.5113 - val_accuracy: 0.7994\n",
      "Epoch 16/50\n",
      "128/128 [==============================] - 60s 468ms/step - loss: 0.1860 - accuracy: 0.9316 - val_loss: 0.5270 - val_accuracy: 0.7940\n",
      "Epoch 17/50\n",
      "128/128 [==============================] - 59s 461ms/step - loss: 0.1929 - accuracy: 0.9272 - val_loss: 0.5131 - val_accuracy: 0.7990\n",
      "Epoch 18/50\n",
      "128/128 [==============================] - 60s 466ms/step - loss: 0.1902 - accuracy: 0.9312 - val_loss: 0.5156 - val_accuracy: 0.7992\n",
      "Epoch 19/50\n",
      "128/128 [==============================] - 60s 470ms/step - loss: 0.2020 - accuracy: 0.9255 - val_loss: 0.5120 - val_accuracy: 0.7948\n",
      "Epoch 20/50\n",
      "128/128 [==============================] - 59s 460ms/step - loss: 0.1737 - accuracy: 0.9365 - val_loss: 0.5151 - val_accuracy: 0.7966\n",
      "Epoch 21/50\n",
      "128/128 [==============================] - 60s 468ms/step - loss: 0.1859 - accuracy: 0.9307 - val_loss: 0.5454 - val_accuracy: 0.7990\n",
      "Epoch 22/50\n",
      "128/128 [==============================] - 60s 470ms/step - loss: 0.1724 - accuracy: 0.9363 - val_loss: 0.5160 - val_accuracy: 0.7980\n",
      "Epoch 23/50\n",
      "128/128 [==============================] - 60s 465ms/step - loss: 0.1801 - accuracy: 0.9287 - val_loss: 0.5188 - val_accuracy: 0.7978\n",
      "Epoch 24/50\n",
      "128/128 [==============================] - 59s 465ms/step - loss: 0.1808 - accuracy: 0.9309 - val_loss: 0.5231 - val_accuracy: 0.7990\n",
      "Epoch 25/50\n",
      "128/128 [==============================] - 60s 469ms/step - loss: 0.1670 - accuracy: 0.9399 - val_loss: 0.5294 - val_accuracy: 0.7988\n",
      "Epoch 26/50\n",
      "128/128 [==============================] - 59s 461ms/step - loss: 0.1800 - accuracy: 0.9373 - val_loss: 0.5272 - val_accuracy: 0.7974\n",
      "Epoch 27/50\n",
      "128/128 [==============================] - 61s 475ms/step - loss: 0.1582 - accuracy: 0.9443 - val_loss: 0.5374 - val_accuracy: 0.8004\n",
      "Epoch 28/50\n",
      "128/128 [==============================] - 60s 469ms/step - loss: 0.1699 - accuracy: 0.9390 - val_loss: 0.5298 - val_accuracy: 0.8012\n",
      "Epoch 29/50\n",
      "128/128 [==============================] - 60s 466ms/step - loss: 0.1540 - accuracy: 0.9453 - val_loss: 0.5413 - val_accuracy: 0.7940\n",
      "Epoch 30/50\n",
      "128/128 [==============================] - 60s 468ms/step - loss: 0.1541 - accuracy: 0.9543 - val_loss: 0.5338 - val_accuracy: 0.7988\n",
      "Epoch 31/50\n",
      "128/128 [==============================] - 60s 466ms/step - loss: 0.1557 - accuracy: 0.9436 - val_loss: 0.5484 - val_accuracy: 0.8012\n",
      "Epoch 32/50\n",
      "128/128 [==============================] - 59s 459ms/step - loss: 0.1580 - accuracy: 0.9409 - val_loss: 0.5397 - val_accuracy: 0.8022\n",
      "Epoch 33/50\n",
      "128/128 [==============================] - 59s 461ms/step - loss: 0.1586 - accuracy: 0.9434 - val_loss: 0.5310 - val_accuracy: 0.8028\n",
      "Epoch 34/50\n",
      "128/128 [==============================] - 59s 462ms/step - loss: 0.1581 - accuracy: 0.9421 - val_loss: 0.5338 - val_accuracy: 0.8046\n",
      "Epoch 35/50\n",
      "128/128 [==============================] - 61s 480ms/step - loss: 0.1497 - accuracy: 0.9473 - val_loss: 0.5394 - val_accuracy: 0.8032\n",
      "Epoch 36/50\n",
      "128/128 [==============================] - 59s 462ms/step - loss: 0.1623 - accuracy: 0.9380 - val_loss: 0.5453 - val_accuracy: 0.8020\n",
      "Epoch 37/50\n",
      "128/128 [==============================] - 59s 465ms/step - loss: 0.1461 - accuracy: 0.9453 - val_loss: 0.5437 - val_accuracy: 0.8034\n",
      "Epoch 38/50\n",
      "128/128 [==============================] - 60s 466ms/step - loss: 0.1394 - accuracy: 0.9541 - val_loss: 0.5480 - val_accuracy: 0.8002\n",
      "Epoch 39/50\n",
      "128/128 [==============================] - 60s 468ms/step - loss: 0.1520 - accuracy: 0.9482 - val_loss: 0.5481 - val_accuracy: 0.8014\n",
      "Epoch 40/50\n",
      "128/128 [==============================] - 60s 467ms/step - loss: 0.1443 - accuracy: 0.9514 - val_loss: 0.5459 - val_accuracy: 0.8018\n",
      "Epoch 41/50\n",
      "128/128 [==============================] - 60s 468ms/step - loss: 0.1302 - accuracy: 0.9553 - val_loss: 0.5517 - val_accuracy: 0.8044\n",
      "Epoch 42/50\n",
      "128/128 [==============================] - 60s 470ms/step - loss: 0.1446 - accuracy: 0.9526 - val_loss: 0.5481 - val_accuracy: 0.8018\n",
      "Epoch 43/50\n",
      "128/128 [==============================] - 59s 464ms/step - loss: 0.1342 - accuracy: 0.9563 - val_loss: 0.5625 - val_accuracy: 0.7988\n",
      "Epoch 44/50\n",
      "128/128 [==============================] - 60s 467ms/step - loss: 0.1362 - accuracy: 0.9570 - val_loss: 0.5530 - val_accuracy: 0.7962\n",
      "Epoch 45/50\n",
      "128/128 [==============================] - 60s 470ms/step - loss: 0.1438 - accuracy: 0.9495 - val_loss: 0.5649 - val_accuracy: 0.7976\n",
      "Epoch 46/50\n",
      "128/128 [==============================] - 60s 465ms/step - loss: 0.1293 - accuracy: 0.9583 - val_loss: 0.5957 - val_accuracy: 0.7896\n",
      "Epoch 47/50\n",
      "128/128 [==============================] - 60s 470ms/step - loss: 0.1372 - accuracy: 0.9548 - val_loss: 0.5963 - val_accuracy: 0.7920\n",
      "Epoch 48/50\n",
      "128/128 [==============================] - 60s 466ms/step - loss: 0.1356 - accuracy: 0.9558 - val_loss: 0.6032 - val_accuracy: 0.7894\n",
      "Epoch 49/50\n",
      "128/128 [==============================] - 59s 462ms/step - loss: 0.1239 - accuracy: 0.9607 - val_loss: 0.5625 - val_accuracy: 0.7998\n",
      "Epoch 50/50\n",
      "128/128 [==============================] - 59s 460ms/step - loss: 0.1264 - accuracy: 0.9597 - val_loss: 0.5594 - val_accuracy: 0.8010\n"
     ]
    },
    {
     "data": {
      "text/plain": [
       "<keras.callbacks.History at 0x7f8b160b5550>"
      ]
     },
     "execution_count": 24,
     "metadata": {},
     "output_type": "execute_result"
    }
   ],
   "source": [
    "model.fit(train_generator, validation_data=val_generator, steps_per_epoch = 128,  epochs=50)"
   ]
  },
  {
   "cell_type": "code",
   "execution_count": 25,
   "id": "63d41c3d",
   "metadata": {
    "execution": {
     "iopub.execute_input": "2022-11-01T12:40:25.513981Z",
     "iopub.status.busy": "2022-11-01T12:40:25.513583Z",
     "iopub.status.idle": "2022-11-01T12:40:25.519021Z",
     "shell.execute_reply": "2022-11-01T12:40:25.518017Z"
    },
    "papermill": {
     "duration": 0.702938,
     "end_time": "2022-11-01T12:40:25.521274",
     "exception": false,
     "start_time": "2022-11-01T12:40:24.818336",
     "status": "completed"
    },
    "tags": []
   },
   "outputs": [],
   "source": [
    "val_loss['conv_256x2_128x2_64'] = model.history.history['val_loss']\n",
    "accuracy['conv_256x2_128x2_64'] = model.history.history['accuracy']"
   ]
  },
  {
   "cell_type": "code",
   "execution_count": 26,
   "id": "42abfb65",
   "metadata": {
    "execution": {
     "iopub.execute_input": "2022-11-01T12:40:26.949938Z",
     "iopub.status.busy": "2022-11-01T12:40:26.949556Z",
     "iopub.status.idle": "2022-11-01T12:40:27.204320Z",
     "shell.execute_reply": "2022-11-01T12:40:27.203168Z"
    },
    "papermill": {
     "duration": 0.950135,
     "end_time": "2022-11-01T12:40:27.206589",
     "exception": false,
     "start_time": "2022-11-01T12:40:26.256454",
     "status": "completed"
    },
    "tags": []
   },
   "outputs": [
    {
     "data": {
      "text/plain": [
       "<AxesSubplot:>"
      ]
     },
     "execution_count": 26,
     "metadata": {},
     "output_type": "execute_result"
    },
    {
     "data": {
      "image/png": "[encoded data removed]",
      "text/plain": [
       "<Figure size 432x288 with 1 Axes>"
      ]
     },
     "metadata": {
      "needs_background": "light"
     },
     "output_type": "display_data"
    }
   ],
   "source": [
    "pd.DataFrame(model.history.history).plot()"
   ]
  },
  {
   "cell_type": "code",
   "execution_count": 27,
   "id": "58e544e7",
   "metadata": {
    "execution": {
     "iopub.execute_input": "2022-11-01T12:40:28.876012Z",
     "iopub.status.busy": "2022-11-01T12:40:28.875631Z",
     "iopub.status.idle": "2022-11-01T12:40:29.108875Z",
     "shell.execute_reply": "2022-11-01T12:40:29.107944Z"
    },
    "papermill": {
     "duration": 1.095836,
     "end_time": "2022-11-01T12:40:29.111336",
     "exception": false,
     "start_time": "2022-11-01T12:40:28.015500",
     "status": "completed"
    },
    "tags": []
   },
   "outputs": [],
   "source": [
    "input = Input(shape=(224,224, 3))\n",
    "\n",
    "x = Conv2D(filters=128,kernel_size=3, strides=2 )(input)\n",
    "x = Conv2D(filters=128,kernel_size=3, strides=2 )(x)\n",
    "x = BatchNormalization()(x)\n",
    "x = Activation('selu')(x)\n",
    "x = MaxPool2D(pool_size=2)(x)\n",
    "\n",
    "\n",
    "x = Conv2D(filters=64,kernel_size=3, strides=2 )(x)\n",
    "x = Conv2D(filters=64,kernel_size=3, strides=2 )(x)\n",
    "x = BatchNormalization()(x)\n",
    "x = Activation('selu')(x)\n",
    "x = MaxPool2D(pool_size=2)(x)\n",
    "x = Dropout(0.8)(x)\n",
    "\n",
    "\n",
    "\n",
    "x = Flatten()(x)\n",
    "output= Dense(1, activation='sigmoid')(x)\n",
    "model = Model(input, output)"
   ]
  },
  {
   "cell_type": "code",
   "execution_count": 28,
   "id": "d4dc4a27",
   "metadata": {
    "execution": {
     "iopub.execute_input": "2022-11-01T12:40:30.708618Z",
     "iopub.status.busy": "2022-11-01T12:40:30.708198Z",
     "iopub.status.idle": "2022-11-01T13:11:45.187727Z",
     "shell.execute_reply": "2022-11-01T13:11:45.186494Z"
    },
    "papermill": {
     "duration": 1875.3221,
     "end_time": "2022-11-01T13:11:45.190697",
     "exception": false,
     "start_time": "2022-11-01T12:40:29.868597",
     "status": "completed"
    },
    "tags": []
   },
   "outputs": [
    {
     "name": "stdout",
     "output_type": "stream",
     "text": [
      "Epoch 1/50\n",
      "128/128 [==============================] - 33s 251ms/step - loss: 1.2515 - accuracy: 0.5400 - val_loss: 0.6753 - val_accuracy: 0.5777\n",
      "Epoch 2/50\n",
      "128/128 [==============================] - 31s 245ms/step - loss: 0.9773 - accuracy: 0.5535 - val_loss: 0.7919 - val_accuracy: 0.5099\n",
      "Epoch 3/50\n",
      "128/128 [==============================] - 32s 248ms/step - loss: 0.8507 - accuracy: 0.5718 - val_loss: 0.6729 - val_accuracy: 0.5843\n",
      "Epoch 4/50\n",
      "128/128 [==============================] - 31s 240ms/step - loss: 0.7335 - accuracy: 0.6067 - val_loss: 0.6621 - val_accuracy: 0.5867\n",
      "Epoch 5/50\n",
      "128/128 [==============================] - 31s 241ms/step - loss: 0.6700 - accuracy: 0.6299 - val_loss: 0.6874 - val_accuracy: 0.5917\n",
      "Epoch 6/50\n",
      "128/128 [==============================] - 30s 239ms/step - loss: 0.6556 - accuracy: 0.6311 - val_loss: 0.9075 - val_accuracy: 0.5213\n",
      "Epoch 7/50\n",
      "128/128 [==============================] - 32s 246ms/step - loss: 0.6372 - accuracy: 0.6345 - val_loss: 0.6018 - val_accuracy: 0.6807\n",
      "Epoch 8/50\n",
      "128/128 [==============================] - 31s 241ms/step - loss: 0.6334 - accuracy: 0.6458 - val_loss: 0.6097 - val_accuracy: 0.6733\n",
      "Epoch 9/50\n",
      "128/128 [==============================] - 32s 248ms/step - loss: 0.6361 - accuracy: 0.6460 - val_loss: 0.5835 - val_accuracy: 0.7005\n",
      "Epoch 10/50\n",
      "128/128 [==============================] - 32s 249ms/step - loss: 0.6060 - accuracy: 0.6689 - val_loss: 0.6054 - val_accuracy: 0.6797\n",
      "Epoch 11/50\n",
      "128/128 [==============================] - 31s 242ms/step - loss: 0.6174 - accuracy: 0.6658 - val_loss: 0.5921 - val_accuracy: 0.6911\n",
      "Epoch 12/50\n",
      "128/128 [==============================] - 31s 246ms/step - loss: 0.5979 - accuracy: 0.6880 - val_loss: 0.6941 - val_accuracy: 0.6075\n",
      "Epoch 13/50\n",
      "128/128 [==============================] - 31s 242ms/step - loss: 0.6033 - accuracy: 0.6809 - val_loss: 0.5924 - val_accuracy: 0.6763\n",
      "Epoch 14/50\n",
      "128/128 [==============================] - 31s 245ms/step - loss: 0.5952 - accuracy: 0.6860 - val_loss: 0.5886 - val_accuracy: 0.6941\n",
      "Epoch 15/50\n",
      "128/128 [==============================] - 31s 244ms/step - loss: 0.5719 - accuracy: 0.7048 - val_loss: 0.5823 - val_accuracy: 0.6945\n",
      "Epoch 16/50\n",
      "128/128 [==============================] - 31s 246ms/step - loss: 0.5903 - accuracy: 0.6877 - val_loss: 0.5466 - val_accuracy: 0.7255\n",
      "Epoch 17/50\n",
      "128/128 [==============================] - 32s 250ms/step - loss: 0.5745 - accuracy: 0.7058 - val_loss: 0.5435 - val_accuracy: 0.7253\n",
      "Epoch 18/50\n",
      "128/128 [==============================] - 31s 245ms/step - loss: 0.5636 - accuracy: 0.7166 - val_loss: 0.5368 - val_accuracy: 0.7243\n",
      "Epoch 19/50\n",
      "128/128 [==============================] - 31s 241ms/step - loss: 0.5679 - accuracy: 0.7190 - val_loss: 0.5358 - val_accuracy: 0.7399\n",
      "Epoch 20/50\n",
      "128/128 [==============================] - 32s 248ms/step - loss: 0.5463 - accuracy: 0.7200 - val_loss: 0.5305 - val_accuracy: 0.7245\n",
      "Epoch 21/50\n",
      "128/128 [==============================] - 31s 244ms/step - loss: 0.5451 - accuracy: 0.7222 - val_loss: 0.5755 - val_accuracy: 0.7055\n",
      "Epoch 22/50\n",
      "128/128 [==============================] - 32s 251ms/step - loss: 0.5565 - accuracy: 0.7095 - val_loss: 0.5208 - val_accuracy: 0.7447\n",
      "Epoch 23/50\n",
      "128/128 [==============================] - 32s 246ms/step - loss: 0.5396 - accuracy: 0.7312 - val_loss: 0.5627 - val_accuracy: 0.7265\n",
      "Epoch 24/50\n",
      "128/128 [==============================] - 32s 251ms/step - loss: 0.5494 - accuracy: 0.7278 - val_loss: 0.6093 - val_accuracy: 0.6733\n",
      "Epoch 25/50\n",
      "128/128 [==============================] - 32s 249ms/step - loss: 0.5308 - accuracy: 0.7354 - val_loss: 0.5120 - val_accuracy: 0.7457\n",
      "Epoch 26/50\n",
      "128/128 [==============================] - 31s 244ms/step - loss: 0.5349 - accuracy: 0.7322 - val_loss: 0.5942 - val_accuracy: 0.6853\n",
      "Epoch 27/50\n",
      "128/128 [==============================] - 31s 245ms/step - loss: 0.5340 - accuracy: 0.7319 - val_loss: 0.5009 - val_accuracy: 0.7578\n",
      "Epoch 28/50\n",
      "128/128 [==============================] - 32s 248ms/step - loss: 0.5283 - accuracy: 0.7378 - val_loss: 0.5161 - val_accuracy: 0.7568\n",
      "Epoch 29/50\n",
      "128/128 [==============================] - 32s 248ms/step - loss: 0.5235 - accuracy: 0.7363 - val_loss: 0.5448 - val_accuracy: 0.7343\n",
      "Epoch 30/50\n",
      "128/128 [==============================] - 32s 250ms/step - loss: 0.5199 - accuracy: 0.7412 - val_loss: 0.4991 - val_accuracy: 0.7556\n",
      "Epoch 31/50\n",
      "128/128 [==============================] - 31s 240ms/step - loss: 0.5117 - accuracy: 0.7537 - val_loss: 0.5040 - val_accuracy: 0.7459\n",
      "Epoch 32/50\n",
      "128/128 [==============================] - 31s 244ms/step - loss: 0.5013 - accuracy: 0.7615 - val_loss: 0.4847 - val_accuracy: 0.7658\n",
      "Epoch 33/50\n",
      "128/128 [==============================] - 32s 247ms/step - loss: 0.4967 - accuracy: 0.7622 - val_loss: 0.5144 - val_accuracy: 0.7634\n",
      "Epoch 34/50\n",
      "128/128 [==============================] - 31s 245ms/step - loss: 0.5131 - accuracy: 0.7561 - val_loss: 0.4816 - val_accuracy: 0.7708\n",
      "Epoch 35/50\n",
      "128/128 [==============================] - 32s 249ms/step - loss: 0.4939 - accuracy: 0.7588 - val_loss: 0.4636 - val_accuracy: 0.7884\n",
      "Epoch 36/50\n",
      "128/128 [==============================] - 31s 246ms/step - loss: 0.4851 - accuracy: 0.7747 - val_loss: 0.5799 - val_accuracy: 0.7185\n",
      "Epoch 37/50\n",
      "128/128 [==============================] - 32s 251ms/step - loss: 0.4874 - accuracy: 0.7671 - val_loss: 0.6814 - val_accuracy: 0.6537\n",
      "Epoch 38/50\n",
      "128/128 [==============================] - 31s 244ms/step - loss: 0.5062 - accuracy: 0.7595 - val_loss: 0.4888 - val_accuracy: 0.7640\n",
      "Epoch 39/50\n",
      "128/128 [==============================] - 31s 240ms/step - loss: 0.4814 - accuracy: 0.7708 - val_loss: 0.4568 - val_accuracy: 0.7922\n",
      "Epoch 40/50\n",
      "128/128 [==============================] - 32s 248ms/step - loss: 0.4933 - accuracy: 0.7642 - val_loss: 0.4901 - val_accuracy: 0.7622\n",
      "Epoch 41/50\n",
      "128/128 [==============================] - 32s 247ms/step - loss: 0.4840 - accuracy: 0.7688 - val_loss: 0.4762 - val_accuracy: 0.7692\n",
      "Epoch 42/50\n",
      "128/128 [==============================] - 32s 252ms/step - loss: 0.4664 - accuracy: 0.7751 - val_loss: 0.4564 - val_accuracy: 0.7962\n",
      "Epoch 43/50\n",
      "128/128 [==============================] - 31s 239ms/step - loss: 0.4739 - accuracy: 0.7717 - val_loss: 0.4582 - val_accuracy: 0.7938\n",
      "Epoch 44/50\n",
      "128/128 [==============================] - 33s 254ms/step - loss: 0.4684 - accuracy: 0.7834 - val_loss: 0.5230 - val_accuracy: 0.7542\n",
      "Epoch 45/50\n",
      "128/128 [==============================] - 34s 265ms/step - loss: 0.4780 - accuracy: 0.7703 - val_loss: 0.4652 - val_accuracy: 0.7930\n",
      "Epoch 46/50\n",
      "128/128 [==============================] - 35s 272ms/step - loss: 0.4750 - accuracy: 0.7756 - val_loss: 0.4661 - val_accuracy: 0.7882\n",
      "Epoch 47/50\n",
      "128/128 [==============================] - 33s 261ms/step - loss: 0.4726 - accuracy: 0.7725 - val_loss: 0.4709 - val_accuracy: 0.7766\n",
      "Epoch 48/50\n",
      "128/128 [==============================] - 33s 258ms/step - loss: 0.4713 - accuracy: 0.7812 - val_loss: 0.4967 - val_accuracy: 0.7746\n",
      "Epoch 49/50\n",
      "128/128 [==============================] - 33s 258ms/step - loss: 0.4662 - accuracy: 0.7808 - val_loss: 0.5805 - val_accuracy: 0.7029\n",
      "Epoch 50/50\n",
      "128/128 [==============================] - 33s 259ms/step - loss: 0.4548 - accuracy: 0.7859 - val_loss: 0.4877 - val_accuracy: 0.7650\n"
     ]
    },
    {
     "data": {
      "text/plain": [
       "<keras.callbacks.History at 0x7f8b086b6f10>"
      ]
     },
     "execution_count": 28,
     "metadata": {},
     "output_type": "execute_result"
    }
   ],
   "source": [
    "model.compile(loss='binary_crossentropy', metrics='accuracy', optimizer='adam')\n",
    "model.fit(train_generator, validation_data=val_generator, steps_per_epoch = 128,  epochs=50)"
   ]
  },
  {
   "cell_type": "code",
   "execution_count": 29,
   "id": "45f05359",
   "metadata": {
    "execution": {
     "iopub.execute_input": "2022-11-01T13:11:47.407162Z",
     "iopub.status.busy": "2022-11-01T13:11:47.406778Z",
     "iopub.status.idle": "2022-11-01T13:11:47.411883Z",
     "shell.execute_reply": "2022-11-01T13:11:47.410908Z"
    },
    "papermill": {
     "duration": 1.087449,
     "end_time": "2022-11-01T13:11:47.414020",
     "exception": false,
     "start_time": "2022-11-01T13:11:46.326571",
     "status": "completed"
    },
    "tags": []
   },
   "outputs": [],
   "source": [
    "val_loss['conv_128x2_64x2'] = model.history.history['val_loss']\n",
    "accuracy['conv_128x2_64x2'] = model.history.history['accuracy']"
   ]
  },
  {
   "cell_type": "code",
   "execution_count": 30,
   "id": "481e1fe6",
   "metadata": {
    "execution": {
     "iopub.execute_input": "2022-11-01T13:11:50.345558Z",
     "iopub.status.busy": "2022-11-01T13:11:50.345053Z",
     "iopub.status.idle": "2022-11-01T13:11:50.690231Z",
     "shell.execute_reply": "2022-11-01T13:11:50.689171Z"
    },
    "papermill": {
     "duration": 2.1697,
     "end_time": "2022-11-01T13:11:50.693384",
     "exception": false,
     "start_time": "2022-11-01T13:11:48.523684",
     "status": "completed"
    },
    "tags": []
   },
   "outputs": [
    {
     "data": {
      "text/plain": [
       "<AxesSubplot:>"
      ]
     },
     "execution_count": 30,
     "metadata": {},
     "output_type": "execute_result"
    },
    {
     "data": {
      "image/png": "[encoded data removed]",
      "text/plain": [
       "<Figure size 432x288 with 1 Axes>"
      ]
     },
     "metadata": {
      "needs_background": "light"
     },
     "output_type": "display_data"
    }
   ],
   "source": [
    "pd.DataFrame(model.history.history).plot()"
   ]
  },
  {
   "cell_type": "code",
   "execution_count": 31,
   "id": "2f54f7e5",
   "metadata": {
    "execution": {
     "iopub.execute_input": "2022-11-01T13:11:53.079166Z",
     "iopub.status.busy": "2022-11-01T13:11:53.078750Z",
     "iopub.status.idle": "2022-11-01T13:45:30.736048Z",
     "shell.execute_reply": "2022-11-01T13:45:30.735088Z"
    },
    "papermill": {
     "duration": 2020.32636,
     "end_time": "2022-11-01T13:45:32.204773",
     "exception": false,
     "start_time": "2022-11-01T13:11:51.878413",
     "status": "completed"
    },
    "tags": []
   },
   "outputs": [
    {
     "name": "stdout",
     "output_type": "stream",
     "text": [
      "Epoch 1/50\n",
      "128/128 [==============================] - 32s 244ms/step - loss: 1.3990 - accuracy: 0.5010 - val_loss: 0.7133 - val_accuracy: 0.5161\n",
      "Epoch 2/50\n",
      "128/128 [==============================] - 30s 236ms/step - loss: 1.0167 - accuracy: 0.5203 - val_loss: 0.6698 - val_accuracy: 0.5935\n",
      "Epoch 3/50\n",
      "128/128 [==============================] - 30s 239ms/step - loss: 0.8549 - accuracy: 0.5266 - val_loss: 0.6636 - val_accuracy: 0.5993\n",
      "Epoch 4/50\n",
      "128/128 [==============================] - 30s 239ms/step - loss: 0.7431 - accuracy: 0.5696 - val_loss: 0.7206 - val_accuracy: 0.5113\n",
      "Epoch 5/50\n",
      "128/128 [==============================] - 30s 237ms/step - loss: 0.7081 - accuracy: 0.5757 - val_loss: 0.6636 - val_accuracy: 0.5803\n",
      "Epoch 6/50\n",
      "128/128 [==============================] - 30s 238ms/step - loss: 0.6837 - accuracy: 0.5872 - val_loss: 0.7199 - val_accuracy: 0.5041\n",
      "Epoch 7/50\n",
      "128/128 [==============================] - 31s 242ms/step - loss: 0.6737 - accuracy: 0.5908 - val_loss: 0.6459 - val_accuracy: 0.6291\n",
      "Epoch 8/50\n",
      "128/128 [==============================] - 32s 250ms/step - loss: 0.6525 - accuracy: 0.6160 - val_loss: 0.6502 - val_accuracy: 0.6109\n",
      "Epoch 9/50\n",
      "128/128 [==============================] - 31s 242ms/step - loss: 0.6506 - accuracy: 0.6226 - val_loss: 0.6413 - val_accuracy: 0.6139\n",
      "Epoch 10/50\n",
      "128/128 [==============================] - 31s 244ms/step - loss: 0.6542 - accuracy: 0.6116 - val_loss: 0.6314 - val_accuracy: 0.6267\n",
      "Epoch 11/50\n",
      "128/128 [==============================] - 31s 244ms/step - loss: 0.6468 - accuracy: 0.6221 - val_loss: 0.6358 - val_accuracy: 0.6283\n",
      "Epoch 12/50\n",
      "128/128 [==============================] - 31s 243ms/step - loss: 0.6475 - accuracy: 0.6155 - val_loss: 0.7639 - val_accuracy: 0.5169\n",
      "Epoch 13/50\n",
      "128/128 [==============================] - 32s 251ms/step - loss: 0.6493 - accuracy: 0.6194 - val_loss: 0.7164 - val_accuracy: 0.5449\n",
      "Epoch 14/50\n",
      "128/128 [==============================] - 31s 243ms/step - loss: 0.6371 - accuracy: 0.6257 - val_loss: 0.7503 - val_accuracy: 0.5257\n",
      "Epoch 15/50\n",
      "128/128 [==============================] - 31s 240ms/step - loss: 0.6361 - accuracy: 0.6355 - val_loss: 0.6524 - val_accuracy: 0.5985\n",
      "Epoch 16/50\n",
      "128/128 [==============================] - 31s 246ms/step - loss: 0.6358 - accuracy: 0.6365 - val_loss: 0.6144 - val_accuracy: 0.6525\n",
      "Epoch 17/50\n",
      "128/128 [==============================] - 32s 251ms/step - loss: 0.6433 - accuracy: 0.6230 - val_loss: 0.6288 - val_accuracy: 0.6411\n",
      "Epoch 18/50\n",
      "128/128 [==============================] - 31s 243ms/step - loss: 0.6319 - accuracy: 0.6458 - val_loss: 0.6154 - val_accuracy: 0.6625\n",
      "Epoch 19/50\n",
      "128/128 [==============================] - 31s 244ms/step - loss: 0.6237 - accuracy: 0.6479 - val_loss: 0.6528 - val_accuracy: 0.6147\n",
      "Epoch 20/50\n",
      "128/128 [==============================] - 32s 247ms/step - loss: 0.6179 - accuracy: 0.6594 - val_loss: 0.6110 - val_accuracy: 0.6653\n",
      "Epoch 21/50\n",
      "128/128 [==============================] - 32s 251ms/step - loss: 0.6153 - accuracy: 0.6582 - val_loss: 0.6008 - val_accuracy: 0.6741\n",
      "Epoch 22/50\n",
      "128/128 [==============================] - 31s 246ms/step - loss: 0.6214 - accuracy: 0.6560 - val_loss: 0.5922 - val_accuracy: 0.6899\n",
      "Epoch 23/50\n",
      "128/128 [==============================] - 31s 243ms/step - loss: 0.6199 - accuracy: 0.6558 - val_loss: 0.6058 - val_accuracy: 0.6755\n",
      "Epoch 24/50\n",
      "128/128 [==============================] - 31s 243ms/step - loss: 0.6169 - accuracy: 0.6606 - val_loss: 0.6016 - val_accuracy: 0.6615\n",
      "Epoch 25/50\n",
      "128/128 [==============================] - 32s 251ms/step - loss: 0.6146 - accuracy: 0.6582 - val_loss: 0.6339 - val_accuracy: 0.6289\n",
      "Epoch 26/50\n",
      "128/128 [==============================] - 31s 241ms/step - loss: 0.6124 - accuracy: 0.6648 - val_loss: 0.6051 - val_accuracy: 0.6719\n",
      "Epoch 27/50\n",
      "128/128 [==============================] - 31s 245ms/step - loss: 0.6114 - accuracy: 0.6602 - val_loss: 0.6100 - val_accuracy: 0.6635\n",
      "Epoch 28/50\n",
      "128/128 [==============================] - 31s 246ms/step - loss: 0.6177 - accuracy: 0.6589 - val_loss: 0.5867 - val_accuracy: 0.6943\n",
      "Epoch 29/50\n",
      "128/128 [==============================] - 31s 245ms/step - loss: 0.6022 - accuracy: 0.6670 - val_loss: 0.5865 - val_accuracy: 0.6953\n",
      "Epoch 30/50\n",
      "128/128 [==============================] - 31s 242ms/step - loss: 0.6188 - accuracy: 0.6536 - val_loss: 0.5968 - val_accuracy: 0.6675\n",
      "Epoch 31/50\n",
      "128/128 [==============================] - 31s 246ms/step - loss: 0.6098 - accuracy: 0.6697 - val_loss: 0.5842 - val_accuracy: 0.6915\n",
      "Epoch 32/50\n",
      "128/128 [==============================] - 31s 244ms/step - loss: 0.6007 - accuracy: 0.6729 - val_loss: 0.6061 - val_accuracy: 0.6713\n",
      "Epoch 33/50\n",
      "128/128 [==============================] - 32s 251ms/step - loss: 0.5974 - accuracy: 0.6731 - val_loss: 0.5787 - val_accuracy: 0.7049\n",
      "Epoch 34/50\n",
      "128/128 [==============================] - 32s 250ms/step - loss: 0.6031 - accuracy: 0.6782 - val_loss: 0.5723 - val_accuracy: 0.7057\n",
      "Epoch 35/50\n",
      "128/128 [==============================] - 31s 241ms/step - loss: 0.5987 - accuracy: 0.6819 - val_loss: 0.5691 - val_accuracy: 0.7053\n",
      "Epoch 36/50\n",
      "128/128 [==============================] - 31s 243ms/step - loss: 0.5946 - accuracy: 0.6858 - val_loss: 0.5616 - val_accuracy: 0.7217\n",
      "Epoch 37/50\n",
      "128/128 [==============================] - 31s 243ms/step - loss: 0.5919 - accuracy: 0.6885 - val_loss: 0.5666 - val_accuracy: 0.7221\n",
      "Epoch 38/50\n",
      "128/128 [==============================] - 32s 248ms/step - loss: 0.5930 - accuracy: 0.6829 - val_loss: 0.5717 - val_accuracy: 0.7057\n",
      "Epoch 39/50\n",
      "128/128 [==============================] - 31s 240ms/step - loss: 0.5937 - accuracy: 0.6873 - val_loss: 0.5776 - val_accuracy: 0.6985\n",
      "Epoch 40/50\n",
      "128/128 [==============================] - 30s 238ms/step - loss: 0.5768 - accuracy: 0.7002 - val_loss: 0.5687 - val_accuracy: 0.7093\n",
      "Epoch 41/50\n",
      "128/128 [==============================] - 32s 247ms/step - loss: 0.5957 - accuracy: 0.6785 - val_loss: 0.5620 - val_accuracy: 0.7213\n",
      "Epoch 42/50\n",
      "128/128 [==============================] - 32s 247ms/step - loss: 0.5825 - accuracy: 0.6843 - val_loss: 0.5664 - val_accuracy: 0.7167\n",
      "Epoch 43/50\n",
      "128/128 [==============================] - 31s 242ms/step - loss: 0.5863 - accuracy: 0.6892 - val_loss: 0.5615 - val_accuracy: 0.7165\n",
      "Epoch 44/50\n",
      "128/128 [==============================] - 31s 246ms/step - loss: 0.5854 - accuracy: 0.6877 - val_loss: 0.5603 - val_accuracy: 0.7111\n",
      "Epoch 45/50\n",
      "128/128 [==============================] - 31s 241ms/step - loss: 0.5843 - accuracy: 0.6899 - val_loss: 0.5478 - val_accuracy: 0.7339\n",
      "Epoch 46/50\n",
      "128/128 [==============================] - 31s 244ms/step - loss: 0.5795 - accuracy: 0.6965 - val_loss: 0.5536 - val_accuracy: 0.7161\n",
      "Epoch 47/50\n",
      "128/128 [==============================] - 31s 242ms/step - loss: 0.5668 - accuracy: 0.7026 - val_loss: 0.5595 - val_accuracy: 0.7039\n",
      "Epoch 48/50\n",
      "128/128 [==============================] - 31s 243ms/step - loss: 0.5726 - accuracy: 0.6929 - val_loss: 0.5417 - val_accuracy: 0.7379\n",
      "Epoch 49/50\n",
      "128/128 [==============================] - 33s 256ms/step - loss: 0.5798 - accuracy: 0.6973 - val_loss: 0.5440 - val_accuracy: 0.7407\n",
      "Epoch 50/50\n",
      "128/128 [==============================] - 32s 247ms/step - loss: 0.5773 - accuracy: 0.7002 - val_loss: 0.5609 - val_accuracy: 0.7163\n"
     ]
    },
    {
     "data": {
      "text/plain": [
       "<keras.callbacks.History at 0x7f8b08303c90>"
      ]
     },
     "execution_count": 31,
     "metadata": {},
     "output_type": "execute_result"
    }
   ],
   "source": [
    "input = Input(shape=(224,224, 3))\n",
    "\n",
    "\n",
    "x = Conv2D(filters=64,kernel_size=3, strides=2 )(input)\n",
    "x = Conv2D(filters=64,kernel_size=3, strides=2 )(x)\n",
    "x = BatchNormalization()(x)\n",
    "x = Activation('selu')(x)\n",
    "x = MaxPool2D(pool_size=2)(x)\n",
    "x = Dropout(0.8)(x)\n",
    "\n",
    "x = Conv2D(filters=32,kernel_size=3, strides=2 )(x)\n",
    "x = Conv2D(filters=32,kernel_size=3, strides=2 )(x)\n",
    "x = BatchNormalization()(x)\n",
    "x = Activation('selu')(x)\n",
    "x = MaxPool2D(pool_size=2)(x)\n",
    "x = Dropout(0.8)(x)\n",
    "\n",
    "\n",
    "\n",
    "x = Flatten()(x)\n",
    "output= Dense(1, activation='sigmoid')(x)\n",
    "model = Model(input, output)\n",
    "\n",
    "\n",
    "model.compile(loss='binary_crossentropy', metrics='accuracy', optimizer='adam')\n",
    "model.fit(train_generator, validation_data=val_generator, steps_per_epoch = 128,  epochs=50)"
   ]
  },
  {
   "cell_type": "code",
   "execution_count": 32,
   "id": "80f574fb",
   "metadata": {
    "execution": {
     "iopub.execute_input": "2022-11-01T13:45:35.025796Z",
     "iopub.status.busy": "2022-11-01T13:45:35.025432Z",
     "iopub.status.idle": "2022-11-01T13:45:35.030330Z",
     "shell.execute_reply": "2022-11-01T13:45:35.029311Z"
    },
    "papermill": {
     "duration": 1.450919,
     "end_time": "2022-11-01T13:45:35.032552",
     "exception": false,
     "start_time": "2022-11-01T13:45:33.581633",
     "status": "completed"
    },
    "tags": []
   },
   "outputs": [],
   "source": [
    "val_loss['conv_128x2_64x2_32x2'] = model.history.history['val_loss']\n",
    "accuracy['conv_128x2_64x2_32x2'] = model.history.history['accuracy']"
   ]
  },
  {
   "cell_type": "code",
   "execution_count": 33,
   "id": "65b28a63",
   "metadata": {
    "execution": {
     "iopub.execute_input": "2022-11-01T13:45:37.908449Z",
     "iopub.status.busy": "2022-11-01T13:45:37.908050Z",
     "iopub.status.idle": "2022-11-01T13:45:38.140512Z",
     "shell.execute_reply": "2022-11-01T13:45:38.139565Z"
    },
    "papermill": {
     "duration": 1.685929,
     "end_time": "2022-11-01T13:45:38.142452",
     "exception": false,
     "start_time": "2022-11-01T13:45:36.456523",
     "status": "completed"
    },
    "tags": []
   },
   "outputs": [
    {
     "data": {
      "text/plain": [
       "<AxesSubplot:>"
      ]
     },
     "execution_count": 33,
     "metadata": {},
     "output_type": "execute_result"
    },
    {
     "data": {
      "image/png": "[encoded data removed]",
      "text/plain": [
       "<Figure size 432x288 with 1 Axes>"
      ]
     },
     "metadata": {
      "needs_background": "light"
     },
     "output_type": "display_data"
    }
   ],
   "source": [
    "pd.DataFrame(model.history.history).plot()"
   ]
  },
  {
   "cell_type": "code",
   "execution_count": 34,
   "id": "bf604cf7",
   "metadata": {
    "execution": {
     "iopub.execute_input": "2022-11-01T13:45:41.016631Z",
     "iopub.status.busy": "2022-11-01T13:45:41.016088Z",
     "iopub.status.idle": "2022-11-01T13:45:41.315011Z",
     "shell.execute_reply": "2022-11-01T13:45:41.314130Z"
    },
    "papermill": {
     "duration": 1.762953,
     "end_time": "2022-11-01T13:45:41.317093",
     "exception": false,
     "start_time": "2022-11-01T13:45:39.554140",
     "status": "completed"
    },
    "tags": []
   },
   "outputs": [
    {
     "data": {
      "text/plain": [
       "<AxesSubplot:>"
      ]
     },
     "execution_count": 34,
     "metadata": {},
     "output_type": "execute_result"
    },
    {
     "data": {
      "image/png": "[encoded data removed]",
      "text/plain": [
       "<Figure size 432x288 with 1 Axes>"
      ]
     },
     "metadata": {
      "needs_background": "light"
     },
     "output_type": "display_data"
    }
   ],
   "source": [
    "\n",
    "pd.DataFrame(val_loss).plot()"
   ]
  },
  {
   "cell_type": "code",
   "execution_count": 35,
   "id": "e9c4f76d",
   "metadata": {
    "execution": {
     "iopub.execute_input": "2022-11-01T13:45:44.902775Z",
     "iopub.status.busy": "2022-11-01T13:45:44.902224Z",
     "iopub.status.idle": "2022-11-01T13:45:45.209016Z",
     "shell.execute_reply": "2022-11-01T13:45:45.207995Z"
    },
    "papermill": {
     "duration": 2.172356,
     "end_time": "2022-11-01T13:45:45.211148",
     "exception": false,
     "start_time": "2022-11-01T13:45:43.038792",
     "status": "completed"
    },
    "tags": []
   },
   "outputs": [
    {
     "data": {
      "text/plain": [
       "<AxesSubplot:>"
      ]
     },
     "execution_count": 35,
     "metadata": {},
     "output_type": "execute_result"
    },
    {
     "data": {
      "image/png": "[encoded data removed]",
      "text/plain": [
       "<Figure size 432x288 with 1 Axes>"
      ]
     },
     "metadata": {
      "needs_background": "light"
     },
     "output_type": "display_data"
    }
   ],
   "source": [
    "\n",
    "pd.DataFrame(accuracy).plot()"
   ]
  },
  {
   "cell_type": "code",
   "execution_count": 36,
   "id": "e9e647cf",
   "metadata": {
    "execution": {
     "iopub.execute_input": "2022-11-01T13:45:48.102533Z",
     "iopub.status.busy": "2022-11-01T13:45:48.102153Z",
     "iopub.status.idle": "2022-11-01T13:46:04.578048Z",
     "shell.execute_reply": "2022-11-01T13:46:04.576999Z"
    },
    "papermill": {
     "duration": 17.974991,
     "end_time": "2022-11-01T13:46:04.580728",
     "exception": false,
     "start_time": "2022-11-01T13:45:46.605737",
     "status": "completed"
    },
    "tags": []
   },
   "outputs": [],
   "source": [
    "y_pred = model.predict(val_generator)"
   ]
  },
  {
   "cell_type": "code",
   "execution_count": 37,
   "id": "238fb06b",
   "metadata": {
    "execution": {
     "iopub.execute_input": "2022-11-01T13:46:07.467180Z",
     "iopub.status.busy": "2022-11-01T13:46:07.466760Z",
     "iopub.status.idle": "2022-11-01T13:46:07.471580Z",
     "shell.execute_reply": "2022-11-01T13:46:07.470575Z"
    },
    "papermill": {
     "duration": 1.44332,
     "end_time": "2022-11-01T13:46:07.473606",
     "exception": false,
     "start_time": "2022-11-01T13:46:06.030286",
     "status": "completed"
    },
    "tags": []
   },
   "outputs": [],
   "source": [
    "y_pred  = y_pred>0.5"
   ]
  },
  {
   "cell_type": "code",
   "execution_count": 38,
   "id": "ed88ee74",
   "metadata": {
    "execution": {
     "iopub.execute_input": "2022-11-01T13:46:10.289598Z",
     "iopub.status.busy": "2022-11-01T13:46:10.288897Z",
     "iopub.status.idle": "2022-11-01T13:46:10.293403Z",
     "shell.execute_reply": "2022-11-01T13:46:10.292424Z"
    },
    "papermill": {
     "duration": 1.469939,
     "end_time": "2022-11-01T13:46:10.295361",
     "exception": false,
     "start_time": "2022-11-01T13:46:08.825422",
     "status": "completed"
    },
    "tags": []
   },
   "outputs": [],
   "source": [
    "y_test = val_generator.classes"
   ]
  },
  {
   "cell_type": "code",
   "execution_count": 39,
   "id": "8c0dba5f",
   "metadata": {
    "execution": {
     "iopub.execute_input": "2022-11-01T13:46:13.199866Z",
     "iopub.status.busy": "2022-11-01T13:46:13.199480Z",
     "iopub.status.idle": "2022-11-01T13:46:13.206286Z",
     "shell.execute_reply": "2022-11-01T13:46:13.205335Z"
    },
    "papermill": {
     "duration": 1.451162,
     "end_time": "2022-11-01T13:46:13.208777",
     "exception": false,
     "start_time": "2022-11-01T13:46:11.757615",
     "status": "completed"
    },
    "tags": []
   },
   "outputs": [
    {
     "data": {
      "text/plain": [
       "array([[False],\n",
       "       [False],\n",
       "       [False],\n",
       "       ...,\n",
       "       [ True],\n",
       "       [False],\n",
       "       [False]])"
      ]
     },
     "execution_count": 39,
     "metadata": {},
     "output_type": "execute_result"
    }
   ],
   "source": [
    "y_pred "
   ]
  },
  {
   "cell_type": "code",
   "execution_count": 40,
   "id": "01aa215b",
   "metadata": {
    "execution": {
     "iopub.execute_input": "2022-11-01T13:46:16.686695Z",
     "iopub.status.busy": "2022-11-01T13:46:16.686326Z",
     "iopub.status.idle": "2022-11-01T13:46:16.983551Z",
     "shell.execute_reply": "2022-11-01T13:46:16.982513Z"
    },
    "papermill": {
     "duration": 2.25233,
     "end_time": "2022-11-01T13:46:16.985814",
     "exception": false,
     "start_time": "2022-11-01T13:46:14.733484",
     "status": "completed"
    },
    "tags": []
   },
   "outputs": [
    {
     "data": {
      "text/plain": [
       "Text(0.5, 1.0, 'Confusion Matrix')"
      ]
     },
     "execution_count": 40,
     "metadata": {},
     "output_type": "execute_result"
    },
    {
     "data": {
      "image/png": "[encoded data removed]",
      "text/plain": [
       "<Figure size 432x288 with 2 Axes>"
      ]
     },
     "metadata": {
      "needs_background": "light"
     },
     "output_type": "display_data"
    }
   ],
   "source": [
    "import seaborn as sns\n",
    "sns.heatmap(tf.math.confusion_matrix(y_test, y_pred), annot=True, fmt='g').set_title(\"Confusion Matrix\")\n"
   ]
  },
  {
   "cell_type": "code",
   "execution_count": 41,
   "id": "e1e2a1c1",
   "metadata": {
    "execution": {
     "iopub.execute_input": "2022-11-01T13:46:19.884767Z",
     "iopub.status.busy": "2022-11-01T13:46:19.884402Z",
     "iopub.status.idle": "2022-11-01T13:46:20.281482Z",
     "shell.execute_reply": "2022-11-01T13:46:20.280547Z"
    },
    "papermill": {
     "duration": 1.849256,
     "end_time": "2022-11-01T13:46:20.283466",
     "exception": false,
     "start_time": "2022-11-01T13:46:18.434210",
     "status": "completed"
    },
    "tags": []
   },
   "outputs": [
    {
     "data": {
      "image/png": "[encoded data removed]",
      "text/plain": [
       "<Figure size 432x288 with 1 Axes>"
      ]
     },
     "metadata": {
      "needs_background": "light"
     },
     "output_type": "display_data"
    }
   ],
   "source": [
    "from sklearn.metrics import confusion_matrix, roc_curve, auc, roc_auc_score\n",
    "import matplotlib.pyplot as plt\n",
    "fpr_keras, tpr_keras, thresholds_keras = roc_curve(y_test, y_pred)\n",
    "auc_keras = auc(fpr_keras, tpr_keras)\n",
    "plt.figure(1)\n",
    "plt.plot([0, 1], [0, 1], 'k--')\n",
    "plt.plot(fpr_keras, tpr_keras, label='area = {:.3f}'.format(auc_keras))\n",
    "plt.xlabel('False positive rate')\n",
    "plt.ylabel('True positive rate')\n",
    "plt.title('ROC curve')\n",
    "plt.legend(loc='best')\n",
    "plt.show()"
   ]
  },
  {
   "cell_type": "code",
   "execution_count": 42,
   "id": "7ec94057",
   "metadata": {
    "execution": {
     "iopub.execute_input": "2022-11-01T13:46:23.103719Z",
     "iopub.status.busy": "2022-11-01T13:46:23.103333Z",
     "iopub.status.idle": "2022-11-01T13:46:23.123023Z",
     "shell.execute_reply": "2022-11-01T13:46:23.122088Z"
    },
    "papermill": {
     "duration": 1.474003,
     "end_time": "2022-11-01T13:46:23.125266",
     "exception": false,
     "start_time": "2022-11-01T13:46:21.651263",
     "status": "completed"
    },
    "tags": []
   },
   "outputs": [
    {
     "name": "stdout",
     "output_type": "stream",
     "text": [
      "              precision    recall  f1-score   support\n",
      "\n",
      "           0       0.75      0.66      0.70      2536\n",
      "           1       0.69      0.77      0.73      2463\n",
      "\n",
      "    accuracy                           0.72      4999\n",
      "   macro avg       0.72      0.72      0.72      4999\n",
      "weighted avg       0.72      0.72      0.72      4999\n",
      "\n"
     ]
    }
   ],
   "source": [
    "from sklearn import metrics\n",
    "#Print classification report\n",
    "print(metrics.classification_report(y_test, y_pred))"
   ]
  },
  {
   "cell_type": "markdown",
   "id": "450e9ab3",
   "metadata": {
    "papermill": {
     "duration": 1.651182,
     "end_time": "2022-11-01T13:46:26.225609",
     "exception": false,
     "start_time": "2022-11-01T13:46:24.574427",
     "status": "completed"
    },
    "tags": []
   },
   "source": [
    "sensibility \n",
    "Specificity \n",
    "Accurancy "
   ]
  },
  {
   "cell_type": "code",
   "execution_count": 43,
   "id": "3dd84aa1",
   "metadata": {
    "execution": {
     "iopub.execute_input": "2022-11-01T13:46:28.983198Z",
     "iopub.status.busy": "2022-11-01T13:46:28.982810Z",
     "iopub.status.idle": "2022-11-01T13:46:28.992621Z",
     "shell.execute_reply": "2022-11-01T13:46:28.991741Z"
    },
    "papermill": {
     "duration": 1.424275,
     "end_time": "2022-11-01T13:46:28.994791",
     "exception": false,
     "start_time": "2022-11-01T13:46:27.570516",
     "status": "completed"
    },
    "tags": []
   },
   "outputs": [],
   "source": [
    "conf_matrix = tf.math.confusion_matrix(y_test, y_pred)"
   ]
  },
  {
   "cell_type": "code",
   "execution_count": 44,
   "id": "563e987b",
   "metadata": {
    "execution": {
     "iopub.execute_input": "2022-11-01T13:46:31.923479Z",
     "iopub.status.busy": "2022-11-01T13:46:31.923081Z",
     "iopub.status.idle": "2022-11-01T13:46:31.939983Z",
     "shell.execute_reply": "2022-11-01T13:46:31.938881Z"
    },
    "papermill": {
     "duration": 1.455777,
     "end_time": "2022-11-01T13:46:31.942173",
     "exception": false,
     "start_time": "2022-11-01T13:46:30.486396",
     "status": "completed"
    },
    "tags": []
   },
   "outputs": [
    {
     "name": "stdout",
     "output_type": "stream",
     "text": [
      "True Positives: tf.Tensor(1907, shape=(), dtype=int32)\n",
      "True Negatives: tf.Tensor(1674, shape=(), dtype=int32)\n",
      "False Positives: tf.Tensor(862, shape=(), dtype=int32)\n",
      "False Negatives: tf.Tensor(556, shape=(), dtype=int32)\n"
     ]
    }
   ],
   "source": [
    "# Creating a function to report confusion metrics\n",
    "\n",
    "# save confusion matrix and slice into four pieces\n",
    "TP = conf_matrix[1][1]\n",
    "TN = conf_matrix[0][0]\n",
    "FP = conf_matrix[0][1]\n",
    "FN = conf_matrix[1][0]\n",
    "print('True Positives:', TP)\n",
    "print('True Negatives:', TN)\n",
    "print('False Positives:', FP)\n",
    "print('False Negatives:', FN)"
   ]
  },
  {
   "cell_type": "code",
   "execution_count": 45,
   "id": "6dda6066",
   "metadata": {
    "execution": {
     "iopub.execute_input": "2022-11-01T13:46:34.769857Z",
     "iopub.status.busy": "2022-11-01T13:46:34.769496Z",
     "iopub.status.idle": "2022-11-01T13:46:34.779568Z",
     "shell.execute_reply": "2022-11-01T13:46:34.778678Z"
    },
    "papermill": {
     "duration": 1.486371,
     "end_time": "2022-11-01T13:46:34.781694",
     "exception": false,
     "start_time": "2022-11-01T13:46:33.295323",
     "status": "completed"
    },
    "tags": []
   },
   "outputs": [],
   "source": [
    "# calculate accuracy\n",
    "conf_accuracy = ((TP+TN) / (TP + TN + FP + FN))"
   ]
  },
  {
   "cell_type": "code",
   "execution_count": 46,
   "id": "b373312e",
   "metadata": {
    "execution": {
     "iopub.execute_input": "2022-11-01T13:46:37.928101Z",
     "iopub.status.busy": "2022-11-01T13:46:37.927721Z",
     "iopub.status.idle": "2022-11-01T13:46:37.937930Z",
     "shell.execute_reply": "2022-11-01T13:46:37.936807Z"
    },
    "papermill": {
     "duration": 1.636376,
     "end_time": "2022-11-01T13:46:37.939957",
     "exception": false,
     "start_time": "2022-11-01T13:46:36.303581",
     "status": "completed"
    },
    "tags": []
   },
   "outputs": [
    {
     "name": "stdout",
     "output_type": "stream",
     "text": [
      "****************************************************************************************************\n",
      "Accuracy: 0.72\n",
      "Mis-Classification: 0.28\n",
      "Sensitivity: 0.77\n",
      "Specificity: 0.66\n",
      "Precision: 0.66\n",
      "f_1 Score: 0.71\n",
      "****************************************************************************************************\n"
     ]
    }
   ],
   "source": [
    "# calculate accuracy\n",
    "conf_accuracy = (float(TP+TN) / float(TP + TN + FP + FN))\n",
    "    \n",
    "    # calculate mis-classification\n",
    "conf_misclassification = 1- conf_accuracy\n",
    "    \n",
    "    # calculate the sensitivity\n",
    "conf_sensitivity = (float(TP) / float(TP + FN))\n",
    "    # calculate the specificity\n",
    "conf_specificity = (float(TN) / float(TN + FP))\n",
    "    \n",
    "    # calculate precision\n",
    "conf_precision = (float(TN) / float(TN + FP))\n",
    "    # calculate f_1 score\n",
    "conf_f1 = 2 * ((conf_precision * conf_sensitivity) / (conf_precision + conf_sensitivity))\n",
    "print('*'*100)\n",
    "print(f'Accuracy: {round(conf_accuracy,2)}') \n",
    "print(f'Mis-Classification: {round(conf_misclassification,2)}') \n",
    "print(f'Sensitivity: {round(conf_sensitivity,2)}') \n",
    "print(f'Specificity: {round(conf_specificity,2)}') \n",
    "print(f'Precision: {round(conf_precision,2)}')\n",
    "print(f'f_1 Score: {round(conf_f1,2)}')\n",
    "\n",
    "print('*'*100)"
   ]
  },
  {
   "cell_type": "code",
   "execution_count": null,
   "id": "b63ae344",
   "metadata": {
    "papermill": {
     "duration": 1.471071,
     "end_time": "2022-11-01T13:46:40.772413",
     "exception": false,
     "start_time": "2022-11-01T13:46:39.301342",
     "status": "completed"
    },
    "tags": []
   },
   "outputs": [],
   "source": []
  }
 ],
 "metadata": {
  "kernelspec": {
   "display_name": "Python 3",
   "language": "python",
   "name": "python3"
  },
  "language_info": {
   "codemirror_mode": {
    "name": "ipython",
    "version": 3
   },
   "file_extension": ".py",
   "mimetype": "text/x-python",
   "name": "python",
   "nbconvert_exporter": "python",
   "pygments_lexer": "ipython3",
   "version": "3.7.12"
  },
  "papermill": {
   "default_parameters": {},
   "duration": 11126.116598,
   "end_time": "2022-11-01T13:46:45.233975",
   "environment_variables": {},
   "exception": null,
   "input_path": "__notebook__.ipynb",
   "output_path": "__notebook__.ipynb",
   "parameters": {},
   "start_time": "2022-11-01T10:41:19.117377",
   "version": "2.3.4"
  }
 },
 "nbformat": 4,
 "nbformat_minor": 5
}
